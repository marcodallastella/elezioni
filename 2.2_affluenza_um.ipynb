{
 "cells": [
  {
   "cell_type": "code",
   "execution_count": 7,
   "metadata": {},
   "outputs": [],
   "source": [
    "import requests\n",
    "import json\n",
    "import pandas as pd\n",
    "from time import sleep"
   ]
  },
  {
   "cell_type": "code",
   "execution_count": 8,
   "metadata": {},
   "outputs": [],
   "source": [
    "df = pd.read_csv('output/codici_umbria_er_20241117.csv', dtype=str)\n",
    "df_comuni = df[df['tipo'] == 'CM']\n",
    "# Filtering for only Emilia Romagna\n",
    "df_um = df_comuni[df_comuni['cod_regione'] == '10']"
   ]
  },
  {
   "cell_type": "code",
   "execution_count": 9,
   "metadata": {},
   "outputs": [
    {
     "name": "stderr",
     "output_type": "stream",
     "text": [
      "/var/folders/m0/g7ky_r7x67l1pv2zgg_fptx80000gn/T/ipykernel_82928/415415837.py:3: SettingWithCopyWarning: \n",
      "A value is trying to be set on a copy of a slice from a DataFrame.\n",
      "Try using .loc[row_indexer,col_indexer] = value instead\n",
      "\n",
      "See the caveats in the documentation: https://pandas.pydata.org/pandas-docs/stable/user_guide/indexing.html#returning-a-view-versus-a-copy\n",
      "  df_um['url_aff'] = df_um.apply(\n",
      "/var/folders/m0/g7ky_r7x67l1pv2zgg_fptx80000gn/T/ipykernel_82928/415415837.py:7: SettingWithCopyWarning: \n",
      "A value is trying to be set on a copy of a slice from a DataFrame.\n",
      "Try using .loc[row_indexer,col_indexer] = value instead\n",
      "\n",
      "See the caveats in the documentation: https://pandas.pydata.org/pandas-docs/stable/user_guide/indexing.html#returning-a-view-versus-a-copy\n",
      "  df_um['url'] = df_um.apply(\n"
     ]
    },
    {
     "data": {
      "text/html": [
       "<div>\n",
       "<style scoped>\n",
       "    .dataframe tbody tr th:only-of-type {\n",
       "        vertical-align: middle;\n",
       "    }\n",
       "\n",
       "    .dataframe tbody tr th {\n",
       "        vertical-align: top;\n",
       "    }\n",
       "\n",
       "    .dataframe thead th {\n",
       "        text-align: right;\n",
       "    }\n",
       "</style>\n",
       "<table border=\"1\" class=\"dataframe\">\n",
       "  <thead>\n",
       "    <tr style=\"text-align: right;\">\n",
       "      <th></th>\n",
       "      <th>cod</th>\n",
       "      <th>desc</th>\n",
       "      <th>tipo</th>\n",
       "      <th>tipo_comune</th>\n",
       "      <th>dt_agg</th>\n",
       "      <th>cod_ele</th>\n",
       "      <th>cod_regione</th>\n",
       "      <th>regione</th>\n",
       "      <th>cod_provincia</th>\n",
       "      <th>provincia</th>\n",
       "      <th>cod_provincia_2</th>\n",
       "      <th>cod_comune</th>\n",
       "      <th>url_aff</th>\n",
       "      <th>url</th>\n",
       "    </tr>\n",
       "  </thead>\n",
       "  <tbody>\n",
       "    <tr>\n",
       "      <th>396</th>\n",
       "      <td>103040580450</td>\n",
       "      <td>SANT'ANATOLIA DI NARCO</td>\n",
       "      <td>CM</td>\n",
       "      <td>N</td>\n",
       "      <td>NaN</td>\n",
       "      <td>7</td>\n",
       "      <td>10</td>\n",
       "      <td>UMBRIA</td>\n",
       "      <td>304</td>\n",
       "      <td>TERNI</td>\n",
       "      <td>058</td>\n",
       "      <td>0450</td>\n",
       "      <td>https://eleapi.interno.gov.it/siel/PX/votantiZ...</td>\n",
       "      <td>https://elezioni.interno.gov.it/risultati/2024...</td>\n",
       "    </tr>\n",
       "    <tr>\n",
       "      <th>395</th>\n",
       "      <td>103040580440</td>\n",
       "      <td>SAN GIUSTINO</td>\n",
       "      <td>CM</td>\n",
       "      <td>N</td>\n",
       "      <td>NaN</td>\n",
       "      <td>7</td>\n",
       "      <td>10</td>\n",
       "      <td>UMBRIA</td>\n",
       "      <td>304</td>\n",
       "      <td>TERNI</td>\n",
       "      <td>058</td>\n",
       "      <td>0440</td>\n",
       "      <td>https://eleapi.interno.gov.it/siel/PX/votantiZ...</td>\n",
       "      <td>https://elezioni.interno.gov.it/risultati/2024...</td>\n",
       "    </tr>\n",
       "    <tr>\n",
       "      <th>431</th>\n",
       "      <td>103040800190</td>\n",
       "      <td>MONTEFRANCO</td>\n",
       "      <td>CM</td>\n",
       "      <td>N</td>\n",
       "      <td>NaN</td>\n",
       "      <td>7</td>\n",
       "      <td>10</td>\n",
       "      <td>UMBRIA</td>\n",
       "      <td>304</td>\n",
       "      <td>TERNI</td>\n",
       "      <td>080</td>\n",
       "      <td>0190</td>\n",
       "      <td>https://eleapi.interno.gov.it/siel/PX/votantiZ...</td>\n",
       "      <td>https://elezioni.interno.gov.it/risultati/2024...</td>\n",
       "    </tr>\n",
       "  </tbody>\n",
       "</table>\n",
       "</div>"
      ],
      "text/plain": [
       "              cod                    desc tipo tipo_comune dt_agg cod_ele  \\\n",
       "396  103040580450  SANT'ANATOLIA DI NARCO   CM           N    NaN       7   \n",
       "395  103040580440            SAN GIUSTINO   CM           N    NaN       7   \n",
       "431  103040800190             MONTEFRANCO   CM           N    NaN       7   \n",
       "\n",
       "    cod_regione regione cod_provincia provincia cod_provincia_2 cod_comune  \\\n",
       "396          10  UMBRIA           304     TERNI             058       0450   \n",
       "395          10  UMBRIA           304     TERNI             058       0440   \n",
       "431          10  UMBRIA           304     TERNI             080       0190   \n",
       "\n",
       "                                               url_aff  \\\n",
       "396  https://eleapi.interno.gov.it/siel/PX/votantiZ...   \n",
       "395  https://eleapi.interno.gov.it/siel/PX/votantiZ...   \n",
       "431  https://eleapi.interno.gov.it/siel/PX/votantiZ...   \n",
       "\n",
       "                                                   url  \n",
       "396  https://elezioni.interno.gov.it/risultati/2024...  \n",
       "395  https://elezioni.interno.gov.it/risultati/2024...  \n",
       "431  https://elezioni.interno.gov.it/risultati/2024...  "
      ]
     },
     "execution_count": 9,
     "metadata": {},
     "output_type": "execute_result"
    }
   ],
   "source": [
    "BASE_URL = 'https://eleapi.interno.gov.it/siel/PX/votantiZ/DE/20241117/TE/07/PR/'\n",
    "\n",
    "df_um['url_aff'] = df_um.apply(\n",
    "    lambda row: f\"{BASE_URL}{row['cod_provincia']}/{row['tipo']}/{row['cod_comune']}\", axis=1\n",
    ")\n",
    "\n",
    "df_um['url'] = df_um.apply(\n",
    "    lambda row: f\"https://elezioni.interno.gov.it/risultati/20241117/regionali/votanti/italia/{row['cod_regione']}{row['cod_provincia_2']}{row['cod_comune']}\", axis=1\n",
    ")\n",
    "df_um.sample(3)"
   ]
  },
  {
   "cell_type": "code",
   "execution_count": 11,
   "metadata": {},
   "outputs": [
    {
     "name": "stdout",
     "output_type": "stream",
     "text": [
      "https://elezioni.interno.gov.it/risultati/20241117/regionali/votanti/italia/100580010\n"
     ]
    }
   ],
   "source": [
    "print(df_um['url'].head(1).iloc[0])\n"
   ]
  },
  {
   "cell_type": "code",
   "execution_count": null,
   "metadata": {},
   "outputs": [],
   "source": []
  }
 ],
 "metadata": {
  "kernelspec": {
   "display_name": "Python 3",
   "language": "python",
   "name": "python3"
  },
  "language_info": {
   "codemirror_mode": {
    "name": "ipython",
    "version": 3
   },
   "file_extension": ".py",
   "mimetype": "text/x-python",
   "name": "python",
   "nbconvert_exporter": "python",
   "pygments_lexer": "ipython3",
   "version": "3.10.11"
  }
 },
 "nbformat": 4,
 "nbformat_minor": 2
}
