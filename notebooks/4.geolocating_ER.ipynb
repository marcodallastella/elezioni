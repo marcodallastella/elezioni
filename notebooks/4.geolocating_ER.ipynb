{
 "cells": [
  {
   "cell_type": "code",
   "execution_count": null,
   "metadata": {},
   "outputs": [],
   "source": [
    "import pandas as pd\n",
    "from geopy.geocoders import Nominatim\n",
    "from geopy.extra.rate_limiter import RateLimiter\n",
    "import time"
   ]
  },
  {
   "cell_type": "code",
   "execution_count": 6,
   "metadata": {},
   "outputs": [],
   "source": [
    "df = pd.read_csv('../output/risultati_er.csv')"
   ]
  },
  {
   "cell_type": "code",
   "execution_count": 7,
   "metadata": {},
   "outputs": [
    {
     "name": "stdout",
     "output_type": "stream",
     "text": [
      "Starting geocoding process...\n"
     ]
    }
   ],
   "source": [
    "def geocode_comuni(df):\n",
    "\n",
    "    # Create a copy to avoid modifying the original DataFrame\n",
    "    df_geo = df.copy()\n",
    "    \n",
    "    # Initialize the geocoder\n",
    "    geolocator = Nominatim(user_agent=\"my_geocoder\")\n",
    "    # Create a rate-limited version to avoid overwhelming the service\n",
    "    geocode = RateLimiter(geolocator.geocode, min_delay_seconds=1)\n",
    "    \n",
    "    # Create empty columns for coordinates\n",
    "    df_geo['latitude'] = None\n",
    "    df_geo['longitude'] = None\n",
    "    \n",
    "    def get_coordinates(row):\n",
    "        try:\n",
    "            # Construct search query with comune and region for better accuracy\n",
    "            search_query = f\"{row['comune']}, {row['provincia']}, {row['regione']}, Italy\"\n",
    "            location = geocode(search_query)\n",
    "            \n",
    "            if location:\n",
    "                return pd.Series([location.latitude, location.longitude])\n",
    "            else:\n",
    "                return pd.Series([None, None])\n",
    "                \n",
    "        except Exception as e:\n",
    "            print(f\"Error geocoding {row['comune']}: {str(e)}\")\n",
    "            return pd.Series([None, None])\n",
    "    \n",
    "    # Apply geocoding to each row\n",
    "    print(\"Starting geocoding process...\")\n",
    "    coordinates = df_geo.apply(get_coordinates, axis=1)\n",
    "    df_geo[['latitude', 'longitude']] = coordinates\n",
    "    \n",
    "    return df_geo\n",
    "\n",
    "\n",
    "df_with_coordinates = geocode_comuni(df)\n",
    "\n",
    "# Save results to avoid geocoding again\n",
    "df_with_coordinates.to_csv('../output/viz/risultati_ER_w_coordinates.csv', index=False)"
   ]
  },
  {
   "cell_type": "code",
   "execution_count": null,
   "metadata": {},
   "outputs": [],
   "source": []
  }
 ],
 "metadata": {
  "kernelspec": {
   "display_name": "Python 3",
   "language": "python",
   "name": "python3"
  },
  "language_info": {
   "codemirror_mode": {
    "name": "ipython",
    "version": 3
   },
   "file_extension": ".py",
   "mimetype": "text/x-python",
   "name": "python",
   "nbconvert_exporter": "python",
   "pygments_lexer": "ipython3",
   "version": "3.10.11"
  }
 },
 "nbformat": 4,
 "nbformat_minor": 2
}
