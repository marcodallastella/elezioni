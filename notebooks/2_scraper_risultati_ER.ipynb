{
 "cells": [
  {
   "cell_type": "code",
   "execution_count": null,
   "metadata": {},
   "outputs": [],
   "source": [
    "import requests\n",
    "import json\n",
    "import pandas as pd\n",
    "from time import sleep"
   ]
  },
  {
   "cell_type": "code",
   "execution_count": null,
   "metadata": {},
   "outputs": [],
   "source": [
    "df = pd.read_csv('../output/codici_umbria_er_20241117.csv', dtype=str)\n",
    "df_comuni = df[df['tipo'] == 'CM']\n",
    "# Filtering for only Emilia Romagna\n",
    "df_er = df_comuni[df_comuni['cod_regione'] == '08']"
   ]
  },
  {
   "cell_type": "code",
   "execution_count": null,
   "metadata": {},
   "outputs": [],
   "source": [
    "BASE_URL = 'https://eleapi.interno.gov.it/siel/PX/scrutiniR/DE/20241117/TE/07/RE/'\n",
    "\n",
    "df_er['url_aff'] = df_er.apply(\n",
    "    lambda row: f\"{BASE_URL}{row['cod_regione']}/PR/{row['cod_provincia_2']}/CM/{row['cod_comune']}\", axis=1\n",
    ")\n",
    "\n",
    "df_er['url'] = df_er.apply(\n",
    "    lambda row: f\"https://elezioni.interno.gov.it/risultati/20241117/regionali/scrutini/italia/{row['cod_regione']}{row['cod_provincia']}{row['cod_comune']}\", axis=1\n",
    ")\n",
    "df_er.sample(3)"
   ]
  },
  {
   "cell_type": "code",
   "execution_count": null,
   "metadata": {},
   "outputs": [],
   "source": [
    "headers = {\n",
    "    'accept': 'application/json, text/plain, */*',\n",
    "    'accept-language': 'en-US,en;q=0.6',\n",
    "    'dnt': '1',\n",
    "    'origin': 'https://elezioni.interno.gov.it',\n",
    "    'priority': 'u=1, i',\n",
    "    'referer': 'https://elezioni.interno.gov.it/',\n",
    "    'sec-ch-ua-mobile': '?0',\n",
    "    'sec-ch-ua-platform': '\"macOS\"',\n",
    "    'sec-fetch-dest': 'empty',\n",
    "    'sec-fetch-mode': 'cors',\n",
    "    'sec-fetch-site': 'same-site',\n",
    "    'sec-gpc': '1'\n",
    "}"
   ]
  },
  {
   "cell_type": "code",
   "execution_count": null,
   "metadata": {},
   "outputs": [],
   "source": [
    "comuni_data = []\n",
    "\n",
    "for idx, url in enumerate(df_er['url_aff']):\n",
    "   print(f\"\\nProcessing record {idx + 1}\")\n",
    "   print(f\"URL: {url}\")\n",
    "\n",
    "   response = requests.get(url, headers=headers)\n",
    "   print(f\"Response status code: {response.status_code}\")\n",
    "   \n",
    "   data = response.json()\n",
    "\n",
    "   comune = df_er.iloc[idx]['desc']\n",
    "   provincia = df_er.iloc[idx]['provincia']\n",
    "   regione = df_er.iloc[idx]['regione']\n",
    "   url = df_er.iloc[idx]['url']\n",
    "\n",
    "   print(f\"Processing data for Comune: {comune}, Provincia: {provincia}\")\n",
    "\n",
    "   # Start with basic comune info\n",
    "   comune_info = {\n",
    "       'comune': comune,\n",
    "       'provincia': provincia,\n",
    "       'regione': regione,\n",
    "       'url': url\n",
    "   }\n",
    "   \n",
    "   # Add candidate totals\n",
    "   if 'cand' in data:\n",
    "       for cand in data['cand']:\n",
    "           nome_completo = cand['nome'] + \" \" + cand['cogn']\n",
    "           comune_info[f\"{nome_completo}_total\"] = cand['voti']\n",
    "           comune_info[f\"{nome_completo}_perc\"] = cand['perc']\n",
    "           print(f\"{nome_completo}: {cand['voti']} votes ({cand['perc']}%)\")\n",
    "\n",
    "   comuni_data.append(comune_info)\n",
    "   \n",
    "   print(f\"Processed {comune}\")\n",
    "   sleep(0.1)\n",
    "\n",
    "# Create DataFrame\n",
    "print(\"\\nCreating DataFrame...\")\n",
    "df_data = pd.DataFrame(comuni_data)\n",
    "\n",
    "print(\"\\nSample of processed data:\")\n",
    "print(df_data.head())"
   ]
  },
  {
   "cell_type": "code",
   "execution_count": null,
   "metadata": {},
   "outputs": [],
   "source": [
    "df_data"
   ]
  },
  {
   "cell_type": "code",
   "execution_count": null,
   "metadata": {},
   "outputs": [],
   "source": [
    "# df_data['perc_diff'] = round(((df_data['MICHELE DE PASCALE_total'] - df_data['ELENA UGOLINI_total']) / df_data['ELENA UGOLINI_total']) * 100, 2)\n",
    "\n",
    "# Get all columns containing '_total'\n",
    "total_columns = [col for col in df_data.columns if '_total' in col]\n",
    "\n",
    "# Sum all vote totals for each comune\n",
    "df_data['total_votes'] = df_data[total_columns].sum(axis=1)\n",
    "\n",
    "# Calculate the spectrum considering all votes\n",
    "df_data['vote_spectrum'] = round((df_data['MICHELE DE PASCALE_total'] / df_data['total_votes']) * 100, 2)"
   ]
  },
  {
   "cell_type": "code",
   "execution_count": null,
   "metadata": {},
   "outputs": [],
   "source": [
    "df_data['comune'] = df_data['comune'].str.title()\n",
    "df_data['provincia'] = df_data['provincia'].str.title()\n",
    "df_data['regione'] = df_data['regione'].str.title()\n",
    "df_data.head(2)"
   ]
  },
  {
   "cell_type": "code",
   "execution_count": null,
   "metadata": {},
   "outputs": [],
   "source": [
    "# Remove rows where 'comune' is either 'Sassofeltrio' or 'Montecopiolo'\n",
    "df_data = df_data[~df_data['comune'].isin(['Sassofeltrio', 'Montecopiolo'])]\n",
    "\n",
    "# Use .str.replace() to handle string replacement more safely\n",
    "df_data['comune'] = df_data['comune'].str.replace(\"Forli'\", \"Forlì\", regex=False)\n",
    "df_data['comune'] = df_data['comune'].str.replace(\"Montescudo - Monte Colombo\", \"Montescudo-Monte Colombo\", regex=False)"
   ]
  },
  {
   "cell_type": "code",
   "execution_count": null,
   "metadata": {},
   "outputs": [],
   "source": [
    "df_data.to_csv('../output/risultati_er.csv', index=False, encoding='UTF-8-sig')"
   ]
  }
 ],
 "metadata": {
  "kernelspec": {
   "display_name": "Python 3",
   "language": "python",
   "name": "python3"
  },
  "language_info": {
   "codemirror_mode": {
    "name": "ipython",
    "version": 3
   },
   "file_extension": ".py",
   "mimetype": "text/x-python",
   "name": "python",
   "nbconvert_exporter": "python",
   "pygments_lexer": "ipython3",
   "version": "3.10.11"
  }
 },
 "nbformat": 4,
 "nbformat_minor": 2
}
