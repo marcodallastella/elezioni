{
 "cells": [
  {
   "cell_type": "code",
   "execution_count": 2,
   "metadata": {},
   "outputs": [],
   "source": [
    "import requests\n",
    "import json\n",
    "import pandas as pd\n",
    "from time import sleep"
   ]
  },
  {
   "cell_type": "code",
   "execution_count": 3,
   "metadata": {},
   "outputs": [],
   "source": [
    "df = pd.read_csv('../output/codici_li.csv', dtype=str)\n",
    "# Filtering for only Comuni\n",
    "df_comuni = df[df['tipo'] == 'CM']"
   ]
  },
  {
   "cell_type": "code",
   "execution_count": 5,
   "metadata": {},
   "outputs": [],
   "source": [
    "# Create a copy of the DataFrame to avoid the warning\n",
    "df_comuni = df_comuni.copy()\n",
    "\n",
    "BASE_URL = 'https://eleapi.interno.gov.it/siel/PX/scrutiniR/DE/20241027/TE/07/RE/'\n",
    "\n",
    "df_comuni['url_aff'] = df_comuni.apply(\n",
    "    lambda row: f\"{BASE_URL}{row['cod_regione']}/PR/{row['cod_provincia_2']}/CM/{row['cod_comune']}\", axis=1\n",
    ")\n",
    "\n",
    "df_comuni['url'] = df_comuni.apply(\n",
    "    lambda row: f\"https://elezioni.interno.gov.it/risultati/20241117/regionali/scrutini/italia/{row['cod_regione']}{row['cod_provincia']}{row['cod_comune']}\", axis=1\n",
    ")"
   ]
  },
  {
   "cell_type": "code",
   "execution_count": 6,
   "metadata": {},
   "outputs": [],
   "source": [
    "headers = {\n",
    "    'accept': 'application/json, text/plain, */*',\n",
    "    'accept-language': 'en-US,en;q=0.6',\n",
    "    'dnt': '1',\n",
    "    'origin': 'https://elezioni.interno.gov.it',\n",
    "    'priority': 'u=1, i',\n",
    "    'referer': 'https://elezioni.interno.gov.it/',\n",
    "    'sec-ch-ua-mobile': '?0',\n",
    "    'sec-ch-ua-platform': '\"macOS\"',\n",
    "    'sec-fetch-dest': 'empty',\n",
    "    'sec-fetch-mode': 'cors',\n",
    "    'sec-fetch-site': 'same-site',\n",
    "    'sec-gpc': '1'\n",
    "}"
   ]
  },
  {
   "cell_type": "code",
   "execution_count": 7,
   "metadata": {},
   "outputs": [
    {
     "name": "stdout",
     "output_type": "stream",
     "text": [
      "Total URLs to process: 234\n",
      "\n",
      "Processing record 1\n",
      "URL: https://eleapi.interno.gov.it/siel/PX/scrutiniR/DE/20241027/TE/07/RE/07/PR/034/CM/0010\n",
      "Response status code: 200\n",
      "Processing data for Provincia: GENOVA, Regione: LIGURIA\n"
     ]
    },
    {
     "ename": "KeyError",
     "evalue": "'enti'",
     "output_type": "error",
     "traceback": [
      "\u001b[0;31m---------------------------------------------------------------------------\u001b[0m",
      "\u001b[0;31mKeyError\u001b[0m                                  Traceback (most recent call last)",
      "Cell \u001b[0;32mIn[7], line 20\u001b[0m\n\u001b[1;32m     17\u001b[0m \u001b[38;5;28mprint\u001b[39m(\u001b[38;5;124mf\u001b[39m\u001b[38;5;124m\"\u001b[39m\u001b[38;5;124mProcessing data for Provincia: \u001b[39m\u001b[38;5;132;01m{\u001b[39;00mprovincia\u001b[38;5;132;01m}\u001b[39;00m\u001b[38;5;124m, Regione: \u001b[39m\u001b[38;5;132;01m{\u001b[39;00mregione\u001b[38;5;132;01m}\u001b[39;00m\u001b[38;5;124m\"\u001b[39m)\n\u001b[1;32m     19\u001b[0m \u001b[38;5;66;03m# Get total number of updates available\u001b[39;00m\n\u001b[0;32m---> 20\u001b[0m n_updates \u001b[38;5;241m=\u001b[39m \u001b[38;5;28mlen\u001b[39m(\u001b[43mdata\u001b[49m\u001b[43m[\u001b[49m\u001b[38;5;124;43m'\u001b[39;49m\u001b[38;5;124;43menti\u001b[39;49m\u001b[38;5;124;43m'\u001b[39;49m\u001b[43m]\u001b[49m[\u001b[38;5;124m'\u001b[39m\u001b[38;5;124mente_p\u001b[39m\u001b[38;5;124m'\u001b[39m][\u001b[38;5;124m'\u001b[39m\u001b[38;5;124mcom_vot\u001b[39m\u001b[38;5;124m'\u001b[39m])\n\u001b[1;32m     21\u001b[0m \u001b[38;5;28mprint\u001b[39m(\u001b[38;5;124mf\u001b[39m\u001b[38;5;124m\"\u001b[39m\u001b[38;5;124mNumber of updates available: \u001b[39m\u001b[38;5;132;01m{\u001b[39;00mn_updates\u001b[38;5;132;01m}\u001b[39;00m\u001b[38;5;124m\"\u001b[39m)\n\u001b[1;32m     23\u001b[0m \u001b[38;5;66;03m# Process each update\u001b[39;00m\n",
      "\u001b[0;31mKeyError\u001b[0m: 'enti'"
     ]
    }
   ],
   "source": [
    "print(f\"Total URLs to process: {len(df_comuni['url_aff'])}\")\n",
    "\n",
    "comuni_data = []\n",
    "\n",
    "for idx, url in enumerate(df_comuni['url_aff']):\n",
    "    print(f\"\\nProcessing record {idx + 1}\")\n",
    "    print(f\"URL: {url}\")\n",
    "\n",
    "    response = requests.get(url, headers=headers)\n",
    "    print(f\"Response status code: {response.status_code}\")\n",
    "    \n",
    "    data = response.json()\n",
    "    \n",
    "    provincia = df_comuni.iloc[idx]['provincia']\n",
    "    regione = df_comuni.iloc[idx]['regione']\n",
    "    url = df_comuni.iloc[idx]['url']\n",
    "    print(f\"Processing data for Provincia: {provincia}, Regione: {regione}\")\n",
    "\n",
    "    # Get total number of updates available\n",
    "    n_updates = len(data['enti']['ente_p']['com_vot'])\n",
    "    print(f\"Number of updates available: {n_updates}\")\n",
    "\n",
    "    # Process each update\n",
    "    for n_update in range(n_updates):\n",
    "        raw_dt_com = str(data['enti']['ente_p']['com_vot'][n_update]['dt_com'])\n",
    "        date = raw_dt_com[:8]\n",
    "        time = raw_dt_com[8:12]\n",
    "\n",
    "        formatted_date = f\"{date[:4]}-{date[4:6]}-{date[6:]}\"\n",
    "        formatted_time = f\"{time[:2]}:{time[2:]}\"\n",
    "        print(f\"Processing update {n_update + 1}/{n_updates} - Timestamp: {formatted_date} {formatted_time}\")\n",
    "\n",
    "        comune_info = {\n",
    "            'ele_info': data['int']['t_ele'],\n",
    "            'comune': data['enti']['ente_p']['desc'],\n",
    "            'provincia': provincia,\n",
    "            'regione': regione,\n",
    "            'ele_f': data['enti']['ente_p']['ele_f'],\n",
    "            'ele_m': data['enti']['ente_p']['ele_m'],\n",
    "            'ele_t': data['enti']['ente_p']['ele_t'],\n",
    "            'perc': data['enti']['ente_p']['com_vot'][n_update]['perc'],\n",
    "            'perc_r': data['enti']['ente_p']['com_vot'][n_update]['perc_r'],\n",
    "            'vot_t': data['enti']['ente_p']['com_vot'][n_update]['vot_t'],\n",
    "            'data': formatted_date,\n",
    "            'ora': formatted_time,\n",
    "            'update_number': n_update,\n",
    "            'url': url\n",
    "        }\n",
    "        \n",
    "        print(f\"Comune: {comune_info['comune']} - Update {n_update}\")\n",
    "        print(f\"Electoral data - Total: {comune_info['ele_t']}, Female: {comune_info['ele_f']}, Male: {comune_info['ele_m']}\")\n",
    "        print(f\"Voting percentage: {comune_info['perc']}%, Reporting percentage: {comune_info['perc_r']}%\")\n",
    "\n",
    "        comuni_data.append(comune_info)\n",
    "    \n",
    "    print(f\"Waiting 0.2 seconds before next request...\")\n",
    "    sleep(0.2)\n",
    "\n",
    "print(\"\\nCreating DataFrame...\")\n",
    "df_data = pd.DataFrame(comuni_data)\n",
    "\n",
    "print(\"\\nConverting percentage columns to float...\")\n",
    "df_data['perc_r'] = df_data['perc_r'].str.replace(',', '.').astype(float)\n",
    "df_data['perc'] = df_data['perc'].str.replace(',', '.').astype(float)\n",
    "\n",
    "print(\"\\nFinal DataFrame shape:\", df_data.shape)\n",
    "print(\"\\nSample of processed data:\")\n",
    "print(df_data.head())"
   ]
  },
  {
   "cell_type": "code",
   "execution_count": null,
   "metadata": {},
   "outputs": [],
   "source": []
  }
 ],
 "metadata": {
  "kernelspec": {
   "display_name": "Python 3",
   "language": "python",
   "name": "python3"
  },
  "language_info": {
   "codemirror_mode": {
    "name": "ipython",
    "version": 3
   },
   "file_extension": ".py",
   "mimetype": "text/x-python",
   "name": "python",
   "nbconvert_exporter": "python",
   "pygments_lexer": "ipython3",
   "version": "3.10.11"
  }
 },
 "nbformat": 4,
 "nbformat_minor": 2
}
