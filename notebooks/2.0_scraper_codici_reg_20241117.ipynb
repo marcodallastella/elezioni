{
 "cells": [
  {
   "cell_type": "code",
   "execution_count": 1,
   "metadata": {},
   "outputs": [],
   "source": [
    "import requests\n",
    "import json\n",
    "import pandas as pd"
   ]
  },
  {
   "cell_type": "code",
   "execution_count": 2,
   "metadata": {},
   "outputs": [],
   "source": [
    "headers = {\n",
    "    'accept': 'application/json, text/plain, */*',\n",
    "    'accept-language': 'en-US,en;q=0.6',\n",
    "    'dnt': '1',\n",
    "    'origin': 'https://elezioni.interno.gov.it',\n",
    "    'priority': 'u=1, i',\n",
    "    'referer': 'https://elezioni.interno.gov.it/',\n",
    "    'sec-ch-ua-mobile': '?0',\n",
    "    'sec-ch-ua-platform': '\"macOS\"',\n",
    "    'sec-fetch-dest': 'empty',\n",
    "    'sec-fetch-mode': 'cors',\n",
    "    'sec-fetch-site': 'same-site',\n",
    "    'sec-gpc': '1',\n",
    "\n",
    "}\n",
    "\n",
    "url = 'https://eleapi.interno.gov.it/siel/PX/getentiR/DE/20241117'\n",
    "\n",
    "response = requests.get(url, headers=headers)\n",
    "data = response.json()"
   ]
  },
  {
   "cell_type": "code",
   "execution_count": 3,
   "metadata": {},
   "outputs": [
    {
     "data": {
      "text/html": [
       "<div>\n",
       "<style scoped>\n",
       "    .dataframe tbody tr th:only-of-type {\n",
       "        vertical-align: middle;\n",
       "    }\n",
       "\n",
       "    .dataframe tbody tr th {\n",
       "        vertical-align: top;\n",
       "    }\n",
       "\n",
       "    .dataframe thead th {\n",
       "        text-align: right;\n",
       "    }\n",
       "</style>\n",
       "<table border=\"1\" class=\"dataframe\">\n",
       "  <thead>\n",
       "    <tr style=\"text-align: right;\">\n",
       "      <th></th>\n",
       "      <th>cod</th>\n",
       "      <th>desc</th>\n",
       "      <th>tipo</th>\n",
       "      <th>tipo_comune</th>\n",
       "      <th>dt_agg</th>\n",
       "      <th>cod_ele</th>\n",
       "    </tr>\n",
       "  </thead>\n",
       "  <tbody>\n",
       "    <tr>\n",
       "      <th>0</th>\n",
       "      <td>080000000000</td>\n",
       "      <td>EMILIA-ROMAGNA</td>\n",
       "      <td>RE</td>\n",
       "      <td>None</td>\n",
       "      <td>None</td>\n",
       "      <td>7</td>\n",
       "    </tr>\n",
       "    <tr>\n",
       "      <th>1</th>\n",
       "      <td>080130000000</td>\n",
       "      <td>BOLOGNA</td>\n",
       "      <td>CR</td>\n",
       "      <td>None</td>\n",
       "      <td>None</td>\n",
       "      <td>7</td>\n",
       "    </tr>\n",
       "  </tbody>\n",
       "</table>\n",
       "</div>"
      ],
      "text/plain": [
       "            cod            desc tipo tipo_comune dt_agg  cod_ele\n",
       "0  080000000000  EMILIA-ROMAGNA   RE        None   None        7\n",
       "1  080130000000         BOLOGNA   CR        None   None        7"
      ]
     },
     "execution_count": 3,
     "metadata": {},
     "output_type": "execute_result"
    }
   ],
   "source": [
    "enti_data = []\n",
    "\n",
    "for ente in data['enti']:\n",
    "  ente_info = {\n",
    "    'cod' : ente['cod'],\n",
    "    'desc' : ente['desc'],\n",
    "    'tipo': ente['tipo'],\n",
    "    'tipo_comune': ente['tipo_comune'],\n",
    "    'dt_agg': ente['dt_agg'],\n",
    "    'cod_ele': ente['cod_ele']\n",
    "  }\n",
    "\n",
    "  enti_data.append(ente_info)\n",
    "\n",
    "enti_df = pd.DataFrame(enti_data)\n",
    "\n",
    "enti_df.head(2)"
   ]
  },
  {
   "cell_type": "code",
   "execution_count": 4,
   "metadata": {},
   "outputs": [],
   "source": [
    "df_pr = enti_df[enti_df['tipo'] == 'PR']\n",
    "province_mapping = df_pr.set_index(df_pr['cod'].str[2:5])['desc'].to_dict()\n",
    "\n",
    "def map_provincia(cod):\n",
    "    provincia_cod = cod[2:5]  # Extract the province code (3rd to 5th digits)\n",
    "    return province_mapping.get(provincia_cod, 'Unknown')\n",
    "\n",
    "df_re = enti_df[enti_df['tipo'] == 'RE']\n",
    "regione_mapping = df_re.set_index(df_re['cod'].str[:2])['desc'].to_dict()\n",
    "\n",
    "def map_regione(cod):\n",
    "    regione_cod = cod[:2]  # Extract the province code (3rd to 5th digits)\n",
    "    return regione_mapping.get(regione_cod, 'Unknown')"
   ]
  },
  {
   "cell_type": "code",
   "execution_count": 5,
   "metadata": {},
   "outputs": [
    {
     "data": {
      "text/html": [
       "<div>\n",
       "<style scoped>\n",
       "    .dataframe tbody tr th:only-of-type {\n",
       "        vertical-align: middle;\n",
       "    }\n",
       "\n",
       "    .dataframe tbody tr th {\n",
       "        vertical-align: top;\n",
       "    }\n",
       "\n",
       "    .dataframe thead th {\n",
       "        text-align: right;\n",
       "    }\n",
       "</style>\n",
       "<table border=\"1\" class=\"dataframe\">\n",
       "  <thead>\n",
       "    <tr style=\"text-align: right;\">\n",
       "      <th></th>\n",
       "      <th>cod</th>\n",
       "      <th>desc</th>\n",
       "      <th>tipo</th>\n",
       "      <th>tipo_comune</th>\n",
       "      <th>dt_agg</th>\n",
       "      <th>cod_ele</th>\n",
       "      <th>cod_regione</th>\n",
       "      <th>regione</th>\n",
       "      <th>cod_provincia</th>\n",
       "      <th>provincia</th>\n",
       "      <th>cod_provincia_2</th>\n",
       "      <th>cod_comune</th>\n",
       "    </tr>\n",
       "  </thead>\n",
       "  <tbody>\n",
       "    <tr>\n",
       "      <th>0</th>\n",
       "      <td>080000000000</td>\n",
       "      <td>EMILIA-ROMAGNA</td>\n",
       "      <td>RE</td>\n",
       "      <td>None</td>\n",
       "      <td>None</td>\n",
       "      <td>7</td>\n",
       "      <td>08</td>\n",
       "      <td>EMILIA-ROMAGNA</td>\n",
       "      <td>000</td>\n",
       "      <td>Unknown</td>\n",
       "      <td>000</td>\n",
       "      <td>0000</td>\n",
       "    </tr>\n",
       "    <tr>\n",
       "      <th>1</th>\n",
       "      <td>080130000000</td>\n",
       "      <td>BOLOGNA</td>\n",
       "      <td>CR</td>\n",
       "      <td>None</td>\n",
       "      <td>None</td>\n",
       "      <td>7</td>\n",
       "      <td>08</td>\n",
       "      <td>EMILIA-ROMAGNA</td>\n",
       "      <td>013</td>\n",
       "      <td>BOLOGNA</td>\n",
       "      <td>000</td>\n",
       "      <td>0000</td>\n",
       "    </tr>\n",
       "  </tbody>\n",
       "</table>\n",
       "</div>"
      ],
      "text/plain": [
       "            cod            desc tipo tipo_comune dt_agg  cod_ele cod_regione  \\\n",
       "0  080000000000  EMILIA-ROMAGNA   RE        None   None        7          08   \n",
       "1  080130000000         BOLOGNA   CR        None   None        7          08   \n",
       "\n",
       "          regione cod_provincia provincia cod_provincia_2 cod_comune  \n",
       "0  EMILIA-ROMAGNA           000   Unknown             000       0000  \n",
       "1  EMILIA-ROMAGNA           013   BOLOGNA             000       0000  "
      ]
     },
     "execution_count": 5,
     "metadata": {},
     "output_type": "execute_result"
    }
   ],
   "source": [
    "enti_df['cod_regione'] = enti_df['cod'].str[:2]\n",
    "enti_df['regione'] = enti_df['cod'].apply(map_regione)\n",
    "\n",
    "enti_df['cod_provincia'] = enti_df['cod'].str[2:5]\n",
    "enti_df['provincia'] = enti_df['cod'].apply(map_provincia)\n",
    "\n",
    "enti_df['cod_provincia_2'] = enti_df['cod'].str[5:8]\n",
    "enti_df['provincia'] = enti_df['cod'].apply(map_provincia)\n",
    "\n",
    "enti_df['cod_comune'] = enti_df['cod'].str.slice(-4)\n",
    "\n",
    "enti_df.head(2)"
   ]
  },
  {
   "cell_type": "code",
   "execution_count": null,
   "metadata": {},
   "outputs": [],
   "source": [
    "enti_df.to_csv('../output/codici_umbria_er_20241117.csv', index=False, encoding='UTF-8-sig')"
   ]
  }
 ],
 "metadata": {
  "kernelspec": {
   "display_name": "Python 3",
   "language": "python",
   "name": "python3"
  },
  "language_info": {
   "codemirror_mode": {
    "name": "ipython",
    "version": 3
   },
   "file_extension": ".py",
   "mimetype": "text/x-python",
   "name": "python",
   "nbconvert_exporter": "python",
   "pygments_lexer": "ipython3",
   "version": "3.10.11"
  }
 },
 "nbformat": 4,
 "nbformat_minor": 2
}
