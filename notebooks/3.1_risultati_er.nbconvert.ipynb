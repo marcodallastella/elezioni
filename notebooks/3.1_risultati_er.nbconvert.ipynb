{
 "cells": [
  {
   "cell_type": "code",
   "execution_count": 1,
   "metadata": {
    "execution": {
     "iopub.execute_input": "2024-11-18T18:27:13.943373Z",
     "iopub.status.busy": "2024-11-18T18:27:13.943142Z",
     "iopub.status.idle": "2024-11-18T18:27:14.257196Z",
     "shell.execute_reply": "2024-11-18T18:27:14.256604Z"
    }
   },
   "outputs": [],
   "source": [
    "import requests\n",
    "import json\n",
    "import pandas as pd\n",
    "from time import sleep"
   ]
  },
  {
   "cell_type": "code",
   "execution_count": 2,
   "metadata": {
    "execution": {
     "iopub.execute_input": "2024-11-18T18:27:14.259742Z",
     "iopub.status.busy": "2024-11-18T18:27:14.259265Z",
     "iopub.status.idle": "2024-11-18T18:27:14.267031Z",
     "shell.execute_reply": "2024-11-18T18:27:14.266420Z"
    }
   },
   "outputs": [],
   "source": [
    "df = pd.read_csv('../output/codici_umbria_er_20241117.csv', dtype=str)\n",
    "df_comuni = df[df['tipo'] == 'CM']\n",
    "# Filtering for only Emilia Romagna\n",
    "df_er = df_comuni[df_comuni['cod_regione'] == '08']"
   ]
  },
  {
   "cell_type": "code",
   "execution_count": 3,
   "metadata": {
    "execution": {
     "iopub.execute_input": "2024-11-18T18:27:14.269400Z",
     "iopub.status.busy": "2024-11-18T18:27:14.269021Z",
     "iopub.status.idle": "2024-11-18T18:27:14.291051Z",
     "shell.execute_reply": "2024-11-18T18:27:14.290372Z"
    }
   },
   "outputs": [
    {
     "name": "stderr",
     "output_type": "stream",
     "text": [
      "/tmp/ipykernel_1884/3372484651.py:3: SettingWithCopyWarning: \n",
      "A value is trying to be set on a copy of a slice from a DataFrame.\n",
      "Try using .loc[row_indexer,col_indexer] = value instead\n",
      "\n",
      "See the caveats in the documentation: https://pandas.pydata.org/pandas-docs/stable/user_guide/indexing.html#returning-a-view-versus-a-copy\n",
      "  df_er['url_aff'] = df_er.apply(\n",
      "/tmp/ipykernel_1884/3372484651.py:7: SettingWithCopyWarning: \n",
      "A value is trying to be set on a copy of a slice from a DataFrame.\n",
      "Try using .loc[row_indexer,col_indexer] = value instead\n",
      "\n",
      "See the caveats in the documentation: https://pandas.pydata.org/pandas-docs/stable/user_guide/indexing.html#returning-a-view-versus-a-copy\n",
      "  df_er['url'] = df_er.apply(\n"
     ]
    },
    {
     "data": {
      "text/html": [
       "<div>\n",
       "<style scoped>\n",
       "    .dataframe tbody tr th:only-of-type {\n",
       "        vertical-align: middle;\n",
       "    }\n",
       "\n",
       "    .dataframe tbody tr th {\n",
       "        vertical-align: top;\n",
       "    }\n",
       "\n",
       "    .dataframe thead th {\n",
       "        text-align: right;\n",
       "    }\n",
       "</style>\n",
       "<table border=\"1\" class=\"dataframe\">\n",
       "  <thead>\n",
       "    <tr style=\"text-align: right;\">\n",
       "      <th></th>\n",
       "      <th>cod</th>\n",
       "      <th>desc</th>\n",
       "      <th>tipo</th>\n",
       "      <th>tipo_comune</th>\n",
       "      <th>dt_agg</th>\n",
       "      <th>cod_ele</th>\n",
       "      <th>cod_regione</th>\n",
       "      <th>regione</th>\n",
       "      <th>cod_provincia</th>\n",
       "      <th>provincia</th>\n",
       "      <th>cod_provincia_2</th>\n",
       "      <th>cod_comune</th>\n",
       "      <th>url_aff</th>\n",
       "      <th>url</th>\n",
       "    </tr>\n",
       "  </thead>\n",
       "  <tbody>\n",
       "    <tr>\n",
       "      <th>19</th>\n",
       "      <td>080130130170</td>\n",
       "      <td>CASTELLO D'ARGILE</td>\n",
       "      <td>CM</td>\n",
       "      <td>N</td>\n",
       "      <td>NaN</td>\n",
       "      <td>7</td>\n",
       "      <td>08</td>\n",
       "      <td>EMILIA-ROMAGNA</td>\n",
       "      <td>013</td>\n",
       "      <td>BOLOGNA</td>\n",
       "      <td>013</td>\n",
       "      <td>0170</td>\n",
       "      <td>https://eleapi.interno.gov.it/siel/PX/scrutini...</td>\n",
       "      <td>https://elezioni.interno.gov.it/risultati/2024...</td>\n",
       "    </tr>\n",
       "    <tr>\n",
       "      <th>138</th>\n",
       "      <td>080500500240</td>\n",
       "      <td>MONTECRETO</td>\n",
       "      <td>CM</td>\n",
       "      <td>N</td>\n",
       "      <td>NaN</td>\n",
       "      <td>7</td>\n",
       "      <td>08</td>\n",
       "      <td>EMILIA-ROMAGNA</td>\n",
       "      <td>050</td>\n",
       "      <td>MODENA</td>\n",
       "      <td>050</td>\n",
       "      <td>0240</td>\n",
       "      <td>https://eleapi.interno.gov.it/siel/PX/scrutini...</td>\n",
       "      <td>https://elezioni.interno.gov.it/risultati/2024...</td>\n",
       "    </tr>\n",
       "    <tr>\n",
       "      <th>70</th>\n",
       "      <td>080290290110</td>\n",
       "      <td>LAGOSANTO</td>\n",
       "      <td>CM</td>\n",
       "      <td>N</td>\n",
       "      <td>NaN</td>\n",
       "      <td>7</td>\n",
       "      <td>08</td>\n",
       "      <td>EMILIA-ROMAGNA</td>\n",
       "      <td>029</td>\n",
       "      <td>FERRARA</td>\n",
       "      <td>029</td>\n",
       "      <td>0110</td>\n",
       "      <td>https://eleapi.interno.gov.it/siel/PX/scrutini...</td>\n",
       "      <td>https://elezioni.interno.gov.it/risultati/2024...</td>\n",
       "    </tr>\n",
       "  </tbody>\n",
       "</table>\n",
       "</div>"
      ],
      "text/plain": [
       "              cod               desc tipo tipo_comune dt_agg cod_ele  \\\n",
       "19   080130130170  CASTELLO D'ARGILE   CM           N    NaN       7   \n",
       "138  080500500240         MONTECRETO   CM           N    NaN       7   \n",
       "70   080290290110          LAGOSANTO   CM           N    NaN       7   \n",
       "\n",
       "    cod_regione         regione cod_provincia provincia cod_provincia_2  \\\n",
       "19           08  EMILIA-ROMAGNA           013   BOLOGNA             013   \n",
       "138          08  EMILIA-ROMAGNA           050    MODENA             050   \n",
       "70           08  EMILIA-ROMAGNA           029   FERRARA             029   \n",
       "\n",
       "    cod_comune                                            url_aff  \\\n",
       "19        0170  https://eleapi.interno.gov.it/siel/PX/scrutini...   \n",
       "138       0240  https://eleapi.interno.gov.it/siel/PX/scrutini...   \n",
       "70        0110  https://eleapi.interno.gov.it/siel/PX/scrutini...   \n",
       "\n",
       "                                                   url  \n",
       "19   https://elezioni.interno.gov.it/risultati/2024...  \n",
       "138  https://elezioni.interno.gov.it/risultati/2024...  \n",
       "70   https://elezioni.interno.gov.it/risultati/2024...  "
      ]
     },
     "execution_count": 3,
     "metadata": {},
     "output_type": "execute_result"
    }
   ],
   "source": [
    "BASE_URL = 'https://eleapi.interno.gov.it/siel/PX/scrutiniR/DE/20241117/TE/07/RE/'\n",
    "\n",
    "df_er['url_aff'] = df_er.apply(\n",
    "    lambda row: f\"{BASE_URL}{row['cod_regione']}/PR/{row['cod_provincia_2']}/CM/{row['cod_comune']}\", axis=1\n",
    ")\n",
    "\n",
    "df_er['url'] = df_er.apply(\n",
    "    lambda row: f\"https://elezioni.interno.gov.it/risultati/20241117/regionali/scrutini/italia/{row['cod_regione']}{row['cod_provincia']}{row['cod_comune']}\", axis=1\n",
    ")\n",
    "df_er.sample(3)"
   ]
  },
  {
   "cell_type": "code",
   "execution_count": 4,
   "metadata": {
    "execution": {
     "iopub.execute_input": "2024-11-18T18:27:14.328326Z",
     "iopub.status.busy": "2024-11-18T18:27:14.327945Z",
     "iopub.status.idle": "2024-11-18T18:27:14.331749Z",
     "shell.execute_reply": "2024-11-18T18:27:14.331185Z"
    }
   },
   "outputs": [],
   "source": [
    "headers = {\n",
    "    'accept': 'application/json, text/plain, */*',\n",
    "    'accept-language': 'en-US,en;q=0.6',\n",
    "    'dnt': '1',\n",
    "    'origin': 'https://elezioni.interno.gov.it',\n",
    "    'priority': 'u=1, i',\n",
    "    'referer': 'https://elezioni.interno.gov.it/',\n",
    "    'sec-ch-ua-mobile': '?0',\n",
    "    'sec-ch-ua-platform': '\"macOS\"',\n",
    "    'sec-fetch-dest': 'empty',\n",
    "    'sec-fetch-mode': 'cors',\n",
    "    'sec-fetch-site': 'same-site',\n",
    "    'sec-gpc': '1'\n",
    "}"
   ]
  },
  {
   "cell_type": "code",
   "execution_count": 5,
   "metadata": {
    "execution": {
     "iopub.execute_input": "2024-11-18T18:27:14.333676Z",
     "iopub.status.busy": "2024-11-18T18:27:14.333309Z",
     "iopub.status.idle": "2024-11-18T18:27:15.682711Z",
     "shell.execute_reply": "2024-11-18T18:27:15.682114Z"
    }
   },
   "outputs": [
    {
     "name": "stdout",
     "output_type": "stream",
     "text": [
      "\n",
      "Processing record 1\n",
      "URL: https://eleapi.interno.gov.it/siel/PX/scrutiniR/DE/20241117/TE/07/RE/08/PR/013/CM/0005\n"
     ]
    },
    {
     "name": "stdout",
     "output_type": "stream",
     "text": [
      "Response status code: 200\n",
      "Processing data for Comune: ALTO RENO TERME, Provincia: BOLOGNA\n",
      "MICHELE DE PASCALE: 1123 votes (48,93%)\n",
      "ELENA UGOLINI: 1095 votes (47,71%)\n",
      "FEDERICO SERRA: 57 votes (2,48%)\n",
      "LUCA TEODORI: 20 votes (0,87%)\n",
      "Processed ALTO RENO TERME\n",
      "\n",
      "Processing record 2\n",
      "URL: https://eleapi.interno.gov.it/siel/PX/scrutiniR/DE/20241117/TE/07/RE/08/PR/013/CM/0010\n"
     ]
    },
    {
     "name": "stdout",
     "output_type": "stream",
     "text": [
      "Response status code: 200\n",
      "Processing data for Comune: ANZOLA DELL'EMILIA, Provincia: BOLOGNA\n",
      "MICHELE DE PASCALE: 2992 votes (65,77%)\n",
      "ELENA UGOLINI: 1409 votes (30,97%)\n",
      "FEDERICO SERRA: 91 votes (2,00%)\n",
      "LUCA TEODORI: 57 votes (1,25%)\n",
      "Processed ANZOLA DELL'EMILIA\n",
      "\n",
      "Creating DataFrame...\n",
      "\n",
      "Sample of processed data:\n",
      "               comune provincia         regione  \\\n",
      "0     ALTO RENO TERME   BOLOGNA  EMILIA-ROMAGNA   \n",
      "1  ANZOLA DELL'EMILIA   BOLOGNA  EMILIA-ROMAGNA   \n",
      "\n",
      "                                                 url  \\\n",
      "0  https://elezioni.interno.gov.it/risultati/2024...   \n",
      "1  https://elezioni.interno.gov.it/risultati/2024...   \n",
      "\n",
      "   MICHELE DE PASCALE_total MICHELE DE PASCALE_perc  ELENA UGOLINI_total  \\\n",
      "0                      1123                   48,93                 1095   \n",
      "1                      2992                   65,77                 1409   \n",
      "\n",
      "  ELENA UGOLINI_perc  FEDERICO SERRA_total FEDERICO SERRA_perc  \\\n",
      "0              47,71                    57                2,48   \n",
      "1              30,97                    91                2,00   \n",
      "\n",
      "   LUCA TEODORI_total LUCA TEODORI_perc  \n",
      "0                  20              0,87  \n",
      "1                  57              1,25  \n"
     ]
    }
   ],
   "source": [
    "comuni_data = []\n",
    "\n",
    "for idx, url in enumerate(df_er['url_aff'][:2]):\n",
    "   print(f\"\\nProcessing record {idx + 1}\")\n",
    "   print(f\"URL: {url}\")\n",
    "\n",
    "   response = requests.get(url, headers=headers)\n",
    "   print(f\"Response status code: {response.status_code}\")\n",
    "   \n",
    "   data = response.json()\n",
    "\n",
    "   comune = df_er.iloc[idx]['desc']\n",
    "   provincia = df_er.iloc[idx]['provincia']\n",
    "   regione = df_er.iloc[idx]['regione']\n",
    "   url = df_er.iloc[idx]['url']\n",
    "\n",
    "   print(f\"Processing data for Comune: {comune}, Provincia: {provincia}\")\n",
    "\n",
    "   # Start with basic comune info\n",
    "   comune_info = {\n",
    "       'comune': comune,\n",
    "       'provincia': provincia,\n",
    "       'regione': regione,\n",
    "       'url': url\n",
    "   }\n",
    "   \n",
    "   # Add candidate totals\n",
    "   if 'cand' in data:\n",
    "       for cand in data['cand']:\n",
    "           nome_completo = cand['nome'] + \" \" + cand['cogn']\n",
    "           comune_info[f\"{nome_completo}_total\"] = cand['voti']\n",
    "           comune_info[f\"{nome_completo}_perc\"] = cand['perc']\n",
    "           print(f\"{nome_completo}: {cand['voti']} votes ({cand['perc']}%)\")\n",
    "\n",
    "   comuni_data.append(comune_info)\n",
    "   \n",
    "   print(f\"Processed {comune}\")\n",
    "   sleep(0.1)\n",
    "\n",
    "# Create DataFrame\n",
    "print(\"\\nCreating DataFrame...\")\n",
    "df_data = pd.DataFrame(comuni_data)\n",
    "\n",
    "print(\"\\nSample of processed data:\")\n",
    "print(df_data.head())"
   ]
  },
  {
   "cell_type": "code",
   "execution_count": 6,
   "metadata": {
    "execution": {
     "iopub.execute_input": "2024-11-18T18:27:15.684949Z",
     "iopub.status.busy": "2024-11-18T18:27:15.684546Z",
     "iopub.status.idle": "2024-11-18T18:27:15.693377Z",
     "shell.execute_reply": "2024-11-18T18:27:15.692866Z"
    }
   },
   "outputs": [
    {
     "data": {
      "text/html": [
       "<div>\n",
       "<style scoped>\n",
       "    .dataframe tbody tr th:only-of-type {\n",
       "        vertical-align: middle;\n",
       "    }\n",
       "\n",
       "    .dataframe tbody tr th {\n",
       "        vertical-align: top;\n",
       "    }\n",
       "\n",
       "    .dataframe thead th {\n",
       "        text-align: right;\n",
       "    }\n",
       "</style>\n",
       "<table border=\"1\" class=\"dataframe\">\n",
       "  <thead>\n",
       "    <tr style=\"text-align: right;\">\n",
       "      <th></th>\n",
       "      <th>comune</th>\n",
       "      <th>provincia</th>\n",
       "      <th>regione</th>\n",
       "      <th>url</th>\n",
       "      <th>MICHELE DE PASCALE_total</th>\n",
       "      <th>MICHELE DE PASCALE_perc</th>\n",
       "      <th>ELENA UGOLINI_total</th>\n",
       "      <th>ELENA UGOLINI_perc</th>\n",
       "      <th>FEDERICO SERRA_total</th>\n",
       "      <th>FEDERICO SERRA_perc</th>\n",
       "      <th>LUCA TEODORI_total</th>\n",
       "      <th>LUCA TEODORI_perc</th>\n",
       "    </tr>\n",
       "  </thead>\n",
       "  <tbody>\n",
       "    <tr>\n",
       "      <th>0</th>\n",
       "      <td>ALTO RENO TERME</td>\n",
       "      <td>BOLOGNA</td>\n",
       "      <td>EMILIA-ROMAGNA</td>\n",
       "      <td>https://elezioni.interno.gov.it/risultati/2024...</td>\n",
       "      <td>1123</td>\n",
       "      <td>48,93</td>\n",
       "      <td>1095</td>\n",
       "      <td>47,71</td>\n",
       "      <td>57</td>\n",
       "      <td>2,48</td>\n",
       "      <td>20</td>\n",
       "      <td>0,87</td>\n",
       "    </tr>\n",
       "    <tr>\n",
       "      <th>1</th>\n",
       "      <td>ANZOLA DELL'EMILIA</td>\n",
       "      <td>BOLOGNA</td>\n",
       "      <td>EMILIA-ROMAGNA</td>\n",
       "      <td>https://elezioni.interno.gov.it/risultati/2024...</td>\n",
       "      <td>2992</td>\n",
       "      <td>65,77</td>\n",
       "      <td>1409</td>\n",
       "      <td>30,97</td>\n",
       "      <td>91</td>\n",
       "      <td>2,00</td>\n",
       "      <td>57</td>\n",
       "      <td>1,25</td>\n",
       "    </tr>\n",
       "  </tbody>\n",
       "</table>\n",
       "</div>"
      ],
      "text/plain": [
       "               comune provincia         regione  \\\n",
       "0     ALTO RENO TERME   BOLOGNA  EMILIA-ROMAGNA   \n",
       "1  ANZOLA DELL'EMILIA   BOLOGNA  EMILIA-ROMAGNA   \n",
       "\n",
       "                                                 url  \\\n",
       "0  https://elezioni.interno.gov.it/risultati/2024...   \n",
       "1  https://elezioni.interno.gov.it/risultati/2024...   \n",
       "\n",
       "   MICHELE DE PASCALE_total MICHELE DE PASCALE_perc  ELENA UGOLINI_total  \\\n",
       "0                      1123                   48,93                 1095   \n",
       "1                      2992                   65,77                 1409   \n",
       "\n",
       "  ELENA UGOLINI_perc  FEDERICO SERRA_total FEDERICO SERRA_perc  \\\n",
       "0              47,71                    57                2,48   \n",
       "1              30,97                    91                2,00   \n",
       "\n",
       "   LUCA TEODORI_total LUCA TEODORI_perc  \n",
       "0                  20              0,87  \n",
       "1                  57              1,25  "
      ]
     },
     "execution_count": 6,
     "metadata": {},
     "output_type": "execute_result"
    }
   ],
   "source": [
    "df_data"
   ]
  },
  {
   "cell_type": "code",
   "execution_count": 7,
   "metadata": {
    "execution": {
     "iopub.execute_input": "2024-11-18T18:27:15.695424Z",
     "iopub.status.busy": "2024-11-18T18:27:15.695019Z",
     "iopub.status.idle": "2024-11-18T18:27:15.698989Z",
     "shell.execute_reply": "2024-11-18T18:27:15.698466Z"
    }
   },
   "outputs": [],
   "source": [
    "df_data['perc_diff'] = round(((df_data['MICHELE DE PASCALE_total'] - df_data['ELENA UGOLINI_total']) / df_data['ELENA UGOLINI_total']) * 100, 2)"
   ]
  },
  {
   "cell_type": "code",
   "execution_count": 8,
   "metadata": {
    "execution": {
     "iopub.execute_input": "2024-11-18T18:27:15.700973Z",
     "iopub.status.busy": "2024-11-18T18:27:15.700622Z",
     "iopub.status.idle": "2024-11-18T18:27:15.711588Z",
     "shell.execute_reply": "2024-11-18T18:27:15.711002Z"
    }
   },
   "outputs": [
    {
     "data": {
      "text/html": [
       "<div>\n",
       "<style scoped>\n",
       "    .dataframe tbody tr th:only-of-type {\n",
       "        vertical-align: middle;\n",
       "    }\n",
       "\n",
       "    .dataframe tbody tr th {\n",
       "        vertical-align: top;\n",
       "    }\n",
       "\n",
       "    .dataframe thead th {\n",
       "        text-align: right;\n",
       "    }\n",
       "</style>\n",
       "<table border=\"1\" class=\"dataframe\">\n",
       "  <thead>\n",
       "    <tr style=\"text-align: right;\">\n",
       "      <th></th>\n",
       "      <th>comune</th>\n",
       "      <th>provincia</th>\n",
       "      <th>regione</th>\n",
       "      <th>url</th>\n",
       "      <th>MICHELE DE PASCALE_total</th>\n",
       "      <th>MICHELE DE PASCALE_perc</th>\n",
       "      <th>ELENA UGOLINI_total</th>\n",
       "      <th>ELENA UGOLINI_perc</th>\n",
       "      <th>FEDERICO SERRA_total</th>\n",
       "      <th>FEDERICO SERRA_perc</th>\n",
       "      <th>LUCA TEODORI_total</th>\n",
       "      <th>LUCA TEODORI_perc</th>\n",
       "      <th>perc_diff</th>\n",
       "    </tr>\n",
       "  </thead>\n",
       "  <tbody>\n",
       "    <tr>\n",
       "      <th>0</th>\n",
       "      <td>Alto Reno Terme</td>\n",
       "      <td>Bologna</td>\n",
       "      <td>Emilia-Romagna</td>\n",
       "      <td>https://elezioni.interno.gov.it/risultati/2024...</td>\n",
       "      <td>1123</td>\n",
       "      <td>48,93</td>\n",
       "      <td>1095</td>\n",
       "      <td>47,71</td>\n",
       "      <td>57</td>\n",
       "      <td>2,48</td>\n",
       "      <td>20</td>\n",
       "      <td>0,87</td>\n",
       "      <td>2.56</td>\n",
       "    </tr>\n",
       "    <tr>\n",
       "      <th>1</th>\n",
       "      <td>Anzola Dell'Emilia</td>\n",
       "      <td>Bologna</td>\n",
       "      <td>Emilia-Romagna</td>\n",
       "      <td>https://elezioni.interno.gov.it/risultati/2024...</td>\n",
       "      <td>2992</td>\n",
       "      <td>65,77</td>\n",
       "      <td>1409</td>\n",
       "      <td>30,97</td>\n",
       "      <td>91</td>\n",
       "      <td>2,00</td>\n",
       "      <td>57</td>\n",
       "      <td>1,25</td>\n",
       "      <td>112.35</td>\n",
       "    </tr>\n",
       "  </tbody>\n",
       "</table>\n",
       "</div>"
      ],
      "text/plain": [
       "               comune provincia         regione  \\\n",
       "0     Alto Reno Terme   Bologna  Emilia-Romagna   \n",
       "1  Anzola Dell'Emilia   Bologna  Emilia-Romagna   \n",
       "\n",
       "                                                 url  \\\n",
       "0  https://elezioni.interno.gov.it/risultati/2024...   \n",
       "1  https://elezioni.interno.gov.it/risultati/2024...   \n",
       "\n",
       "   MICHELE DE PASCALE_total MICHELE DE PASCALE_perc  ELENA UGOLINI_total  \\\n",
       "0                      1123                   48,93                 1095   \n",
       "1                      2992                   65,77                 1409   \n",
       "\n",
       "  ELENA UGOLINI_perc  FEDERICO SERRA_total FEDERICO SERRA_perc  \\\n",
       "0              47,71                    57                2,48   \n",
       "1              30,97                    91                2,00   \n",
       "\n",
       "   LUCA TEODORI_total LUCA TEODORI_perc  perc_diff  \n",
       "0                  20              0,87       2.56  \n",
       "1                  57              1,25     112.35  "
      ]
     },
     "execution_count": 8,
     "metadata": {},
     "output_type": "execute_result"
    }
   ],
   "source": [
    "df_data['comune'] = df_data['comune'].str.title()\n",
    "df_data['provincia'] = df_data['provincia'].str.title()\n",
    "df_data['regione'] = df_data['regione'].str.title()\n",
    "df_data.head(2)"
   ]
  },
  {
   "cell_type": "code",
   "execution_count": 9,
   "metadata": {
    "execution": {
     "iopub.execute_input": "2024-11-18T18:27:15.713543Z",
     "iopub.status.busy": "2024-11-18T18:27:15.713168Z",
     "iopub.status.idle": "2024-11-18T18:27:15.717866Z",
     "shell.execute_reply": "2024-11-18T18:27:15.717238Z"
    }
   },
   "outputs": [],
   "source": [
    "# Remove rows where 'comune' is either 'Sassofeltrio' or 'Montecopiolo'\n",
    "df_data = df_data[~df_data['comune'].isin(['Sassofeltrio', 'Montecopiolo'])]\n",
    "\n",
    "# Use .str.replace() to handle string replacement more safely\n",
    "df_data['comune'] = df_data['comune'].str.replace(\"Forli'\", \"Forlì\", regex=False)\n",
    "df_data['comune'] = df_data['comune'].str.replace(\"Montescudo - Monte Colombo\", \"Montescudo-Monte Colombo\", regex=False)"
   ]
  },
  {
   "cell_type": "code",
   "execution_count": 10,
   "metadata": {
    "execution": {
     "iopub.execute_input": "2024-11-18T18:27:15.720035Z",
     "iopub.status.busy": "2024-11-18T18:27:15.719703Z",
     "iopub.status.idle": "2024-11-18T18:27:15.724393Z",
     "shell.execute_reply": "2024-11-18T18:27:15.723893Z"
    }
   },
   "outputs": [],
   "source": [
    "df_data.to_csv('../output/risultati_er.csv', index=False, encoding='UTF-8-sig')"
   ]
  }
 ],
 "metadata": {
  "kernelspec": {
   "display_name": "Python 3",
   "language": "python",
   "name": "python3"
  },
  "language_info": {
   "codemirror_mode": {
    "name": "ipython",
    "version": 3
   },
   "file_extension": ".py",
   "mimetype": "text/x-python",
   "name": "python",
   "nbconvert_exporter": "python",
   "pygments_lexer": "ipython3",
   "version": "3.10.15"
  }
 },
 "nbformat": 4,
 "nbformat_minor": 2
}
