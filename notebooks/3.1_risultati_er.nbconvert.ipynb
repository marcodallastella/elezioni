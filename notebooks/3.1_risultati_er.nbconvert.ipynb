{
 "cells": [
  {
   "cell_type": "code",
   "execution_count": 1,
   "metadata": {
    "execution": {
     "iopub.execute_input": "2024-11-19T03:42:57.832809Z",
     "iopub.status.busy": "2024-11-19T03:42:57.832589Z",
     "iopub.status.idle": "2024-11-19T03:42:58.146859Z",
     "shell.execute_reply": "2024-11-19T03:42:58.146256Z"
    }
   },
   "outputs": [],
   "source": [
    "import requests\n",
    "import json\n",
    "import pandas as pd\n",
    "from time import sleep"
   ]
  },
  {
   "cell_type": "code",
   "execution_count": 2,
   "metadata": {
    "execution": {
     "iopub.execute_input": "2024-11-19T03:42:58.149497Z",
     "iopub.status.busy": "2024-11-19T03:42:58.149028Z",
     "iopub.status.idle": "2024-11-19T03:42:58.157020Z",
     "shell.execute_reply": "2024-11-19T03:42:58.156388Z"
    }
   },
   "outputs": [],
   "source": [
    "df = pd.read_csv('../output/codici_umbria_er_20241117.csv', dtype=str)\n",
    "df_comuni = df[df['tipo'] == 'CM']\n",
    "# Filtering for only Emilia Romagna\n",
    "df_er = df_comuni[df_comuni['cod_regione'] == '08']"
   ]
  },
  {
   "cell_type": "code",
   "execution_count": 3,
   "metadata": {
    "execution": {
     "iopub.execute_input": "2024-11-19T03:42:58.159150Z",
     "iopub.status.busy": "2024-11-19T03:42:58.158803Z",
     "iopub.status.idle": "2024-11-19T03:42:58.181160Z",
     "shell.execute_reply": "2024-11-19T03:42:58.180532Z"
    }
   },
   "outputs": [
    {
     "name": "stderr",
     "output_type": "stream",
     "text": [
      "/tmp/ipykernel_1879/3372484651.py:3: SettingWithCopyWarning: \n",
      "A value is trying to be set on a copy of a slice from a DataFrame.\n",
      "Try using .loc[row_indexer,col_indexer] = value instead\n",
      "\n",
      "See the caveats in the documentation: https://pandas.pydata.org/pandas-docs/stable/user_guide/indexing.html#returning-a-view-versus-a-copy\n",
      "  df_er['url_aff'] = df_er.apply(\n",
      "/tmp/ipykernel_1879/3372484651.py:7: SettingWithCopyWarning: \n",
      "A value is trying to be set on a copy of a slice from a DataFrame.\n",
      "Try using .loc[row_indexer,col_indexer] = value instead\n",
      "\n",
      "See the caveats in the documentation: https://pandas.pydata.org/pandas-docs/stable/user_guide/indexing.html#returning-a-view-versus-a-copy\n",
      "  df_er['url'] = df_er.apply(\n"
     ]
    },
    {
     "data": {
      "text/html": [
       "<div>\n",
       "<style scoped>\n",
       "    .dataframe tbody tr th:only-of-type {\n",
       "        vertical-align: middle;\n",
       "    }\n",
       "\n",
       "    .dataframe tbody tr th {\n",
       "        vertical-align: top;\n",
       "    }\n",
       "\n",
       "    .dataframe thead th {\n",
       "        text-align: right;\n",
       "    }\n",
       "</style>\n",
       "<table border=\"1\" class=\"dataframe\">\n",
       "  <thead>\n",
       "    <tr style=\"text-align: right;\">\n",
       "      <th></th>\n",
       "      <th>cod</th>\n",
       "      <th>desc</th>\n",
       "      <th>tipo</th>\n",
       "      <th>tipo_comune</th>\n",
       "      <th>dt_agg</th>\n",
       "      <th>cod_ele</th>\n",
       "      <th>cod_regione</th>\n",
       "      <th>regione</th>\n",
       "      <th>cod_provincia</th>\n",
       "      <th>provincia</th>\n",
       "      <th>cod_provincia_2</th>\n",
       "      <th>cod_comune</th>\n",
       "      <th>url_aff</th>\n",
       "      <th>url</th>\n",
       "    </tr>\n",
       "  </thead>\n",
       "  <tbody>\n",
       "    <tr>\n",
       "      <th>192</th>\n",
       "      <td>080560560300</td>\n",
       "      <td>ROCCABIANCA</td>\n",
       "      <td>CM</td>\n",
       "      <td>N</td>\n",
       "      <td>NaN</td>\n",
       "      <td>7</td>\n",
       "      <td>08</td>\n",
       "      <td>EMILIA-ROMAGNA</td>\n",
       "      <td>056</td>\n",
       "      <td>PARMA</td>\n",
       "      <td>056</td>\n",
       "      <td>0300</td>\n",
       "      <td>https://eleapi.interno.gov.it/siel/PX/scrutini...</td>\n",
       "      <td>https://elezioni.interno.gov.it/risultati/2024...</td>\n",
       "    </tr>\n",
       "    <tr>\n",
       "      <th>161</th>\n",
       "      <td>080500500460</td>\n",
       "      <td>ZOCCA</td>\n",
       "      <td>CM</td>\n",
       "      <td>N</td>\n",
       "      <td>NaN</td>\n",
       "      <td>7</td>\n",
       "      <td>08</td>\n",
       "      <td>EMILIA-ROMAGNA</td>\n",
       "      <td>050</td>\n",
       "      <td>MODENA</td>\n",
       "      <td>050</td>\n",
       "      <td>0460</td>\n",
       "      <td>https://eleapi.interno.gov.it/siel/PX/scrutini...</td>\n",
       "      <td>https://elezioni.interno.gov.it/risultati/2024...</td>\n",
       "    </tr>\n",
       "    <tr>\n",
       "      <th>245</th>\n",
       "      <td>080610610380</td>\n",
       "      <td>RIVERGARO</td>\n",
       "      <td>CM</td>\n",
       "      <td>N</td>\n",
       "      <td>NaN</td>\n",
       "      <td>7</td>\n",
       "      <td>08</td>\n",
       "      <td>EMILIA-ROMAGNA</td>\n",
       "      <td>061</td>\n",
       "      <td>PIACENZA</td>\n",
       "      <td>061</td>\n",
       "      <td>0380</td>\n",
       "      <td>https://eleapi.interno.gov.it/siel/PX/scrutini...</td>\n",
       "      <td>https://elezioni.interno.gov.it/risultati/2024...</td>\n",
       "    </tr>\n",
       "  </tbody>\n",
       "</table>\n",
       "</div>"
      ],
      "text/plain": [
       "              cod         desc tipo tipo_comune dt_agg cod_ele cod_regione  \\\n",
       "192  080560560300  ROCCABIANCA   CM           N    NaN       7          08   \n",
       "161  080500500460        ZOCCA   CM           N    NaN       7          08   \n",
       "245  080610610380    RIVERGARO   CM           N    NaN       7          08   \n",
       "\n",
       "            regione cod_provincia provincia cod_provincia_2 cod_comune  \\\n",
       "192  EMILIA-ROMAGNA           056     PARMA             056       0300   \n",
       "161  EMILIA-ROMAGNA           050    MODENA             050       0460   \n",
       "245  EMILIA-ROMAGNA           061  PIACENZA             061       0380   \n",
       "\n",
       "                                               url_aff  \\\n",
       "192  https://eleapi.interno.gov.it/siel/PX/scrutini...   \n",
       "161  https://eleapi.interno.gov.it/siel/PX/scrutini...   \n",
       "245  https://eleapi.interno.gov.it/siel/PX/scrutini...   \n",
       "\n",
       "                                                   url  \n",
       "192  https://elezioni.interno.gov.it/risultati/2024...  \n",
       "161  https://elezioni.interno.gov.it/risultati/2024...  \n",
       "245  https://elezioni.interno.gov.it/risultati/2024...  "
      ]
     },
     "execution_count": 3,
     "metadata": {},
     "output_type": "execute_result"
    }
   ],
   "source": [
    "BASE_URL = 'https://eleapi.interno.gov.it/siel/PX/scrutiniR/DE/20241117/TE/07/RE/'\n",
    "\n",
    "df_er['url_aff'] = df_er.apply(\n",
    "    lambda row: f\"{BASE_URL}{row['cod_regione']}/PR/{row['cod_provincia_2']}/CM/{row['cod_comune']}\", axis=1\n",
    ")\n",
    "\n",
    "df_er['url'] = df_er.apply(\n",
    "    lambda row: f\"https://elezioni.interno.gov.it/risultati/20241117/regionali/scrutini/italia/{row['cod_regione']}{row['cod_provincia']}{row['cod_comune']}\", axis=1\n",
    ")\n",
    "df_er.sample(3)"
   ]
  },
  {
   "cell_type": "code",
   "execution_count": 4,
   "metadata": {
    "execution": {
     "iopub.execute_input": "2024-11-19T03:42:58.218074Z",
     "iopub.status.busy": "2024-11-19T03:42:58.217627Z",
     "iopub.status.idle": "2024-11-19T03:42:58.221414Z",
     "shell.execute_reply": "2024-11-19T03:42:58.220772Z"
    }
   },
   "outputs": [],
   "source": [
    "headers = {\n",
    "    'accept': 'application/json, text/plain, */*',\n",
    "    'accept-language': 'en-US,en;q=0.6',\n",
    "    'dnt': '1',\n",
    "    'origin': 'https://elezioni.interno.gov.it',\n",
    "    'priority': 'u=1, i',\n",
    "    'referer': 'https://elezioni.interno.gov.it/',\n",
    "    'sec-ch-ua-mobile': '?0',\n",
    "    'sec-ch-ua-platform': '\"macOS\"',\n",
    "    'sec-fetch-dest': 'empty',\n",
    "    'sec-fetch-mode': 'cors',\n",
    "    'sec-fetch-site': 'same-site',\n",
    "    'sec-gpc': '1'\n",
    "}"
   ]
  },
  {
   "cell_type": "code",
   "execution_count": 5,
   "metadata": {
    "execution": {
     "iopub.execute_input": "2024-11-19T03:42:58.223520Z",
     "iopub.status.busy": "2024-11-19T03:42:58.223004Z",
     "iopub.status.idle": "2024-11-19T03:47:14.378665Z",
     "shell.execute_reply": "2024-11-19T03:47:14.378040Z"
    }
   },
   "outputs": [
    {
     "name": "stdout",
     "output_type": "stream",
     "text": [
      "\n",
      "Processing record 1\n",
      "URL: https://eleapi.interno.gov.it/siel/PX/scrutiniR/DE/20241117/TE/07/RE/08/PR/013/CM/0005\n"
     ]
    },
    {
     "name": "stdout",
     "output_type": "stream",
     "text": [
      "Response status code: 200\n",
      "Processing data for Comune: ALTO RENO TERME, Provincia: BOLOGNA\n",
      "MICHELE DE PASCALE: 1240 votes (49,13%)\n",
      "ELENA UGOLINI: 1204 votes (47,70%)\n",
      "FEDERICO SERRA: 59 votes (2,34%)\n",
      "LUCA TEODORI: 21 votes (0,83%)\n",
      "Processed ALTO RENO TERME\n",
      "\n",
      "Processing record 2\n",
      "URL: https://eleapi.interno.gov.it/siel/PX/scrutiniR/DE/20241117/TE/07/RE/08/PR/013/CM/0010\n"
     ]
    },
    {
     "name": "stdout",
     "output_type": "stream",
     "text": [
      "Response status code: 200\n",
      "Processing data for Comune: ANZOLA DELL'EMILIA, Provincia: BOLOGNA\n",
      "MICHELE DE PASCALE: 3346 votes (66,04%)\n",
      "ELENA UGOLINI: 1561 votes (30,81%)\n",
      "FEDERICO SERRA: 97 votes (1,91%)\n",
      "LUCA TEODORI: 63 votes (1,24%)\n",
      "Processed ANZOLA DELL'EMILIA\n",
      "\n",
      "Processing record 3\n",
      "URL: https://eleapi.interno.gov.it/siel/PX/scrutiniR/DE/20241117/TE/07/RE/08/PR/013/CM/0020\n"
     ]
    },
    {
     "name": "stdout",
     "output_type": "stream",
     "text": [
      "Response status code: 200\n",
      "Processing data for Comune: ARGELATO, Provincia: BOLOGNA\n",
      "MICHELE DE PASCALE: 2536 votes (63,51%)\n",
      "ELENA UGOLINI: 1327 votes (33,23%)\n",
      "FEDERICO SERRA: 75 votes (1,88%)\n",
      "LUCA TEODORI: 55 votes (1,38%)\n",
      "Processed ARGELATO\n",
      "\n",
      "Processing record 4\n",
      "URL: https://eleapi.interno.gov.it/siel/PX/scrutiniR/DE/20241117/TE/07/RE/08/PR/013/CM/0030\n"
     ]
    },
    {
     "name": "stdout",
     "output_type": "stream",
     "text": [
      "Response status code: 200\n",
      "Processing data for Comune: BARICELLA, Provincia: BOLOGNA\n",
      "MICHELE DE PASCALE: 1277 votes (51,60%)\n",
      "ELENA UGOLINI: 1115 votes (45,05%)\n",
      "FEDERICO SERRA: 42 votes (1,70%)\n",
      "LUCA TEODORI: 41 votes (1,66%)\n",
      "Processed BARICELLA\n",
      "\n",
      "Processing record 5\n",
      "URL: https://eleapi.interno.gov.it/siel/PX/scrutiniR/DE/20241117/TE/07/RE/08/PR/013/CM/0050\n"
     ]
    },
    {
     "name": "stdout",
     "output_type": "stream",
     "text": [
      "Response status code: 200\n",
      "Processing data for Comune: BENTIVOGLIO, Provincia: BOLOGNA\n",
      "MICHELE DE PASCALE: 1357 votes (60,15%)\n",
      "ELENA UGOLINI: 806 votes (35,73%)\n",
      "FEDERICO SERRA: 54 votes (2,39%)\n",
      "LUCA TEODORI: 39 votes (1,73%)\n",
      "Processed BENTIVOGLIO\n",
      "\n",
      "Processing record 6\n",
      "URL: https://eleapi.interno.gov.it/siel/PX/scrutiniR/DE/20241117/TE/07/RE/08/PR/013/CM/0060\n"
     ]
    },
    {
     "name": "stdout",
     "output_type": "stream",
     "text": [
      "Response status code: 200\n",
      "Processing data for Comune: BOLOGNA, Provincia: BOLOGNA\n",
      "MICHELE DE PASCALE: 102589 votes (63,55%)\n",
      "ELENA UGOLINI: 51567 votes (31,94%)\n",
      "FEDERICO SERRA: 5548 votes (3,44%)\n",
      "LUCA TEODORI: 1733 votes (1,07%)\n",
      "Processed BOLOGNA\n",
      "\n",
      "Processing record 7\n",
      "URL: https://eleapi.interno.gov.it/siel/PX/scrutiniR/DE/20241117/TE/07/RE/08/PR/013/CM/0070\n"
     ]
    },
    {
     "name": "stdout",
     "output_type": "stream",
     "text": [
      "Response status code: 200\n",
      "Processing data for Comune: BORGO TOSSIGNANO, Provincia: BOLOGNA\n",
      "MICHELE DE PASCALE: 592 votes (55,64%)\n",
      "ELENA UGOLINI: 425 votes (39,94%)\n",
      "FEDERICO SERRA: 28 votes (2,63%)\n",
      "LUCA TEODORI: 19 votes (1,79%)\n",
      "Processed BORGO TOSSIGNANO\n",
      "\n",
      "Processing record 8\n",
      "URL: https://eleapi.interno.gov.it/siel/PX/scrutiniR/DE/20241117/TE/07/RE/08/PR/013/CM/0080\n"
     ]
    },
    {
     "name": "stdout",
     "output_type": "stream",
     "text": [
      "Response status code: 200\n",
      "Processing data for Comune: BUDRIO, Provincia: BOLOGNA\n",
      "MICHELE DE PASCALE: 4144 votes (55,41%)\n",
      "ELENA UGOLINI: 3061 votes (40,93%)\n",
      "FEDERICO SERRA: 182 votes (2,43%)\n",
      "LUCA TEODORI: 92 votes (1,23%)\n",
      "Processed BUDRIO\n",
      "\n",
      "Processing record 9\n",
      "URL: https://eleapi.interno.gov.it/siel/PX/scrutiniR/DE/20241117/TE/07/RE/08/PR/013/CM/0090\n"
     ]
    },
    {
     "name": "stdout",
     "output_type": "stream",
     "text": [
      "Response status code: 200\n",
      "Processing data for Comune: CALDERARA DI RENO, Provincia: BOLOGNA\n",
      "MICHELE DE PASCALE: 3798 votes (64,36%)\n",
      "ELENA UGOLINI: 1893 votes (32,08%)\n",
      "FEDERICO SERRA: 125 votes (2,12%)\n",
      "LUCA TEODORI: 85 votes (1,44%)\n",
      "Processed CALDERARA DI RENO\n",
      "\n",
      "Processing record 10\n",
      "URL: https://eleapi.interno.gov.it/siel/PX/scrutiniR/DE/20241117/TE/07/RE/08/PR/013/CM/0100\n"
     ]
    },
    {
     "name": "stdout",
     "output_type": "stream",
     "text": [
      "Response status code: 200\n",
      "Processing data for Comune: CAMUGNANO, Provincia: BOLOGNA\n",
      "ELENA UGOLINI: 409 votes (52,30%)\n",
      "MICHELE DE PASCALE: 351 votes (44,88%)\n",
      "LUCA TEODORI: 12 votes (1,53%)\n",
      "FEDERICO SERRA: 10 votes (1,28%)\n",
      "Processed CAMUGNANO\n",
      "\n",
      "Processing record 11\n",
      "URL: https://eleapi.interno.gov.it/siel/PX/scrutiniR/DE/20241117/TE/07/RE/08/PR/013/CM/0110\n"
     ]
    },
    {
     "name": "stdout",
     "output_type": "stream",
     "text": [
      "Response status code: 200\n",
      "Processing data for Comune: CASALECCHIO DI RENO, Provincia: BOLOGNA\n",
      "MICHELE DE PASCALE: 9514 votes (64,51%)\n",
      "ELENA UGOLINI: 4708 votes (31,93%)\n",
      "FEDERICO SERRA: 368 votes (2,50%)\n",
      "LUCA TEODORI: 157 votes (1,06%)\n",
      "Processed CASALECCHIO DI RENO\n",
      "\n",
      "Processing record 12\n",
      "URL: https://eleapi.interno.gov.it/siel/PX/scrutiniR/DE/20241117/TE/07/RE/08/PR/013/CM/0120\n"
     ]
    },
    {
     "name": "stdout",
     "output_type": "stream",
     "text": [
      "Response status code: 200\n",
      "Processing data for Comune: CASALFIUMANESE, Provincia: BOLOGNA\n",
      "MICHELE DE PASCALE: 700 votes (58,53%)\n",
      "ELENA UGOLINI: 455 votes (38,04%)\n",
      "FEDERICO SERRA: 22 votes (1,84%)\n",
      "LUCA TEODORI: 19 votes (1,59%)\n",
      "Processed CASALFIUMANESE\n",
      "\n",
      "Processing record 13\n",
      "URL: https://eleapi.interno.gov.it/siel/PX/scrutiniR/DE/20241117/TE/07/RE/08/PR/013/CM/0130\n"
     ]
    },
    {
     "name": "stdout",
     "output_type": "stream",
     "text": [
      "Response status code: 200\n",
      "Processing data for Comune: CASTEL D'AIANO, Provincia: BOLOGNA\n",
      "ELENA UGOLINI: 423 votes (53,07%)\n",
      "MICHELE DE PASCALE: 341 votes (42,79%)\n",
      "FEDERICO SERRA: 20 votes (2,51%)\n",
      "LUCA TEODORI: 13 votes (1,63%)\n",
      "Processed CASTEL D'AIANO\n",
      "\n",
      "Processing record 14\n",
      "URL: https://eleapi.interno.gov.it/siel/PX/scrutiniR/DE/20241117/TE/07/RE/08/PR/013/CM/0140\n"
     ]
    },
    {
     "name": "stdout",
     "output_type": "stream",
     "text": [
      "Response status code: 200\n",
      "Processing data for Comune: CASTEL DEL RIO, Provincia: BOLOGNA\n",
      "MICHELE DE PASCALE: 248 votes (55,48%)\n",
      "ELENA UGOLINI: 184 votes (41,16%)\n",
      "FEDERICO SERRA: 9 votes (2,01%)\n",
      "LUCA TEODORI: 6 votes (1,34%)\n",
      "Processed CASTEL DEL RIO\n",
      "\n",
      "Processing record 15\n",
      "URL: https://eleapi.interno.gov.it/siel/PX/scrutiniR/DE/20241117/TE/07/RE/08/PR/013/CM/0150\n"
     ]
    },
    {
     "name": "stdout",
     "output_type": "stream",
     "text": [
      "Response status code: 200\n",
      "Processing data for Comune: CASTEL DI CASIO, Provincia: BOLOGNA\n",
      "MICHELE DE PASCALE: 660 votes (49,62%)\n",
      "ELENA UGOLINI: 620 votes (46,62%)\n",
      "FEDERICO SERRA: 34 votes (2,56%)\n",
      "LUCA TEODORI: 16 votes (1,20%)\n",
      "Processed CASTEL DI CASIO\n",
      "\n",
      "Processing record 16\n",
      "URL: https://eleapi.interno.gov.it/siel/PX/scrutiniR/DE/20241117/TE/07/RE/08/PR/013/CM/0160\n"
     ]
    },
    {
     "name": "stdout",
     "output_type": "stream",
     "text": [
      "Response status code: 200\n",
      "Processing data for Comune: CASTEL GUELFO DI BOLOGNA, Provincia: BOLOGNA\n",
      "MICHELE DE PASCALE: 933 votes (53,74%)\n",
      "ELENA UGOLINI: 747 votes (43,03%)\n",
      "LUCA TEODORI: 29 votes (1,67%)\n",
      "FEDERICO SERRA: 27 votes (1,56%)\n",
      "Processed CASTEL GUELFO DI BOLOGNA\n",
      "\n",
      "Processing record 17\n",
      "URL: https://eleapi.interno.gov.it/siel/PX/scrutiniR/DE/20241117/TE/07/RE/08/PR/013/CM/0170\n"
     ]
    },
    {
     "name": "stdout",
     "output_type": "stream",
     "text": [
      "Response status code: 200\n",
      "Processing data for Comune: CASTELLO D'ARGILE, Provincia: BOLOGNA\n",
      "MICHELE DE PASCALE: 1376 votes (56,91%)\n",
      "ELENA UGOLINI: 970 votes (40,12%)\n",
      "LUCA TEODORI: 40 votes (1,65%)\n",
      "FEDERICO SERRA: 32 votes (1,32%)\n",
      "Processed CASTELLO D'ARGILE\n",
      "\n",
      "Processing record 18\n",
      "URL: https://eleapi.interno.gov.it/siel/PX/scrutiniR/DE/20241117/TE/07/RE/08/PR/013/CM/0190\n"
     ]
    },
    {
     "name": "stdout",
     "output_type": "stream",
     "text": [
      "Response status code: 200\n",
      "Processing data for Comune: CASTEL MAGGIORE, Provincia: BOLOGNA\n",
      "MICHELE DE PASCALE: 5307 votes (65,93%)\n",
      "ELENA UGOLINI: 2435 votes (30,25%)\n",
      "FEDERICO SERRA: 181 votes (2,25%)\n",
      "LUCA TEODORI: 127 votes (1,58%)\n",
      "Processed CASTEL MAGGIORE\n",
      "\n",
      "Processing record 19\n",
      "URL: https://eleapi.interno.gov.it/siel/PX/scrutiniR/DE/20241117/TE/07/RE/08/PR/013/CM/0200\n"
     ]
    },
    {
     "name": "stdout",
     "output_type": "stream",
     "text": [
      "Response status code: 200\n",
      "Processing data for Comune: CASTEL SAN PIETRO TERME, Provincia: BOLOGNA\n",
      "MICHELE DE PASCALE: 5195 votes (59,45%)\n",
      "ELENA UGOLINI: 3271 votes (37,43%)\n",
      "FEDERICO SERRA: 144 votes (1,65%)\n",
      "LUCA TEODORI: 129 votes (1,48%)\n",
      "Processed CASTEL SAN PIETRO TERME\n",
      "\n",
      "Processing record 20\n",
      "URL: https://eleapi.interno.gov.it/siel/PX/scrutiniR/DE/20241117/TE/07/RE/08/PR/013/CM/0210\n"
     ]
    },
    {
     "name": "stdout",
     "output_type": "stream",
     "text": [
      "Response status code: 200\n",
      "Processing data for Comune: CASTENASO, Provincia: BOLOGNA\n",
      "MICHELE DE PASCALE: 4717 votes (63,60%)\n",
      "ELENA UGOLINI: 2486 votes (33,52%)\n",
      "FEDERICO SERRA: 131 votes (1,77%)\n",
      "LUCA TEODORI: 83 votes (1,12%)\n",
      "Processed CASTENASO\n",
      "\n",
      "Processing record 21\n",
      "URL: https://eleapi.interno.gov.it/siel/PX/scrutiniR/DE/20241117/TE/07/RE/08/PR/013/CM/0220\n"
     ]
    },
    {
     "name": "stdout",
     "output_type": "stream",
     "text": [
      "Response status code: 200\n",
      "Processing data for Comune: CASTIGLIONE DEI PEPOLI, Provincia: BOLOGNA\n",
      "MICHELE DE PASCALE: 1250 votes (58,22%)\n",
      "ELENA UGOLINI: 831 votes (38,71%)\n",
      "LUCA TEODORI: 38 votes (1,77%)\n",
      "FEDERICO SERRA: 28 votes (1,30%)\n",
      "Processed CASTIGLIONE DEI PEPOLI\n",
      "\n",
      "Processing record 22\n",
      "URL: https://eleapi.interno.gov.it/siel/PX/scrutiniR/DE/20241117/TE/07/RE/08/PR/013/CM/0240\n"
     ]
    },
    {
     "name": "stdout",
     "output_type": "stream",
     "text": [
      "Response status code: 200\n",
      "Processing data for Comune: CREVALCORE, Provincia: BOLOGNA\n",
      "MICHELE DE PASCALE: 2810 votes (56,31%)\n",
      "ELENA UGOLINI: 2048 votes (41,04%)\n",
      "FEDERICO SERRA: 78 votes (1,56%)\n",
      "LUCA TEODORI: 54 votes (1,08%)\n",
      "Processed CREVALCORE\n",
      "\n",
      "Processing record 23\n",
      "URL: https://eleapi.interno.gov.it/siel/PX/scrutiniR/DE/20241117/TE/07/RE/08/PR/013/CM/0250\n"
     ]
    },
    {
     "name": "stdout",
     "output_type": "stream",
     "text": [
      "Response status code: 200\n",
      "Processing data for Comune: DOZZA, Provincia: BOLOGNA\n",
      "MICHELE DE PASCALE: 1212 votes (51,29%)\n",
      "ELENA UGOLINI: 1073 votes (45,41%)\n",
      "LUCA TEODORI: 39 votes (1,65%)\n",
      "FEDERICO SERRA: 39 votes (1,65%)\n",
      "Processed DOZZA\n",
      "\n",
      "Processing record 24\n",
      "URL: https://eleapi.interno.gov.it/siel/PX/scrutiniR/DE/20241117/TE/07/RE/08/PR/013/CM/0260\n"
     ]
    },
    {
     "name": "stdout",
     "output_type": "stream",
     "text": [
      "Response status code: 200\n",
      "Processing data for Comune: FONTANELICE, Provincia: BOLOGNA\n",
      "MICHELE DE PASCALE: 367 votes (48,93%)\n",
      "ELENA UGOLINI: 348 votes (46,40%)\n",
      "FEDERICO SERRA: 20 votes (2,67%)\n",
      "LUCA TEODORI: 15 votes (2,00%)\n",
      "Processed FONTANELICE\n",
      "\n",
      "Processing record 25\n",
      "URL: https://eleapi.interno.gov.it/siel/PX/scrutiniR/DE/20241117/TE/07/RE/08/PR/013/CM/0270\n"
     ]
    },
    {
     "name": "stdout",
     "output_type": "stream",
     "text": [
      "Response status code: 200\n",
      "Processing data for Comune: GAGGIO MONTANO, Provincia: BOLOGNA\n",
      "ELENA UGOLINI: 1017 votes (58,28%)\n",
      "MICHELE DE PASCALE: 684 votes (39,20%)\n",
      "LUCA TEODORI: 23 votes (1,32%)\n",
      "FEDERICO SERRA: 21 votes (1,20%)\n",
      "Processed GAGGIO MONTANO\n",
      "\n",
      "Processing record 26\n",
      "URL: https://eleapi.interno.gov.it/siel/PX/scrutiniR/DE/20241117/TE/07/RE/08/PR/013/CM/0280\n"
     ]
    },
    {
     "name": "stdout",
     "output_type": "stream",
     "text": [
      "Response status code: 200\n",
      "Processing data for Comune: GALLIERA, Provincia: BOLOGNA\n",
      "MICHELE DE PASCALE: 1006 votes (55,67%)\n",
      "ELENA UGOLINI: 741 votes (41,01%)\n",
      "FEDERICO SERRA: 34 votes (1,88%)\n",
      "LUCA TEODORI: 26 votes (1,44%)\n",
      "Processed GALLIERA\n",
      "\n",
      "Processing record 27\n",
      "URL: https://eleapi.interno.gov.it/siel/PX/scrutiniR/DE/20241117/TE/07/RE/08/PR/013/CM/0300\n"
     ]
    },
    {
     "name": "stdout",
     "output_type": "stream",
     "text": [
      "Response status code: 200\n",
      "Processing data for Comune: GRANAROLO DELL'EMILIA, Provincia: BOLOGNA\n",
      "MICHELE DE PASCALE: 3417 votes (61,86%)\n",
      "ELENA UGOLINI: 1930 votes (34,94%)\n",
      "FEDERICO SERRA: 121 votes (2,19%)\n",
      "LUCA TEODORI: 56 votes (1,01%)\n",
      "Processed GRANAROLO DELL'EMILIA\n",
      "\n",
      "Processing record 28\n",
      "URL: https://eleapi.interno.gov.it/siel/PX/scrutiniR/DE/20241117/TE/07/RE/08/PR/013/CM/0310\n"
     ]
    },
    {
     "name": "stdout",
     "output_type": "stream",
     "text": [
      "Response status code: 200\n",
      "Processing data for Comune: GRIZZANA MORANDI, Provincia: BOLOGNA\n",
      "MICHELE DE PASCALE: 855 votes (59,01%)\n",
      "ELENA UGOLINI: 529 votes (36,51%)\n",
      "FEDERICO SERRA: 37 votes (2,55%)\n",
      "LUCA TEODORI: 28 votes (1,93%)\n",
      "Processed GRIZZANA MORANDI\n",
      "\n",
      "Processing record 29\n",
      "URL: https://eleapi.interno.gov.it/siel/PX/scrutiniR/DE/20241117/TE/07/RE/08/PR/013/CM/0320\n"
     ]
    },
    {
     "name": "stdout",
     "output_type": "stream",
     "text": [
      "Response status code: 200\n",
      "Processing data for Comune: IMOLA, Provincia: BOLOGNA\n",
      "MICHELE DE PASCALE: 17092 votes (63,45%)\n",
      "ELENA UGOLINI: 8974 votes (33,32%)\n",
      "FEDERICO SERRA: 558 votes (2,07%)\n",
      "LUCA TEODORI: 312 votes (1,16%)\n",
      "Processed IMOLA\n",
      "\n",
      "Processing record 30\n",
      "URL: https://eleapi.interno.gov.it/siel/PX/scrutiniR/DE/20241117/TE/07/RE/08/PR/013/CM/0330\n"
     ]
    },
    {
     "name": "stdout",
     "output_type": "stream",
     "text": [
      "Response status code: 200\n",
      "Processing data for Comune: LIZZANO IN BELVEDERE, Provincia: BOLOGNA\n",
      "ELENA UGOLINI: 493 votes (53,24%)\n",
      "MICHELE DE PASCALE: 406 votes (43,84%)\n",
      "FEDERICO SERRA: 15 votes (1,62%)\n",
      "LUCA TEODORI: 12 votes (1,30%)\n",
      "Processed LIZZANO IN BELVEDERE\n",
      "\n",
      "Processing record 31\n",
      "URL: https://eleapi.interno.gov.it/siel/PX/scrutiniR/DE/20241117/TE/07/RE/08/PR/013/CM/0340\n"
     ]
    },
    {
     "name": "stdout",
     "output_type": "stream",
     "text": [
      "Response status code: 200\n",
      "Processing data for Comune: LOIANO, Provincia: BOLOGNA\n",
      "MICHELE DE PASCALE: 854 votes (50,18%)\n",
      "ELENA UGOLINI: 770 votes (45,24%)\n",
      "LUCA TEODORI: 47 votes (2,76%)\n",
      "FEDERICO SERRA: 31 votes (1,82%)\n",
      "Processed LOIANO\n",
      "\n",
      "Processing record 32\n",
      "URL: https://eleapi.interno.gov.it/siel/PX/scrutiniR/DE/20241117/TE/07/RE/08/PR/013/CM/0350\n"
     ]
    },
    {
     "name": "stdout",
     "output_type": "stream",
     "text": [
      "Response status code: 200\n",
      "Processing data for Comune: MALALBERGO, Provincia: BOLOGNA\n",
      "MICHELE DE PASCALE: 1679 votes (54,06%)\n",
      "ELENA UGOLINI: 1330 votes (42,82%)\n",
      "FEDERICO SERRA: 54 votes (1,74%)\n",
      "LUCA TEODORI: 43 votes (1,38%)\n",
      "Processed MALALBERGO\n",
      "\n",
      "Processing record 33\n",
      "URL: https://eleapi.interno.gov.it/siel/PX/scrutiniR/DE/20241117/TE/07/RE/08/PR/013/CM/0360\n"
     ]
    },
    {
     "name": "stdout",
     "output_type": "stream",
     "text": [
      "Response status code: 200\n",
      "Processing data for Comune: MARZABOTTO, Provincia: BOLOGNA\n",
      "MICHELE DE PASCALE: 1565 votes (59,30%)\n",
      "ELENA UGOLINI: 970 votes (36,76%)\n",
      "FEDERICO SERRA: 73 votes (2,77%)\n",
      "LUCA TEODORI: 31 votes (1,17%)\n",
      "Processed MARZABOTTO\n",
      "\n",
      "Processing record 34\n",
      "URL: https://eleapi.interno.gov.it/siel/PX/scrutiniR/DE/20241117/TE/07/RE/08/PR/013/CM/0370\n"
     ]
    },
    {
     "name": "stdout",
     "output_type": "stream",
     "text": [
      "Response status code: 200\n",
      "Processing data for Comune: MEDICINA, Provincia: BOLOGNA\n",
      "MICHELE DE PASCALE: 3896 votes (59,58%)\n",
      "ELENA UGOLINI: 2410 votes (36,86%)\n",
      "FEDERICO SERRA: 164 votes (2,51%)\n",
      "LUCA TEODORI: 69 votes (1,06%)\n",
      "Processed MEDICINA\n",
      "\n",
      "Processing record 35\n",
      "URL: https://eleapi.interno.gov.it/siel/PX/scrutiniR/DE/20241117/TE/07/RE/08/PR/013/CM/0380\n"
     ]
    },
    {
     "name": "stdout",
     "output_type": "stream",
     "text": [
      "Response status code: 200\n",
      "Processing data for Comune: MINERBIO, Provincia: BOLOGNA\n",
      "MICHELE DE PASCALE: 1890 votes (56,71%)\n",
      "ELENA UGOLINI: 1342 votes (40,26%)\n",
      "FEDERICO SERRA: 66 votes (1,98%)\n",
      "LUCA TEODORI: 35 votes (1,05%)\n",
      "Processed MINERBIO\n",
      "\n",
      "Processing record 36\n",
      "URL: https://eleapi.interno.gov.it/siel/PX/scrutiniR/DE/20241117/TE/07/RE/08/PR/013/CM/0390\n"
     ]
    },
    {
     "name": "stdout",
     "output_type": "stream",
     "text": [
      "Response status code: 200\n",
      "Processing data for Comune: MOLINELLA, Provincia: BOLOGNA\n",
      "ELENA UGOLINI: 3182 votes (55,09%)\n",
      "MICHELE DE PASCALE: 2434 votes (42,14%)\n",
      "FEDERICO SERRA: 84 votes (1,45%)\n",
      "LUCA TEODORI: 76 votes (1,32%)\n",
      "Processed MOLINELLA\n",
      "\n",
      "Processing record 37\n",
      "URL: https://eleapi.interno.gov.it/siel/PX/scrutiniR/DE/20241117/TE/07/RE/08/PR/013/CM/0400\n"
     ]
    },
    {
     "name": "stdout",
     "output_type": "stream",
     "text": [
      "Response status code: 200\n",
      "Processing data for Comune: MONGHIDORO, Provincia: BOLOGNA\n",
      "ELENA UGOLINI: 778 votes (53,73%)\n",
      "MICHELE DE PASCALE: 623 votes (43,02%)\n",
      "FEDERICO SERRA: 29 votes (2,00%)\n",
      "LUCA TEODORI: 18 votes (1,24%)\n",
      "Processed MONGHIDORO\n",
      "\n",
      "Processing record 38\n",
      "URL: https://eleapi.interno.gov.it/siel/PX/scrutiniR/DE/20241117/TE/07/RE/08/PR/013/CM/0410\n"
     ]
    },
    {
     "name": "stdout",
     "output_type": "stream",
     "text": [
      "Response status code: 200\n",
      "Processing data for Comune: MONTERENZIO, Provincia: BOLOGNA\n",
      "MICHELE DE PASCALE: 1125 votes (52,45%)\n",
      "ELENA UGOLINI: 912 votes (42,52%)\n",
      "LUCA TEODORI: 58 votes (2,70%)\n",
      "FEDERICO SERRA: 50 votes (2,33%)\n",
      "Processed MONTERENZIO\n",
      "\n",
      "Processing record 39\n",
      "URL: https://eleapi.interno.gov.it/siel/PX/scrutiniR/DE/20241117/TE/07/RE/08/PR/013/CM/0420\n"
     ]
    },
    {
     "name": "stdout",
     "output_type": "stream",
     "text": [
      "Response status code: 200\n",
      "Processing data for Comune: MONTE SAN PIETRO, Provincia: BOLOGNA\n",
      "MICHELE DE PASCALE: 2909 votes (59,73%)\n",
      "ELENA UGOLINI: 1818 votes (37,33%)\n",
      "FEDERICO SERRA: 87 votes (1,79%)\n",
      "LUCA TEODORI: 56 votes (1,15%)\n",
      "Processed MONTE SAN PIETRO\n",
      "\n",
      "Processing record 40\n",
      "URL: https://eleapi.interno.gov.it/siel/PX/scrutiniR/DE/20241117/TE/07/RE/08/PR/013/CM/0440\n"
     ]
    },
    {
     "name": "stdout",
     "output_type": "stream",
     "text": [
      "Response status code: 200\n",
      "Processing data for Comune: MONZUNO, Provincia: BOLOGNA\n",
      "MICHELE DE PASCALE: 1171 votes (50,91%)\n",
      "ELENA UGOLINI: 1060 votes (46,09%)\n",
      "FEDERICO SERRA: 43 votes (1,87%)\n",
      "LUCA TEODORI: 26 votes (1,13%)\n",
      "Processed MONZUNO\n",
      "\n",
      "Processing record 41\n",
      "URL: https://eleapi.interno.gov.it/siel/PX/scrutiniR/DE/20241117/TE/07/RE/08/PR/013/CM/0450\n"
     ]
    },
    {
     "name": "stdout",
     "output_type": "stream",
     "text": [
      "Response status code: 200\n",
      "Processing data for Comune: MORDANO, Provincia: BOLOGNA\n",
      "MICHELE DE PASCALE: 1073 votes (58,83%)\n",
      "ELENA UGOLINI: 696 votes (38,16%)\n",
      "LUCA TEODORI: 28 votes (1,54%)\n",
      "FEDERICO SERRA: 27 votes (1,48%)\n",
      "Processed MORDANO\n",
      "\n",
      "Processing record 42\n",
      "URL: https://eleapi.interno.gov.it/siel/PX/scrutiniR/DE/20241117/TE/07/RE/08/PR/013/CM/0460\n"
     ]
    },
    {
     "name": "stdout",
     "output_type": "stream",
     "text": [
      "Response status code: 200\n",
      "Processing data for Comune: OZZANO DELL'EMILIA, Provincia: BOLOGNA\n",
      "MICHELE DE PASCALE: 3692 votes (61,81%)\n",
      "ELENA UGOLINI: 2056 votes (34,42%)\n",
      "FEDERICO SERRA: 130 votes (2,18%)\n",
      "LUCA TEODORI: 95 votes (1,59%)\n",
      "Processed OZZANO DELL'EMILIA\n",
      "\n",
      "Processing record 43\n",
      "URL: https://eleapi.interno.gov.it/siel/PX/scrutiniR/DE/20241117/TE/07/RE/08/PR/013/CM/0470\n"
     ]
    },
    {
     "name": "stdout",
     "output_type": "stream",
     "text": [
      "Response status code: 200\n",
      "Processing data for Comune: PIANORO, Provincia: BOLOGNA\n",
      "MICHELE DE PASCALE: 4336 votes (58,64%)\n",
      "ELENA UGOLINI: 2805 votes (37,94%)\n",
      "FEDERICO SERRA: 133 votes (1,80%)\n",
      "LUCA TEODORI: 120 votes (1,62%)\n",
      "Processed PIANORO\n",
      "\n",
      "Processing record 44\n",
      "URL: https://eleapi.interno.gov.it/siel/PX/scrutiniR/DE/20241117/TE/07/RE/08/PR/013/CM/0480\n"
     ]
    },
    {
     "name": "stdout",
     "output_type": "stream",
     "text": [
      "Response status code: 200\n",
      "Processing data for Comune: PIEVE DI CENTO, Provincia: BOLOGNA\n",
      "MICHELE DE PASCALE: 1696 votes (56,29%)\n",
      "ELENA UGOLINI: 1230 votes (40,82%)\n",
      "FEDERICO SERRA: 45 votes (1,49%)\n",
      "LUCA TEODORI: 42 votes (1,39%)\n",
      "Processed PIEVE DI CENTO\n",
      "\n",
      "Processing record 45\n",
      "URL: https://eleapi.interno.gov.it/siel/PX/scrutiniR/DE/20241117/TE/07/RE/08/PR/013/CM/0500\n"
     ]
    },
    {
     "name": "stdout",
     "output_type": "stream",
     "text": [
      "Response status code: 200\n",
      "Processing data for Comune: SALA BOLOGNESE, Provincia: BOLOGNA\n",
      "MICHELE DE PASCALE: 2081 votes (59,09%)\n",
      "ELENA UGOLINI: 1329 votes (37,73%)\n",
      "FEDERICO SERRA: 58 votes (1,65%)\n",
      "LUCA TEODORI: 54 votes (1,53%)\n",
      "Processed SALA BOLOGNESE\n",
      "\n",
      "Processing record 46\n",
      "URL: https://eleapi.interno.gov.it/siel/PX/scrutiniR/DE/20241117/TE/07/RE/08/PR/013/CM/0510\n"
     ]
    },
    {
     "name": "stdout",
     "output_type": "stream",
     "text": [
      "Response status code: 200\n",
      "Processing data for Comune: SAN BENEDETTO VAL DI SAMBRO, Provincia: BOLOGNA\n",
      "MICHELE DE PASCALE: 822 votes (49,91%)\n",
      "ELENA UGOLINI: 782 votes (47,48%)\n",
      "FEDERICO SERRA: 30 votes (1,82%)\n",
      "LUCA TEODORI: 13 votes (0,79%)\n",
      "Processed SAN BENEDETTO VAL DI SAMBRO\n",
      "\n",
      "Processing record 47\n",
      "URL: https://eleapi.interno.gov.it/siel/PX/scrutiniR/DE/20241117/TE/07/RE/08/PR/013/CM/0520\n"
     ]
    },
    {
     "name": "stdout",
     "output_type": "stream",
     "text": [
      "Response status code: 200\n",
      "Processing data for Comune: SAN GIORGIO DI PIANO, Provincia: BOLOGNA\n",
      "MICHELE DE PASCALE: 2385 votes (65,06%)\n",
      "ELENA UGOLINI: 1168 votes (31,86%)\n",
      "FEDERICO SERRA: 72 votes (1,96%)\n",
      "LUCA TEODORI: 41 votes (1,12%)\n",
      "Processed SAN GIORGIO DI PIANO\n",
      "\n",
      "Processing record 48\n",
      "URL: https://eleapi.interno.gov.it/siel/PX/scrutiniR/DE/20241117/TE/07/RE/08/PR/013/CM/0530\n"
     ]
    },
    {
     "name": "stdout",
     "output_type": "stream",
     "text": [
      "Response status code: 200\n",
      "Processing data for Comune: SAN GIOVANNI IN PERSICETO, Provincia: BOLOGNA\n",
      "MICHELE DE PASCALE: 6731 votes (56,09%)\n",
      "ELENA UGOLINI: 4912 votes (40,93%)\n",
      "FEDERICO SERRA: 212 votes (1,77%)\n",
      "LUCA TEODORI: 146 votes (1,22%)\n",
      "Processed SAN GIOVANNI IN PERSICETO\n",
      "\n",
      "Processing record 49\n",
      "URL: https://eleapi.interno.gov.it/siel/PX/scrutiniR/DE/20241117/TE/07/RE/08/PR/013/CM/0540\n"
     ]
    },
    {
     "name": "stdout",
     "output_type": "stream",
     "text": [
      "Response status code: 200\n",
      "Processing data for Comune: SAN LAZZARO DI SAVENA, Provincia: BOLOGNA\n",
      "MICHELE DE PASCALE: 9284 votes (61,77%)\n",
      "ELENA UGOLINI: 5336 votes (35,50%)\n",
      "FEDERICO SERRA: 233 votes (1,55%)\n",
      "LUCA TEODORI: 178 votes (1,18%)\n",
      "Processed SAN LAZZARO DI SAVENA\n",
      "\n",
      "Processing record 50\n",
      "URL: https://eleapi.interno.gov.it/siel/PX/scrutiniR/DE/20241117/TE/07/RE/08/PR/013/CM/0550\n"
     ]
    },
    {
     "name": "stdout",
     "output_type": "stream",
     "text": [
      "Response status code: 200\n",
      "Processing data for Comune: SAN PIETRO IN CASALE, Provincia: BOLOGNA\n",
      "MICHELE DE PASCALE: 2534 votes (57,21%)\n",
      "ELENA UGOLINI: 1701 votes (38,41%)\n",
      "FEDERICO SERRA: 130 votes (2,94%)\n",
      "LUCA TEODORI: 64 votes (1,45%)\n",
      "Processed SAN PIETRO IN CASALE\n",
      "\n",
      "Processing record 51\n",
      "URL: https://eleapi.interno.gov.it/siel/PX/scrutiniR/DE/20241117/TE/07/RE/08/PR/013/CM/0560\n"
     ]
    },
    {
     "name": "stdout",
     "output_type": "stream",
     "text": [
      "Response status code: 200\n",
      "Processing data for Comune: SANT'AGATA BOLOGNESE, Provincia: BOLOGNA\n",
      "MICHELE DE PASCALE: 1423 votes (52,16%)\n",
      "ELENA UGOLINI: 1245 votes (45,64%)\n",
      "LUCA TEODORI: 39 votes (1,43%)\n",
      "FEDERICO SERRA: 21 votes (0,77%)\n",
      "Processed SANT'AGATA BOLOGNESE\n",
      "\n",
      "Processing record 52\n",
      "URL: https://eleapi.interno.gov.it/siel/PX/scrutiniR/DE/20241117/TE/07/RE/08/PR/013/CM/0570\n"
     ]
    },
    {
     "name": "stdout",
     "output_type": "stream",
     "text": [
      "Response status code: 200\n",
      "Processing data for Comune: SASSO MARCONI, Provincia: BOLOGNA\n",
      "MICHELE DE PASCALE: 3927 votes (59,79%)\n",
      "ELENA UGOLINI: 2426 votes (36,94%)\n",
      "FEDERICO SERRA: 120 votes (1,83%)\n",
      "LUCA TEODORI: 95 votes (1,45%)\n",
      "Processed SASSO MARCONI\n",
      "\n",
      "Processing record 53\n",
      "URL: https://eleapi.interno.gov.it/siel/PX/scrutiniR/DE/20241117/TE/07/RE/08/PR/013/CM/0585\n"
     ]
    },
    {
     "name": "stdout",
     "output_type": "stream",
     "text": [
      "Response status code: 200\n",
      "Processing data for Comune: VALSAMOGGIA, Provincia: BOLOGNA\n",
      "MICHELE DE PASCALE: 7321 votes (60,92%)\n",
      "ELENA UGOLINI: 4239 votes (35,28%)\n",
      "FEDERICO SERRA: 306 votes (2,55%)\n",
      "LUCA TEODORI: 151 votes (1,26%)\n",
      "Processed VALSAMOGGIA\n",
      "\n",
      "Processing record 54\n",
      "URL: https://eleapi.interno.gov.it/siel/PX/scrutiniR/DE/20241117/TE/07/RE/08/PR/013/CM/0590\n"
     ]
    },
    {
     "name": "stdout",
     "output_type": "stream",
     "text": [
      "Response status code: 200\n",
      "Processing data for Comune: VERGATO, Provincia: BOLOGNA\n",
      "MICHELE DE PASCALE: 1258 votes (51,20%)\n",
      "ELENA UGOLINI: 1132 votes (46,07%)\n",
      "FEDERICO SERRA: 42 votes (1,71%)\n",
      "LUCA TEODORI: 25 votes (1,02%)\n",
      "Processed VERGATO\n",
      "\n",
      "Processing record 55\n",
      "URL: https://eleapi.interno.gov.it/siel/PX/scrutiniR/DE/20241117/TE/07/RE/08/PR/013/CM/0600\n"
     ]
    },
    {
     "name": "stdout",
     "output_type": "stream",
     "text": [
      "Response status code: 200\n",
      "Processing data for Comune: ZOLA PREDOSA, Provincia: BOLOGNA\n",
      "MICHELE DE PASCALE: 5359 votes (62,79%)\n",
      "ELENA UGOLINI: 2895 votes (33,92%)\n",
      "FEDERICO SERRA: 180 votes (2,11%)\n",
      "LUCA TEODORI: 101 votes (1,18%)\n",
      "Processed ZOLA PREDOSA\n",
      "\n",
      "Processing record 56\n",
      "URL: https://eleapi.interno.gov.it/siel/PX/scrutiniR/DE/20241117/TE/07/RE/08/PR/029/CM/0010\n"
     ]
    },
    {
     "name": "stdout",
     "output_type": "stream",
     "text": [
      "Response status code: 200\n",
      "Processing data for Comune: ARGENTA, Provincia: FERRARA\n",
      "MICHELE DE PASCALE: 4050 votes (54,27%)\n",
      "ELENA UGOLINI: 3245 votes (43,48%)\n",
      "FEDERICO SERRA: 94 votes (1,26%)\n",
      "LUCA TEODORI: 74 votes (0,99%)\n",
      "Processed ARGENTA\n",
      "\n",
      "Processing record 57\n",
      "URL: https://eleapi.interno.gov.it/siel/PX/scrutiniR/DE/20241117/TE/07/RE/08/PR/029/CM/0030\n"
     ]
    },
    {
     "name": "stdout",
     "output_type": "stream",
     "text": [
      "Response status code: 200\n",
      "Processing data for Comune: BONDENO, Provincia: FERRARA\n",
      "ELENA UGOLINI: 2451 votes (52,85%)\n",
      "MICHELE DE PASCALE: 2096 votes (45,19%)\n",
      "FEDERICO SERRA: 47 votes (1,01%)\n",
      "LUCA TEODORI: 44 votes (0,95%)\n",
      "Processed BONDENO\n",
      "\n",
      "Processing record 58\n",
      "URL: https://eleapi.interno.gov.it/siel/PX/scrutiniR/DE/20241117/TE/07/RE/08/PR/029/CM/0040\n"
     ]
    },
    {
     "name": "stdout",
     "output_type": "stream",
     "text": [
      "Response status code: 200\n",
      "Processing data for Comune: CENTO, Provincia: FERRARA\n",
      "ELENA UGOLINI: 6879 votes (54,91%)\n",
      "MICHELE DE PASCALE: 5319 votes (42,46%)\n",
      "LUCA TEODORI: 179 votes (1,43%)\n",
      "FEDERICO SERRA: 151 votes (1,21%)\n",
      "Processed CENTO\n",
      "\n",
      "Processing record 59\n",
      "URL: https://eleapi.interno.gov.it/siel/PX/scrutiniR/DE/20241117/TE/07/RE/08/PR/029/CM/0050\n"
     ]
    },
    {
     "name": "stdout",
     "output_type": "stream",
     "text": [
      "Response status code: 200\n",
      "Processing data for Comune: CODIGORO, Provincia: FERRARA\n",
      "ELENA UGOLINI: 1911 votes (56,09%)\n",
      "MICHELE DE PASCALE: 1353 votes (39,71%)\n",
      "LUCA TEODORI: 74 votes (2,17%)\n",
      "FEDERICO SERRA: 69 votes (2,03%)\n",
      "Processed CODIGORO\n",
      "\n",
      "Processing record 60\n",
      "URL: https://eleapi.interno.gov.it/siel/PX/scrutiniR/DE/20241117/TE/07/RE/08/PR/029/CM/0060\n"
     ]
    },
    {
     "name": "stdout",
     "output_type": "stream",
     "text": [
      "Response status code: 200\n",
      "Processing data for Comune: COMACCHIO, Provincia: FERRARA\n",
      "ELENA UGOLINI: 3203 votes (56,34%)\n",
      "MICHELE DE PASCALE: 2312 votes (40,67%)\n",
      "FEDERICO SERRA: 93 votes (1,64%)\n",
      "LUCA TEODORI: 77 votes (1,35%)\n",
      "Processed COMACCHIO\n",
      "\n",
      "Processing record 61\n",
      "URL: https://eleapi.interno.gov.it/siel/PX/scrutiniR/DE/20241117/TE/07/RE/08/PR/029/CM/0070\n"
     ]
    },
    {
     "name": "stdout",
     "output_type": "stream",
     "text": [
      "Response status code: 200\n",
      "Processing data for Comune: COPPARO, Provincia: FERRARA\n",
      "MICHELE DE PASCALE: 2785 votes (48,39%)\n",
      "ELENA UGOLINI: 2776 votes (48,24%)\n",
      "LUCA TEODORI: 121 votes (2,10%)\n",
      "FEDERICO SERRA: 73 votes (1,27%)\n",
      "Processed COPPARO\n",
      "\n",
      "Processing record 62\n",
      "URL: https://eleapi.interno.gov.it/siel/PX/scrutiniR/DE/20241117/TE/07/RE/08/PR/029/CM/0080\n"
     ]
    },
    {
     "name": "stdout",
     "output_type": "stream",
     "text": [
      "Response status code: 200\n",
      "Processing data for Comune: FERRARA, Provincia: FERRARA\n",
      "MICHELE DE PASCALE: 26816 votes (54,17%)\n",
      "ELENA UGOLINI: 21160 votes (42,74%)\n",
      "LUCA TEODORI: 790 votes (1,60%)\n",
      "FEDERICO SERRA: 740 votes (1,49%)\n",
      "Processed FERRARA\n",
      "\n",
      "Processing record 63\n",
      "URL: https://eleapi.interno.gov.it/siel/PX/scrutiniR/DE/20241117/TE/07/RE/08/PR/029/CM/0085\n"
     ]
    },
    {
     "name": "stdout",
     "output_type": "stream",
     "text": [
      "Response status code: 200\n",
      "Processing data for Comune: FISCAGLIA, Provincia: FERRARA\n",
      "MICHELE DE PASCALE: 1345 votes (51,06%)\n",
      "ELENA UGOLINI: 1179 votes (44,76%)\n",
      "LUCA TEODORI: 55 votes (2,09%)\n",
      "FEDERICO SERRA: 55 votes (2,09%)\n",
      "Processed FISCAGLIA\n",
      "\n",
      "Processing record 64\n",
      "URL: https://eleapi.interno.gov.it/siel/PX/scrutiniR/DE/20241117/TE/07/RE/08/PR/029/CM/0091\n"
     ]
    },
    {
     "name": "stdout",
     "output_type": "stream",
     "text": [
      "Response status code: 200\n",
      "Processing data for Comune: GORO, Provincia: FERRARA\n",
      "ELENA UGOLINI: 1088 votes (79,77%)\n",
      "MICHELE DE PASCALE: 264 votes (19,35%)\n",
      "FEDERICO SERRA: 9 votes (0,66%)\n",
      "LUCA TEODORI: 3 votes (0,22%)\n",
      "Processed GORO\n",
      "\n",
      "Processing record 65\n",
      "URL: https://eleapi.interno.gov.it/siel/PX/scrutiniR/DE/20241117/TE/07/RE/08/PR/029/CM/0100\n"
     ]
    },
    {
     "name": "stdout",
     "output_type": "stream",
     "text": [
      "Response status code: 200\n",
      "Processing data for Comune: JOLANDA DI SAVOIA, Provincia: FERRARA\n",
      "MICHELE DE PASCALE: 380 votes (48,53%)\n",
      "ELENA UGOLINI: 362 votes (46,23%)\n",
      "LUCA TEODORI: 32 votes (4,09%)\n",
      "FEDERICO SERRA: 9 votes (1,15%)\n",
      "Processed JOLANDA DI SAVOIA\n",
      "\n",
      "Processing record 66\n",
      "URL: https://eleapi.interno.gov.it/siel/PX/scrutiniR/DE/20241117/TE/07/RE/08/PR/029/CM/0110\n"
     ]
    },
    {
     "name": "stdout",
     "output_type": "stream",
     "text": [
      "Response status code: 200\n",
      "Processing data for Comune: LAGOSANTO, Provincia: FERRARA\n",
      "ELENA UGOLINI: 754 votes (55,81%)\n",
      "MICHELE DE PASCALE: 553 votes (40,93%)\n",
      "LUCA TEODORI: 24 votes (1,78%)\n",
      "FEDERICO SERRA: 20 votes (1,48%)\n",
      "Processed LAGOSANTO\n",
      "\n",
      "Processing record 67\n",
      "URL: https://eleapi.interno.gov.it/siel/PX/scrutiniR/DE/20241117/TE/07/RE/08/PR/029/CM/0111\n"
     ]
    },
    {
     "name": "stdout",
     "output_type": "stream",
     "text": [
      "Response status code: 200\n",
      "Processing data for Comune: MASI TORELLO, Provincia: FERRARA\n",
      "ELENA UGOLINI: 556 votes (62,33%)\n",
      "MICHELE DE PASCALE: 306 votes (34,30%)\n",
      "LUCA TEODORI: 16 votes (1,79%)\n",
      "FEDERICO SERRA: 14 votes (1,57%)\n",
      "Processed MASI TORELLO\n",
      "\n",
      "Processing record 68\n",
      "URL: https://eleapi.interno.gov.it/siel/PX/scrutiniR/DE/20241117/TE/07/RE/08/PR/029/CM/0130\n"
     ]
    },
    {
     "name": "stdout",
     "output_type": "stream",
     "text": [
      "Response status code: 200\n",
      "Processing data for Comune: MESOLA, Provincia: FERRARA\n",
      "ELENA UGOLINI: 1303 votes (60,94%)\n",
      "MICHELE DE PASCALE: 796 votes (37,23%)\n",
      "LUCA TEODORI: 24 votes (1,12%)\n",
      "FEDERICO SERRA: 15 votes (0,70%)\n",
      "Processed MESOLA\n",
      "\n",
      "Processing record 69\n",
      "URL: https://eleapi.interno.gov.it/siel/PX/scrutiniR/DE/20241117/TE/07/RE/08/PR/029/CM/0150\n"
     ]
    },
    {
     "name": "stdout",
     "output_type": "stream",
     "text": [
      "Response status code: 200\n",
      "Processing data for Comune: OSTELLATO, Provincia: FERRARA\n",
      "MICHELE DE PASCALE: 868 votes (47,88%)\n",
      "ELENA UGOLINI: 848 votes (46,77%)\n",
      "LUCA TEODORI: 52 votes (2,87%)\n",
      "FEDERICO SERRA: 45 votes (2,48%)\n",
      "Processed OSTELLATO\n",
      "\n",
      "Processing record 70\n",
      "URL: https://eleapi.interno.gov.it/siel/PX/scrutiniR/DE/20241117/TE/07/RE/08/PR/029/CM/0160\n"
     ]
    },
    {
     "name": "stdout",
     "output_type": "stream",
     "text": [
      "Response status code: 200\n",
      "Processing data for Comune: POGGIO RENATICO, Provincia: FERRARA\n",
      "MICHELE DE PASCALE: 1666 votes (51,04%)\n",
      "ELENA UGOLINI: 1516 votes (46,45%)\n",
      "LUCA TEODORI: 42 votes (1,29%)\n",
      "FEDERICO SERRA: 40 votes (1,23%)\n",
      "Processed POGGIO RENATICO\n",
      "\n",
      "Processing record 71\n",
      "URL: https://eleapi.interno.gov.it/siel/PX/scrutiniR/DE/20241117/TE/07/RE/08/PR/029/CM/0170\n"
     ]
    },
    {
     "name": "stdout",
     "output_type": "stream",
     "text": [
      "Response status code: 200\n",
      "Processing data for Comune: PORTOMAGGIORE, Provincia: FERRARA\n",
      "ELENA UGOLINI: 1962 votes (51,62%)\n",
      "MICHELE DE PASCALE: 1743 votes (45,86%)\n",
      "LUCA TEODORI: 48 votes (1,26%)\n",
      "FEDERICO SERRA: 48 votes (1,26%)\n",
      "Processed PORTOMAGGIORE\n",
      "\n",
      "Processing record 72\n",
      "URL: https://eleapi.interno.gov.it/siel/PX/scrutiniR/DE/20241117/TE/07/RE/08/PR/029/CM/0175\n"
     ]
    },
    {
     "name": "stdout",
     "output_type": "stream",
     "text": [
      "Response status code: 200\n",
      "Processing data for Comune: RIVA DEL PO, Provincia: FERRARA\n",
      "ELENA UGOLINI: 1166 votes (54,72%)\n",
      "MICHELE DE PASCALE: 908 votes (42,61%)\n",
      "FEDERICO SERRA: 31 votes (1,45%)\n",
      "LUCA TEODORI: 26 votes (1,22%)\n",
      "Processed RIVA DEL PO\n",
      "\n",
      "Processing record 73\n",
      "URL: https://eleapi.interno.gov.it/siel/PX/scrutiniR/DE/20241117/TE/07/RE/08/PR/029/CM/0185\n"
     ]
    },
    {
     "name": "stdout",
     "output_type": "stream",
     "text": [
      "Response status code: 200\n",
      "Processing data for Comune: TERRE DEL RENO, Provincia: FERRARA\n",
      "ELENA UGOLINI: 1949 votes (55,62%)\n",
      "MICHELE DE PASCALE: 1455 votes (41,52%)\n",
      "LUCA TEODORI: 50 votes (1,43%)\n",
      "FEDERICO SERRA: 50 votes (1,43%)\n",
      "Processed TERRE DEL RENO\n",
      "\n",
      "Processing record 74\n",
      "URL: https://eleapi.interno.gov.it/siel/PX/scrutiniR/DE/20241117/TE/07/RE/08/PR/029/CM/0195\n"
     ]
    },
    {
     "name": "stdout",
     "output_type": "stream",
     "text": [
      "Response status code: 200\n",
      "Processing data for Comune: TRESIGNANA, Provincia: FERRARA\n",
      "MICHELE DE PASCALE: 1170 votes (50,11%)\n",
      "ELENA UGOLINI: 1093 votes (46,81%)\n",
      "LUCA TEODORI: 43 votes (1,84%)\n",
      "FEDERICO SERRA: 29 votes (1,24%)\n",
      "Processed TRESIGNANA\n",
      "\n",
      "Processing record 75\n",
      "URL: https://eleapi.interno.gov.it/siel/PX/scrutiniR/DE/20241117/TE/07/RE/08/PR/029/CM/0200\n"
     ]
    },
    {
     "name": "stdout",
     "output_type": "stream",
     "text": [
      "Response status code: 200\n",
      "Processing data for Comune: VIGARANO MAINARDA, Provincia: FERRARA\n",
      "MICHELE DE PASCALE: 1346 votes (48,28%)\n",
      "ELENA UGOLINI: 1341 votes (48,10%)\n",
      "FEDERICO SERRA: 54 votes (1,94%)\n",
      "LUCA TEODORI: 47 votes (1,69%)\n",
      "Processed VIGARANO MAINARDA\n",
      "\n",
      "Processing record 76\n",
      "URL: https://eleapi.interno.gov.it/siel/PX/scrutiniR/DE/20241117/TE/07/RE/08/PR/029/CM/0210\n"
     ]
    },
    {
     "name": "stdout",
     "output_type": "stream",
     "text": [
      "Response status code: 200\n",
      "Processing data for Comune: VOGHIERA, Provincia: FERRARA\n",
      "ELENA UGOLINI: 791 votes (54,22%)\n",
      "MICHELE DE PASCALE: 616 votes (42,22%)\n",
      "LUCA TEODORI: 27 votes (1,85%)\n",
      "FEDERICO SERRA: 25 votes (1,71%)\n",
      "Processed VOGHIERA\n",
      "\n",
      "Processing record 77\n",
      "URL: https://eleapi.interno.gov.it/siel/PX/scrutiniR/DE/20241117/TE/07/RE/08/PR/032/CM/0010\n"
     ]
    },
    {
     "name": "stdout",
     "output_type": "stream",
     "text": [
      "Response status code: 200\n",
      "Processing data for Comune: BAGNO DI ROMAGNA, Provincia: FORLI'-CESENA\n",
      "MICHELE DE PASCALE: 1260 votes (55,73%)\n",
      "ELENA UGOLINI: 957 votes (42,33%)\n",
      "FEDERICO SERRA: 32 votes (1,42%)\n",
      "LUCA TEODORI: 12 votes (0,53%)\n",
      "Processed BAGNO DI ROMAGNA\n",
      "\n",
      "Processing record 78\n",
      "URL: https://eleapi.interno.gov.it/siel/PX/scrutiniR/DE/20241117/TE/07/RE/08/PR/032/CM/0020\n"
     ]
    },
    {
     "name": "stdout",
     "output_type": "stream",
     "text": [
      "Response status code: 200\n",
      "Processing data for Comune: BERTINORO, Provincia: FORLI'-CESENA\n",
      "MICHELE DE PASCALE: 2389 votes (61,49%)\n",
      "ELENA UGOLINI: 1360 votes (35,01%)\n",
      "LUCA TEODORI: 73 votes (1,88%)\n",
      "FEDERICO SERRA: 63 votes (1,62%)\n",
      "Processed BERTINORO\n",
      "\n",
      "Processing record 79\n",
      "URL: https://eleapi.interno.gov.it/siel/PX/scrutiniR/DE/20241117/TE/07/RE/08/PR/032/CM/0030\n"
     ]
    },
    {
     "name": "stdout",
     "output_type": "stream",
     "text": [
      "Response status code: 200\n",
      "Processing data for Comune: BORGHI, Provincia: FORLI'-CESENA\n",
      "ELENA UGOLINI: 447 votes (54,71%)\n",
      "MICHELE DE PASCALE: 347 votes (42,47%)\n",
      "LUCA TEODORI: 12 votes (1,47%)\n",
      "FEDERICO SERRA: 11 votes (1,35%)\n",
      "Processed BORGHI\n",
      "\n",
      "Processing record 80\n",
      "URL: https://eleapi.interno.gov.it/siel/PX/scrutiniR/DE/20241117/TE/07/RE/08/PR/032/CM/0040\n"
     ]
    },
    {
     "name": "stdout",
     "output_type": "stream",
     "text": [
      "Response status code: 200\n",
      "Processing data for Comune: CASTROCARO TERME E TERRA DEL SOLE, Provincia: FORLI'-CESENA\n",
      "MICHELE DE PASCALE: 1188 votes (53,18%)\n",
      "ELENA UGOLINI: 991 votes (44,36%)\n",
      "LUCA TEODORI: 36 votes (1,61%)\n",
      "FEDERICO SERRA: 19 votes (0,85%)\n",
      "Processed CASTROCARO TERME E TERRA DEL SOLE\n",
      "\n",
      "Processing record 81\n",
      "URL: https://eleapi.interno.gov.it/siel/PX/scrutiniR/DE/20241117/TE/07/RE/08/PR/032/CM/0060\n"
     ]
    },
    {
     "name": "stdout",
     "output_type": "stream",
     "text": [
      "Response status code: 200\n",
      "Processing data for Comune: CESENA, Provincia: FORLI'-CESENA\n",
      "MICHELE DE PASCALE: 23422 votes (63,31%)\n",
      "ELENA UGOLINI: 12630 votes (34,14%)\n",
      "LUCA TEODORI: 525 votes (1,42%)\n",
      "FEDERICO SERRA: 421 votes (1,14%)\n",
      "Processed CESENA\n",
      "\n",
      "Processing record 82\n",
      "URL: https://eleapi.interno.gov.it/siel/PX/scrutiniR/DE/20241117/TE/07/RE/08/PR/032/CM/0070\n"
     ]
    },
    {
     "name": "stdout",
     "output_type": "stream",
     "text": [
      "Response status code: 200\n",
      "Processing data for Comune: CESENATICO, Provincia: FORLI'-CESENA\n",
      "MICHELE DE PASCALE: 4840 votes (51,44%)\n",
      "ELENA UGOLINI: 4326 votes (45,98%)\n",
      "LUCA TEODORI: 129 votes (1,37%)\n",
      "FEDERICO SERRA: 114 votes (1,21%)\n",
      "Processed CESENATICO\n",
      "\n",
      "Processing record 83\n",
      "URL: https://eleapi.interno.gov.it/siel/PX/scrutiniR/DE/20241117/TE/07/RE/08/PR/032/CM/0080\n"
     ]
    },
    {
     "name": "stdout",
     "output_type": "stream",
     "text": [
      "Response status code: 200\n",
      "Processing data for Comune: CIVITELLA DI ROMAGNA, Provincia: FORLI'-CESENA\n",
      "MICHELE DE PASCALE: 680 votes (50,86%)\n",
      "ELENA UGOLINI: 630 votes (47,12%)\n",
      "FEDERICO SERRA: 15 votes (1,12%)\n",
      "LUCA TEODORI: 12 votes (0,90%)\n",
      "Processed CIVITELLA DI ROMAGNA\n",
      "\n",
      "Processing record 84\n",
      "URL: https://eleapi.interno.gov.it/siel/PX/scrutiniR/DE/20241117/TE/07/RE/08/PR/032/CM/0100\n"
     ]
    },
    {
     "name": "stdout",
     "output_type": "stream",
     "text": [
      "Response status code: 200\n",
      "Processing data for Comune: DOVADOLA, Provincia: FORLI'-CESENA\n",
      "MICHELE DE PASCALE: 230 votes (51,80%)\n",
      "ELENA UGOLINI: 204 votes (45,95%)\n",
      "FEDERICO SERRA: 6 votes (1,35%)\n",
      "LUCA TEODORI: 4 votes (0,90%)\n",
      "Processed DOVADOLA\n",
      "\n",
      "Processing record 85\n",
      "URL: https://eleapi.interno.gov.it/siel/PX/scrutiniR/DE/20241117/TE/07/RE/08/PR/032/CM/0110\n"
     ]
    },
    {
     "name": "stdout",
     "output_type": "stream",
     "text": [
      "Response status code: 200\n",
      "Processing data for Comune: FORLI', Provincia: FORLI'-CESENA\n",
      "MICHELE DE PASCALE: 24799 votes (58,91%)\n",
      "ELENA UGOLINI: 16271 votes (38,65%)\n",
      "FEDERICO SERRA: 515 votes (1,22%)\n",
      "LUCA TEODORI: 513 votes (1,22%)\n",
      "Processed FORLI'\n",
      "\n",
      "Processing record 86\n",
      "URL: https://eleapi.interno.gov.it/siel/PX/scrutiniR/DE/20241117/TE/07/RE/08/PR/032/CM/0120\n"
     ]
    },
    {
     "name": "stdout",
     "output_type": "stream",
     "text": [
      "Response status code: 200\n",
      "Processing data for Comune: FORLIMPOPOLI, Provincia: FORLI'-CESENA\n",
      "MICHELE DE PASCALE: 2926 votes (62,49%)\n",
      "ELENA UGOLINI: 1610 votes (34,39%)\n",
      "LUCA TEODORI: 86 votes (1,84%)\n",
      "FEDERICO SERRA: 60 votes (1,28%)\n",
      "Processed FORLIMPOPOLI\n",
      "\n",
      "Processing record 87\n",
      "URL: https://eleapi.interno.gov.it/siel/PX/scrutiniR/DE/20241117/TE/07/RE/08/PR/032/CM/0130\n"
     ]
    },
    {
     "name": "stdout",
     "output_type": "stream",
     "text": [
      "Response status code: 200\n",
      "Processing data for Comune: GALEATA, Provincia: FORLI'-CESENA\n",
      "MICHELE DE PASCALE: 459 votes (54,06%)\n",
      "ELENA UGOLINI: 364 votes (42,87%)\n",
      "FEDERICO SERRA: 15 votes (1,77%)\n",
      "LUCA TEODORI: 11 votes (1,30%)\n",
      "Processed GALEATA\n",
      "\n",
      "Processing record 88\n",
      "URL: https://eleapi.interno.gov.it/siel/PX/scrutiniR/DE/20241117/TE/07/RE/08/PR/032/CM/0140\n"
     ]
    },
    {
     "name": "stdout",
     "output_type": "stream",
     "text": [
      "Response status code: 200\n",
      "Processing data for Comune: GAMBETTOLA, Provincia: FORLI'-CESENA\n",
      "MICHELE DE PASCALE: 1991 votes (57,18%)\n",
      "ELENA UGOLINI: 1379 votes (39,60%)\n",
      "LUCA TEODORI: 62 votes (1,78%)\n",
      "FEDERICO SERRA: 50 votes (1,44%)\n",
      "Processed GAMBETTOLA\n",
      "\n",
      "Processing record 89\n",
      "URL: https://eleapi.interno.gov.it/siel/PX/scrutiniR/DE/20241117/TE/07/RE/08/PR/032/CM/0150\n"
     ]
    },
    {
     "name": "stdout",
     "output_type": "stream",
     "text": [
      "Response status code: 200\n",
      "Processing data for Comune: GATTEO, Provincia: FORLI'-CESENA\n",
      "MICHELE DE PASCALE: 1473 votes (52,01%)\n",
      "ELENA UGOLINI: 1258 votes (44,42%)\n",
      "LUCA TEODORI: 52 votes (1,84%)\n",
      "FEDERICO SERRA: 49 votes (1,73%)\n",
      "Processed GATTEO\n",
      "\n",
      "Processing record 90\n",
      "URL: https://eleapi.interno.gov.it/siel/PX/scrutiniR/DE/20241117/TE/07/RE/08/PR/032/CM/0170\n"
     ]
    },
    {
     "name": "stdout",
     "output_type": "stream",
     "text": [
      "Response status code: 200\n",
      "Processing data for Comune: LONGIANO, Provincia: FORLI'-CESENA\n",
      "MICHELE DE PASCALE: 1460 votes (58,82%)\n",
      "ELENA UGOLINI: 920 votes (37,07%)\n",
      "LUCA TEODORI: 58 votes (2,34%)\n",
      "FEDERICO SERRA: 44 votes (1,77%)\n",
      "Processed LONGIANO\n",
      "\n",
      "Processing record 91\n",
      "URL: https://eleapi.interno.gov.it/siel/PX/scrutiniR/DE/20241117/TE/07/RE/08/PR/032/CM/0180\n"
     ]
    },
    {
     "name": "stdout",
     "output_type": "stream",
     "text": [
      "Response status code: 200\n",
      "Processing data for Comune: MELDOLA, Provincia: FORLI'-CESENA\n",
      "MICHELE DE PASCALE: 1710 votes (54,55%)\n",
      "ELENA UGOLINI: 1333 votes (42,52%)\n",
      "LUCA TEODORI: 46 votes (1,47%)\n",
      "FEDERICO SERRA: 46 votes (1,47%)\n",
      "Processed MELDOLA\n",
      "\n",
      "Processing record 92\n",
      "URL: https://eleapi.interno.gov.it/siel/PX/scrutiniR/DE/20241117/TE/07/RE/08/PR/032/CM/0190\n"
     ]
    },
    {
     "name": "stdout",
     "output_type": "stream",
     "text": [
      "Response status code: 200\n",
      "Processing data for Comune: MERCATO SARACENO, Provincia: FORLI'-CESENA\n",
      "MICHELE DE PASCALE: 1224 votes (52,15%)\n",
      "ELENA UGOLINI: 1084 votes (46,19%)\n",
      "LUCA TEODORI: 22 votes (0,94%)\n",
      "FEDERICO SERRA: 17 votes (0,72%)\n",
      "Processed MERCATO SARACENO\n",
      "\n",
      "Processing record 93\n",
      "URL: https://eleapi.interno.gov.it/siel/PX/scrutiniR/DE/20241117/TE/07/RE/08/PR/032/CM/0210\n"
     ]
    },
    {
     "name": "stdout",
     "output_type": "stream",
     "text": [
      "Response status code: 200\n",
      "Processing data for Comune: MODIGLIANA, Provincia: FORLI'-CESENA\n",
      "ELENA UGOLINI: 770 votes (49,08%)\n",
      "MICHELE DE PASCALE: 754 votes (48,06%)\n",
      "FEDERICO SERRA: 35 votes (2,23%)\n",
      "LUCA TEODORI: 10 votes (0,64%)\n",
      "Processed MODIGLIANA\n",
      "\n",
      "Processing record 94\n",
      "URL: https://eleapi.interno.gov.it/siel/PX/scrutiniR/DE/20241117/TE/07/RE/08/PR/032/CM/0270\n"
     ]
    },
    {
     "name": "stdout",
     "output_type": "stream",
     "text": [
      "Response status code: 200\n",
      "Processing data for Comune: MONTIANO, Provincia: FORLI'-CESENA\n",
      "MICHELE DE PASCALE: 398 votes (58,02%)\n",
      "ELENA UGOLINI: 267 votes (38,92%)\n",
      "FEDERICO SERRA: 11 votes (1,60%)\n",
      "LUCA TEODORI: 10 votes (1,46%)\n",
      "Processed MONTIANO\n",
      "\n",
      "Processing record 95\n",
      "URL: https://eleapi.interno.gov.it/siel/PX/scrutiniR/DE/20241117/TE/07/RE/08/PR/032/CM/0300\n"
     ]
    },
    {
     "name": "stdout",
     "output_type": "stream",
     "text": [
      "Response status code: 200\n",
      "Processing data for Comune: PORTICO E SAN BENEDETTO, Provincia: FORLI'-CESENA\n",
      "MICHELE DE PASCALE: 131 votes (49,62%)\n",
      "ELENA UGOLINI: 129 votes (48,86%)\n",
      "FEDERICO SERRA: 4 votes (1,52%)\n",
      "LUCA TEODORI: 0 votes (0%)\n",
      "Processed PORTICO E SAN BENEDETTO\n",
      "\n",
      "Processing record 96\n",
      "URL: https://eleapi.interno.gov.it/siel/PX/scrutiniR/DE/20241117/TE/07/RE/08/PR/032/CM/0310\n"
     ]
    },
    {
     "name": "stdout",
     "output_type": "stream",
     "text": [
      "Response status code: 200\n",
      "Processing data for Comune: PREDAPPIO, Provincia: FORLI'-CESENA\n",
      "ELENA UGOLINI: 1077 votes (49,79%)\n",
      "MICHELE DE PASCALE: 1037 votes (47,94%)\n",
      "LUCA TEODORI: 31 votes (1,43%)\n",
      "FEDERICO SERRA: 18 votes (0,83%)\n",
      "Processed PREDAPPIO\n",
      "\n",
      "Processing record 97\n",
      "URL: https://eleapi.interno.gov.it/siel/PX/scrutiniR/DE/20241117/TE/07/RE/08/PR/032/CM/0320\n"
     ]
    },
    {
     "name": "stdout",
     "output_type": "stream",
     "text": [
      "Response status code: 200\n",
      "Processing data for Comune: PREMILCUORE, Provincia: FORLI'-CESENA\n",
      "ELENA UGOLINI: 151 votes (50,84%)\n",
      "MICHELE DE PASCALE: 141 votes (47,47%)\n",
      "FEDERICO SERRA: 3 votes (1,01%)\n",
      "LUCA TEODORI: 2 votes (0,67%)\n",
      "Processed PREMILCUORE\n",
      "\n",
      "Processing record 98\n",
      "URL: https://eleapi.interno.gov.it/siel/PX/scrutiniR/DE/20241117/TE/07/RE/08/PR/032/CM/0350\n"
     ]
    },
    {
     "name": "stdout",
     "output_type": "stream",
     "text": [
      "Response status code: 200\n",
      "Processing data for Comune: ROCCA SAN CASCIANO, Provincia: FORLI'-CESENA\n",
      "ELENA UGOLINI: 441 votes (53,65%)\n",
      "MICHELE DE PASCALE: 368 votes (44,77%)\n",
      "FEDERICO SERRA: 9 votes (1,09%)\n",
      "LUCA TEODORI: 4 votes (0,49%)\n",
      "Processed ROCCA SAN CASCIANO\n",
      "\n",
      "Processing record 99\n",
      "URL: https://eleapi.interno.gov.it/siel/PX/scrutiniR/DE/20241117/TE/07/RE/08/PR/032/CM/0360\n"
     ]
    },
    {
     "name": "stdout",
     "output_type": "stream",
     "text": [
      "Response status code: 200\n",
      "Processing data for Comune: RONCOFREDDO, Provincia: FORLI'-CESENA\n",
      "MICHELE DE PASCALE: 749 votes (57,22%)\n",
      "ELENA UGOLINI: 500 votes (38,20%)\n",
      "LUCA TEODORI: 41 votes (3,13%)\n",
      "FEDERICO SERRA: 19 votes (1,45%)\n",
      "Processed RONCOFREDDO\n",
      "\n",
      "Processing record 100\n",
      "URL: https://eleapi.interno.gov.it/siel/PX/scrutiniR/DE/20241117/TE/07/RE/08/PR/032/CM/0400\n"
     ]
    },
    {
     "name": "stdout",
     "output_type": "stream",
     "text": [
      "Response status code: 200\n",
      "Processing data for Comune: SAN MAURO PASCOLI, Provincia: FORLI'-CESENA\n",
      "MICHELE DE PASCALE: 2118 votes (57,48%)\n",
      "ELENA UGOLINI: 1484 votes (40,27%)\n",
      "FEDERICO SERRA: 44 votes (1,19%)\n",
      "LUCA TEODORI: 39 votes (1,06%)\n",
      "Processed SAN MAURO PASCOLI\n",
      "\n",
      "Processing record 101\n",
      "URL: https://eleapi.interno.gov.it/siel/PX/scrutiniR/DE/20241117/TE/07/RE/08/PR/032/CM/0420\n"
     ]
    },
    {
     "name": "stdout",
     "output_type": "stream",
     "text": [
      "Response status code: 200\n",
      "Processing data for Comune: SANTA SOFIA, Provincia: FORLI'-CESENA\n",
      "MICHELE DE PASCALE: 1317 votes (69,13%)\n",
      "ELENA UGOLINI: 562 votes (29,50%)\n",
      "FEDERICO SERRA: 15 votes (0,79%)\n",
      "LUCA TEODORI: 11 votes (0,58%)\n",
      "Processed SANTA SOFIA\n",
      "\n",
      "Processing record 102\n",
      "URL: https://eleapi.interno.gov.it/siel/PX/scrutiniR/DE/20241117/TE/07/RE/08/PR/032/CM/0430\n"
     ]
    },
    {
     "name": "stdout",
     "output_type": "stream",
     "text": [
      "Response status code: 200\n",
      "Processing data for Comune: SARSINA, Provincia: FORLI'-CESENA\n",
      "ELENA UGOLINI: 753 votes (56,70%)\n",
      "MICHELE DE PASCALE: 551 votes (41,49%)\n",
      "FEDERICO SERRA: 14 votes (1,05%)\n",
      "LUCA TEODORI: 10 votes (0,75%)\n",
      "Processed SARSINA\n",
      "\n",
      "Processing record 103\n",
      "URL: https://eleapi.interno.gov.it/siel/PX/scrutiniR/DE/20241117/TE/07/RE/08/PR/032/CM/0440\n"
     ]
    },
    {
     "name": "stdout",
     "output_type": "stream",
     "text": [
      "Response status code: 200\n",
      "Processing data for Comune: SAVIGNANO SUL RUBICONE, Provincia: FORLI'-CESENA\n",
      "MICHELE DE PASCALE: 3068 votes (56,35%)\n",
      "ELENA UGOLINI: 2217 votes (40,72%)\n",
      "LUCA TEODORI: 85 votes (1,56%)\n",
      "FEDERICO SERRA: 75 votes (1,38%)\n",
      "Processed SAVIGNANO SUL RUBICONE\n",
      "\n",
      "Processing record 104\n",
      "URL: https://eleapi.interno.gov.it/siel/PX/scrutiniR/DE/20241117/TE/07/RE/08/PR/032/CM/0450\n"
     ]
    },
    {
     "name": "stdout",
     "output_type": "stream",
     "text": [
      "Response status code: 200\n",
      "Processing data for Comune: SOGLIANO AL RUBICONE, Provincia: FORLI'-CESENA\n",
      "ELENA UGOLINI: 554 votes (50,05%)\n",
      "MICHELE DE PASCALE: 513 votes (46,34%)\n",
      "LUCA TEODORI: 24 votes (2,17%)\n",
      "FEDERICO SERRA: 16 votes (1,45%)\n",
      "Processed SOGLIANO AL RUBICONE\n",
      "\n",
      "Processing record 105\n",
      "URL: https://eleapi.interno.gov.it/siel/PX/scrutiniR/DE/20241117/TE/07/RE/08/PR/032/CM/0480\n"
     ]
    },
    {
     "name": "stdout",
     "output_type": "stream",
     "text": [
      "Response status code: 200\n",
      "Processing data for Comune: TREDOZIO, Provincia: FORLI'-CESENA\n",
      "ELENA UGOLINI: 212 votes (53,13%)\n",
      "MICHELE DE PASCALE: 182 votes (45,61%)\n",
      "FEDERICO SERRA: 3 votes (0,75%)\n",
      "LUCA TEODORI: 2 votes (0,50%)\n",
      "Processed TREDOZIO\n",
      "\n",
      "Processing record 106\n",
      "URL: https://eleapi.interno.gov.it/siel/PX/scrutiniR/DE/20241117/TE/07/RE/08/PR/032/CM/0490\n"
     ]
    },
    {
     "name": "stdout",
     "output_type": "stream",
     "text": [
      "Response status code: 200\n",
      "Processing data for Comune: VERGHERETO, Provincia: FORLI'-CESENA\n",
      "ELENA UGOLINI: 389 votes (59,12%)\n",
      "MICHELE DE PASCALE: 260 votes (39,51%)\n",
      "LUCA TEODORI: 6 votes (0,91%)\n",
      "FEDERICO SERRA: 3 votes (0,46%)\n",
      "Processed VERGHERETO\n",
      "\n",
      "Processing record 107\n",
      "URL: https://eleapi.interno.gov.it/siel/PX/scrutiniR/DE/20241117/TE/07/RE/08/PR/050/CM/0010\n"
     ]
    },
    {
     "name": "stdout",
     "output_type": "stream",
     "text": [
      "Response status code: 200\n",
      "Processing data for Comune: BASTIGLIA, Provincia: MODENA\n",
      "MICHELE DE PASCALE: 880 votes (61,50%)\n",
      "ELENA UGOLINI: 513 votes (35,85%)\n",
      "FEDERICO SERRA: 29 votes (2,03%)\n",
      "LUCA TEODORI: 9 votes (0,63%)\n",
      "Processed BASTIGLIA\n",
      "\n",
      "Processing record 108\n",
      "URL: https://eleapi.interno.gov.it/siel/PX/scrutiniR/DE/20241117/TE/07/RE/08/PR/050/CM/0020\n"
     ]
    },
    {
     "name": "stdout",
     "output_type": "stream",
     "text": [
      "Response status code: 200\n",
      "Processing data for Comune: BOMPORTO, Provincia: MODENA\n",
      "MICHELE DE PASCALE: 1910 votes (55,86%)\n",
      "ELENA UGOLINI: 1414 votes (41,36%)\n",
      "LUCA TEODORI: 50 votes (1,46%)\n",
      "FEDERICO SERRA: 45 votes (1,32%)\n",
      "Processed BOMPORTO\n",
      "\n",
      "Processing record 109\n",
      "URL: https://eleapi.interno.gov.it/siel/PX/scrutiniR/DE/20241117/TE/07/RE/08/PR/050/CM/0030\n"
     ]
    },
    {
     "name": "stdout",
     "output_type": "stream",
     "text": [
      "Response status code: 200\n",
      "Processing data for Comune: CAMPOGALLIANO, Provincia: MODENA\n",
      "MICHELE DE PASCALE: 2083 votes (65,15%)\n",
      "ELENA UGOLINI: 1015 votes (31,75%)\n",
      "LUCA TEODORI: 53 votes (1,66%)\n",
      "FEDERICO SERRA: 46 votes (1,44%)\n",
      "Processed CAMPOGALLIANO\n",
      "\n",
      "Processing record 110\n",
      "URL: https://eleapi.interno.gov.it/siel/PX/scrutiniR/DE/20241117/TE/07/RE/08/PR/050/CM/0040\n"
     ]
    },
    {
     "name": "stdout",
     "output_type": "stream",
     "text": [
      "Response status code: 200\n",
      "Processing data for Comune: CAMPOSANTO, Provincia: MODENA\n",
      "ELENA UGOLINI: 605 votes (52,11%)\n",
      "MICHELE DE PASCALE: 524 votes (45,13%)\n",
      "LUCA TEODORI: 17 votes (1,46%)\n",
      "FEDERICO SERRA: 15 votes (1,29%)\n",
      "Processed CAMPOSANTO\n",
      "\n",
      "Processing record 111\n",
      "URL: https://eleapi.interno.gov.it/siel/PX/scrutiniR/DE/20241117/TE/07/RE/08/PR/050/CM/0050\n"
     ]
    },
    {
     "name": "stdout",
     "output_type": "stream",
     "text": [
      "Response status code: 200\n",
      "Processing data for Comune: CARPI, Provincia: MODENA\n",
      "MICHELE DE PASCALE: 16855 votes (63,82%)\n",
      "ELENA UGOLINI: 8837 votes (33,46%)\n",
      "FEDERICO SERRA: 428 votes (1,62%)\n",
      "LUCA TEODORI: 292 votes (1,11%)\n",
      "Processed CARPI\n",
      "\n",
      "Processing record 112\n",
      "URL: https://eleapi.interno.gov.it/siel/PX/scrutiniR/DE/20241117/TE/07/RE/08/PR/050/CM/0060\n"
     ]
    },
    {
     "name": "stdout",
     "output_type": "stream",
     "text": [
      "Response status code: 200\n",
      "Processing data for Comune: CASTELFRANCO EMILIA, Provincia: MODENA\n",
      "MICHELE DE PASCALE: 7281 votes (63,09%)\n",
      "ELENA UGOLINI: 3936 votes (34,10%)\n",
      "FEDERICO SERRA: 213 votes (1,85%)\n",
      "LUCA TEODORI: 111 votes (0,96%)\n",
      "Processed CASTELFRANCO EMILIA\n",
      "\n",
      "Processing record 113\n",
      "URL: https://eleapi.interno.gov.it/siel/PX/scrutiniR/DE/20241117/TE/07/RE/08/PR/050/CM/0070\n"
     ]
    },
    {
     "name": "stdout",
     "output_type": "stream",
     "text": [
      "Response status code: 200\n",
      "Processing data for Comune: CASTELNUOVO RANGONE, Provincia: MODENA\n",
      "MICHELE DE PASCALE: 3534 votes (59,65%)\n",
      "ELENA UGOLINI: 2224 votes (37,54%)\n",
      "LUCA TEODORI: 84 votes (1,42%)\n",
      "FEDERICO SERRA: 83 votes (1,40%)\n",
      "Processed CASTELNUOVO RANGONE\n",
      "\n",
      "Processing record 114\n",
      "URL: https://eleapi.interno.gov.it/siel/PX/scrutiniR/DE/20241117/TE/07/RE/08/PR/050/CM/0080\n"
     ]
    },
    {
     "name": "stdout",
     "output_type": "stream",
     "text": [
      "Response status code: 200\n",
      "Processing data for Comune: CASTELVETRO DI MODENA, Provincia: MODENA\n",
      "MICHELE DE PASCALE: 2321 votes (58,55%)\n",
      "ELENA UGOLINI: 1541 votes (38,87%)\n",
      "LUCA TEODORI: 57 votes (1,44%)\n",
      "FEDERICO SERRA: 45 votes (1,14%)\n",
      "Processed CASTELVETRO DI MODENA\n",
      "\n",
      "Processing record 115\n",
      "URL: https://eleapi.interno.gov.it/siel/PX/scrutiniR/DE/20241117/TE/07/RE/08/PR/050/CM/0090\n"
     ]
    },
    {
     "name": "stdout",
     "output_type": "stream",
     "text": [
      "Response status code: 200\n",
      "Processing data for Comune: CAVEZZO, Provincia: MODENA\n",
      "MICHELE DE PASCALE: 1300 votes (49,54%)\n",
      "ELENA UGOLINI: 1247 votes (47,52%)\n",
      "LUCA TEODORI: 41 votes (1,56%)\n",
      "FEDERICO SERRA: 36 votes (1,37%)\n",
      "Processed CAVEZZO\n",
      "\n",
      "Processing record 116\n",
      "URL: https://eleapi.interno.gov.it/siel/PX/scrutiniR/DE/20241117/TE/07/RE/08/PR/050/CM/0100\n"
     ]
    },
    {
     "name": "stdout",
     "output_type": "stream",
     "text": [
      "Response status code: 200\n",
      "Processing data for Comune: CONCORDIA SULLA SECCHIA, Provincia: MODENA\n",
      "MICHELE DE PASCALE: 1580 votes (56,23%)\n",
      "ELENA UGOLINI: 1160 votes (41,28%)\n",
      "FEDERICO SERRA: 38 votes (1,35%)\n",
      "LUCA TEODORI: 32 votes (1,14%)\n",
      "Processed CONCORDIA SULLA SECCHIA\n",
      "\n",
      "Processing record 117\n",
      "URL: https://eleapi.interno.gov.it/siel/PX/scrutiniR/DE/20241117/TE/07/RE/08/PR/050/CM/0110\n"
     ]
    },
    {
     "name": "stdout",
     "output_type": "stream",
     "text": [
      "Response status code: 200\n",
      "Processing data for Comune: FANANO, Provincia: MODENA\n",
      "MICHELE DE PASCALE: 634 votes (51,76%)\n",
      "ELENA UGOLINI: 573 votes (46,78%)\n",
      "FEDERICO SERRA: 12 votes (0,98%)\n",
      "LUCA TEODORI: 6 votes (0,49%)\n",
      "Processed FANANO\n",
      "\n",
      "Processing record 118\n",
      "URL: https://eleapi.interno.gov.it/siel/PX/scrutiniR/DE/20241117/TE/07/RE/08/PR/050/CM/0120\n"
     ]
    },
    {
     "name": "stdout",
     "output_type": "stream",
     "text": [
      "Response status code: 200\n",
      "Processing data for Comune: FINALE EMILIA, Provincia: MODENA\n",
      "ELENA UGOLINI: 2716 votes (53,28%)\n",
      "MICHELE DE PASCALE: 2187 votes (42,90%)\n",
      "FEDERICO SERRA: 134 votes (2,63%)\n",
      "LUCA TEODORI: 61 votes (1,20%)\n",
      "Processed FINALE EMILIA\n",
      "\n",
      "Processing record 119\n",
      "URL: https://eleapi.interno.gov.it/siel/PX/scrutiniR/DE/20241117/TE/07/RE/08/PR/050/CM/0130\n"
     ]
    },
    {
     "name": "stdout",
     "output_type": "stream",
     "text": [
      "Response status code: 200\n",
      "Processing data for Comune: FIORANO MODENESE, Provincia: MODENA\n",
      "MICHELE DE PASCALE: 3165 votes (57,84%)\n",
      "ELENA UGOLINI: 2189 votes (40,00%)\n",
      "FEDERICO SERRA: 77 votes (1,41%)\n",
      "LUCA TEODORI: 41 votes (0,75%)\n",
      "Processed FIORANO MODENESE\n",
      "\n",
      "Processing record 120\n",
      "URL: https://eleapi.interno.gov.it/siel/PX/scrutiniR/DE/20241117/TE/07/RE/08/PR/050/CM/0140\n"
     ]
    },
    {
     "name": "stdout",
     "output_type": "stream",
     "text": [
      "Response status code: 200\n",
      "Processing data for Comune: FIUMALBO, Provincia: MODENA\n",
      "ELENA UGOLINI: 368 votes (75,41%)\n",
      "MICHELE DE PASCALE: 112 votes (22,95%)\n",
      "FEDERICO SERRA: 6 votes (1,23%)\n",
      "LUCA TEODORI: 2 votes (0,41%)\n",
      "Processed FIUMALBO\n",
      "\n",
      "Processing record 121\n",
      "URL: https://eleapi.interno.gov.it/siel/PX/scrutiniR/DE/20241117/TE/07/RE/08/PR/050/CM/0150\n"
     ]
    },
    {
     "name": "stdout",
     "output_type": "stream",
     "text": [
      "Response status code: 200\n",
      "Processing data for Comune: FORMIGINE, Provincia: MODENA\n",
      "MICHELE DE PASCALE: 8965 votes (63,97%)\n",
      "ELENA UGOLINI: 4770 votes (34,04%)\n",
      "FEDERICO SERRA: 155 votes (1,11%)\n",
      "LUCA TEODORI: 124 votes (0,88%)\n",
      "Processed FORMIGINE\n",
      "\n",
      "Processing record 122\n",
      "URL: https://eleapi.interno.gov.it/siel/PX/scrutiniR/DE/20241117/TE/07/RE/08/PR/050/CM/0160\n"
     ]
    },
    {
     "name": "stdout",
     "output_type": "stream",
     "text": [
      "Response status code: 200\n",
      "Processing data for Comune: FRASSINORO, Provincia: MODENA\n",
      "ELENA UGOLINI: 394 votes (54,27%)\n",
      "MICHELE DE PASCALE: 310 votes (42,70%)\n",
      "FEDERICO SERRA: 19 votes (2,62%)\n",
      "LUCA TEODORI: 3 votes (0,41%)\n",
      "Processed FRASSINORO\n",
      "\n",
      "Processing record 123\n",
      "URL: https://eleapi.interno.gov.it/siel/PX/scrutiniR/DE/20241117/TE/07/RE/08/PR/050/CM/0170\n"
     ]
    },
    {
     "name": "stdout",
     "output_type": "stream",
     "text": [
      "Response status code: 200\n",
      "Processing data for Comune: GUIGLIA, Provincia: MODENA\n",
      "ELENA UGOLINI: 705 votes (48,72%)\n",
      "MICHELE DE PASCALE: 696 votes (48,10%)\n",
      "FEDERICO SERRA: 25 votes (1,73%)\n",
      "LUCA TEODORI: 21 votes (1,45%)\n",
      "Processed GUIGLIA\n",
      "\n",
      "Processing record 124\n",
      "URL: https://eleapi.interno.gov.it/siel/PX/scrutiniR/DE/20241117/TE/07/RE/08/PR/050/CM/0180\n"
     ]
    },
    {
     "name": "stdout",
     "output_type": "stream",
     "text": [
      "Response status code: 200\n",
      "Processing data for Comune: LAMA MOCOGNO, Provincia: MODENA\n",
      "ELENA UGOLINI: 581 votes (54,91%)\n",
      "MICHELE DE PASCALE: 452 votes (42,72%)\n",
      "LUCA TEODORI: 14 votes (1,32%)\n",
      "FEDERICO SERRA: 11 votes (1,04%)\n",
      "Processed LAMA MOCOGNO\n",
      "\n",
      "Processing record 125\n",
      "URL: https://eleapi.interno.gov.it/siel/PX/scrutiniR/DE/20241117/TE/07/RE/08/PR/050/CM/0190\n"
     ]
    },
    {
     "name": "stdout",
     "output_type": "stream",
     "text": [
      "Response status code: 200\n",
      "Processing data for Comune: MARANELLO, Provincia: MODENA\n",
      "MICHELE DE PASCALE: 3245 votes (55,18%)\n",
      "ELENA UGOLINI: 2483 votes (42,22%)\n",
      "FEDERICO SERRA: 97 votes (1,65%)\n",
      "LUCA TEODORI: 56 votes (0,95%)\n",
      "Processed MARANELLO\n",
      "\n",
      "Processing record 126\n",
      "URL: https://eleapi.interno.gov.it/siel/PX/scrutiniR/DE/20241117/TE/07/RE/08/PR/050/CM/0200\n"
     ]
    },
    {
     "name": "stdout",
     "output_type": "stream",
     "text": [
      "Response status code: 200\n",
      "Processing data for Comune: MARANO SUL PANARO, Provincia: MODENA\n",
      "ELENA UGOLINI: 895 votes (48,64%)\n",
      "MICHELE DE PASCALE: 889 votes (48,32%)\n",
      "FEDERICO SERRA: 30 votes (1,63%)\n",
      "LUCA TEODORI: 26 votes (1,41%)\n",
      "Processed MARANO SUL PANARO\n",
      "\n",
      "Processing record 127\n",
      "URL: https://eleapi.interno.gov.it/siel/PX/scrutiniR/DE/20241117/TE/07/RE/08/PR/050/CM/0210\n"
     ]
    },
    {
     "name": "stdout",
     "output_type": "stream",
     "text": [
      "Response status code: 200\n",
      "Processing data for Comune: MEDOLLA, Provincia: MODENA\n",
      "MICHELE DE PASCALE: 1340 votes (53,43%)\n",
      "ELENA UGOLINI: 1111 votes (44,30%)\n",
      "FEDERICO SERRA: 29 votes (1,16%)\n",
      "LUCA TEODORI: 28 votes (1,12%)\n",
      "Processed MEDOLLA\n",
      "\n",
      "Processing record 128\n",
      "URL: https://eleapi.interno.gov.it/siel/PX/scrutiniR/DE/20241117/TE/07/RE/08/PR/050/CM/0220\n"
     ]
    },
    {
     "name": "stdout",
     "output_type": "stream",
     "text": [
      "Response status code: 200\n",
      "Processing data for Comune: MIRANDOLA, Provincia: MODENA\n",
      "MICHELE DE PASCALE: 4391 votes (50,95%)\n",
      "ELENA UGOLINI: 4043 votes (46,91%)\n",
      "FEDERICO SERRA: 112 votes (1,30%)\n",
      "LUCA TEODORI: 72 votes (0,84%)\n",
      "Processed MIRANDOLA\n",
      "\n",
      "Processing record 129\n",
      "URL: https://eleapi.interno.gov.it/siel/PX/scrutiniR/DE/20241117/TE/07/RE/08/PR/050/CM/0230\n"
     ]
    },
    {
     "name": "stdout",
     "output_type": "stream",
     "text": [
      "Response status code: 200\n",
      "Processing data for Comune: MODENA, Provincia: MODENA\n",
      "MICHELE DE PASCALE: 46486 votes (65,85%)\n",
      "ELENA UGOLINI: 22286 votes (31,57%)\n",
      "FEDERICO SERRA: 1201 votes (1,70%)\n",
      "LUCA TEODORI: 621 votes (0,88%)\n",
      "Processed MODENA\n",
      "\n",
      "Processing record 130\n",
      "URL: https://eleapi.interno.gov.it/siel/PX/scrutiniR/DE/20241117/TE/07/RE/08/PR/050/CM/0240\n"
     ]
    },
    {
     "name": "stdout",
     "output_type": "stream",
     "text": [
      "Response status code: 200\n",
      "Processing data for Comune: MONTECRETO, Provincia: MODENA\n",
      "ELENA UGOLINI: 243 votes (57,72%)\n",
      "MICHELE DE PASCALE: 168 votes (39,90%)\n",
      "FEDERICO SERRA: 6 votes (1,43%)\n",
      "LUCA TEODORI: 4 votes (0,95%)\n",
      "Processed MONTECRETO\n",
      "\n",
      "Processing record 131\n",
      "URL: https://eleapi.interno.gov.it/siel/PX/scrutiniR/DE/20241117/TE/07/RE/08/PR/050/CM/0250\n"
     ]
    },
    {
     "name": "stdout",
     "output_type": "stream",
     "text": [
      "Response status code: 200\n",
      "Processing data for Comune: MONTEFIORINO, Provincia: MODENA\n",
      "ELENA UGOLINI: 409 votes (50,31%)\n",
      "MICHELE DE PASCALE: 382 votes (46,99%)\n",
      "FEDERICO SERRA: 20 votes (2,46%)\n",
      "LUCA TEODORI: 2 votes (0,25%)\n",
      "Processed MONTEFIORINO\n",
      "\n",
      "Processing record 132\n",
      "URL: https://eleapi.interno.gov.it/siel/PX/scrutiniR/DE/20241117/TE/07/RE/08/PR/050/CM/0260\n"
     ]
    },
    {
     "name": "stdout",
     "output_type": "stream",
     "text": [
      "Response status code: 200\n",
      "Processing data for Comune: MONTESE, Provincia: MODENA\n",
      "ELENA UGOLINI: 677 votes (55,49%)\n",
      "MICHELE DE PASCALE: 515 votes (42,21%)\n",
      "FEDERICO SERRA: 15 votes (1,23%)\n",
      "LUCA TEODORI: 13 votes (1,07%)\n",
      "Processed MONTESE\n",
      "\n",
      "Processing record 133\n",
      "URL: https://eleapi.interno.gov.it/siel/PX/scrutiniR/DE/20241117/TE/07/RE/08/PR/050/CM/0270\n"
     ]
    },
    {
     "name": "stdout",
     "output_type": "stream",
     "text": [
      "Response status code: 200\n",
      "Processing data for Comune: NONANTOLA, Provincia: MODENA\n",
      "MICHELE DE PASCALE: 4030 votes (66,95%)\n",
      "ELENA UGOLINI: 1847 votes (30,69%)\n",
      "FEDERICO SERRA: 84 votes (1,40%)\n",
      "LUCA TEODORI: 58 votes (0,96%)\n",
      "Processed NONANTOLA\n",
      "\n",
      "Processing record 134\n",
      "URL: https://eleapi.interno.gov.it/siel/PX/scrutiniR/DE/20241117/TE/07/RE/08/PR/050/CM/0280\n"
     ]
    },
    {
     "name": "stdout",
     "output_type": "stream",
     "text": [
      "Response status code: 200\n",
      "Processing data for Comune: NOVI DI MODENA, Provincia: MODENA\n",
      "MICHELE DE PASCALE: 2186 votes (63,33%)\n",
      "ELENA UGOLINI: 1162 votes (33,66%)\n",
      "FEDERICO SERRA: 77 votes (2,23%)\n",
      "LUCA TEODORI: 27 votes (0,78%)\n",
      "Processed NOVI DI MODENA\n",
      "\n",
      "Processing record 135\n",
      "URL: https://eleapi.interno.gov.it/siel/PX/scrutiniR/DE/20241117/TE/07/RE/08/PR/050/CM/0281\n"
     ]
    },
    {
     "name": "stdout",
     "output_type": "stream",
     "text": [
      "Response status code: 200\n",
      "Processing data for Comune: PALAGANO, Provincia: MODENA\n",
      "ELENA UGOLINI: 428 votes (51,94%)\n",
      "MICHELE DE PASCALE: 374 votes (45,39%)\n",
      "FEDERICO SERRA: 14 votes (1,70%)\n",
      "LUCA TEODORI: 8 votes (0,97%)\n",
      "Processed PALAGANO\n",
      "\n",
      "Processing record 136\n",
      "URL: https://eleapi.interno.gov.it/siel/PX/scrutiniR/DE/20241117/TE/07/RE/08/PR/050/CM/0290\n"
     ]
    },
    {
     "name": "stdout",
     "output_type": "stream",
     "text": [
      "Response status code: 200\n",
      "Processing data for Comune: PAVULLO NEL FRIGNANO, Provincia: MODENA\n",
      "ELENA UGOLINI: 3429 votes (54,67%)\n",
      "MICHELE DE PASCALE: 2696 votes (42,98%)\n",
      "FEDERICO SERRA: 98 votes (1,56%)\n",
      "LUCA TEODORI: 49 votes (0,78%)\n",
      "Processed PAVULLO NEL FRIGNANO\n",
      "\n",
      "Processing record 137\n",
      "URL: https://eleapi.interno.gov.it/siel/PX/scrutiniR/DE/20241117/TE/07/RE/08/PR/050/CM/0300\n"
     ]
    },
    {
     "name": "stdout",
     "output_type": "stream",
     "text": [
      "Response status code: 200\n",
      "Processing data for Comune: PIEVEPELAGO, Provincia: MODENA\n",
      "ELENA UGOLINI: 486 votes (60,98%)\n",
      "MICHELE DE PASCALE: 293 votes (36,76%)\n",
      "FEDERICO SERRA: 14 votes (1,76%)\n",
      "LUCA TEODORI: 4 votes (0,50%)\n",
      "Processed PIEVEPELAGO\n",
      "\n",
      "Processing record 138\n",
      "URL: https://eleapi.interno.gov.it/siel/PX/scrutiniR/DE/20241117/TE/07/RE/08/PR/050/CM/0310\n"
     ]
    },
    {
     "name": "stdout",
     "output_type": "stream",
     "text": [
      "Response status code: 200\n",
      "Processing data for Comune: POLINAGO, Provincia: MODENA\n",
      "ELENA UGOLINI: 338 votes (58,38%)\n",
      "MICHELE DE PASCALE: 224 votes (38,69%)\n",
      "LUCA TEODORI: 11 votes (1,90%)\n",
      "FEDERICO SERRA: 6 votes (1,04%)\n",
      "Processed POLINAGO\n",
      "\n",
      "Processing record 139\n",
      "URL: https://eleapi.interno.gov.it/siel/PX/scrutiniR/DE/20241117/TE/07/RE/08/PR/050/CM/0320\n"
     ]
    },
    {
     "name": "stdout",
     "output_type": "stream",
     "text": [
      "Response status code: 200\n",
      "Processing data for Comune: PRIGNANO SULLA SECCHIA, Provincia: MODENA\n",
      "ELENA UGOLINI: 794 votes (54,76%)\n",
      "MICHELE DE PASCALE: 599 votes (41,31%)\n",
      "FEDERICO SERRA: 29 votes (2,00%)\n",
      "LUCA TEODORI: 28 votes (1,93%)\n",
      "Processed PRIGNANO SULLA SECCHIA\n",
      "\n",
      "Processing record 140\n",
      "URL: https://eleapi.interno.gov.it/siel/PX/scrutiniR/DE/20241117/TE/07/RE/08/PR/050/CM/0330\n"
     ]
    },
    {
     "name": "stdout",
     "output_type": "stream",
     "text": [
      "Response status code: 200\n",
      "Processing data for Comune: RAVARINO, Provincia: MODENA\n",
      "MICHELE DE PASCALE: 1386 votes (62,89%)\n",
      "ELENA UGOLINI: 748 votes (33,94%)\n",
      "FEDERICO SERRA: 44 votes (2,00%)\n",
      "LUCA TEODORI: 26 votes (1,18%)\n",
      "Processed RAVARINO\n",
      "\n",
      "Processing record 141\n",
      "URL: https://eleapi.interno.gov.it/siel/PX/scrutiniR/DE/20241117/TE/07/RE/08/PR/050/CM/0340\n"
     ]
    },
    {
     "name": "stdout",
     "output_type": "stream",
     "text": [
      "Response status code: 200\n",
      "Processing data for Comune: RIOLUNATO, Provincia: MODENA\n",
      "ELENA UGOLINI: 164 votes (57,54%)\n",
      "MICHELE DE PASCALE: 116 votes (40,70%)\n",
      "FEDERICO SERRA: 3 votes (1,05%)\n",
      "LUCA TEODORI: 2 votes (0,70%)\n",
      "Processed RIOLUNATO\n",
      "\n",
      "Processing record 142\n",
      "URL: https://eleapi.interno.gov.it/siel/PX/scrutiniR/DE/20241117/TE/07/RE/08/PR/050/CM/0350\n"
     ]
    },
    {
     "name": "stdout",
     "output_type": "stream",
     "text": [
      "Response status code: 200\n",
      "Processing data for Comune: SAN CESARIO SUL PANARO, Provincia: MODENA\n",
      "MICHELE DE PASCALE: 1699 votes (64,53%)\n",
      "ELENA UGOLINI: 844 votes (32,05%)\n",
      "FEDERICO SERRA: 51 votes (1,94%)\n",
      "LUCA TEODORI: 39 votes (1,48%)\n",
      "Processed SAN CESARIO SUL PANARO\n",
      "\n",
      "Processing record 143\n",
      "URL: https://eleapi.interno.gov.it/siel/PX/scrutiniR/DE/20241117/TE/07/RE/08/PR/050/CM/0360\n"
     ]
    },
    {
     "name": "stdout",
     "output_type": "stream",
     "text": [
      "Response status code: 200\n",
      "Processing data for Comune: SAN FELICE SUL PANARO, Provincia: MODENA\n",
      "ELENA UGOLINI: 1906 votes (51,99%)\n",
      "MICHELE DE PASCALE: 1673 votes (45,64%)\n",
      "FEDERICO SERRA: 55 votes (1,50%)\n",
      "LUCA TEODORI: 32 votes (0,87%)\n",
      "Processed SAN FELICE SUL PANARO\n",
      "\n",
      "Processing record 144\n",
      "URL: https://eleapi.interno.gov.it/siel/PX/scrutiniR/DE/20241117/TE/07/RE/08/PR/050/CM/0370\n"
     ]
    },
    {
     "name": "stdout",
     "output_type": "stream",
     "text": [
      "Response status code: 200\n",
      "Processing data for Comune: SAN POSSIDONIO, Provincia: MODENA\n",
      "MICHELE DE PASCALE: 600 votes (49,34%)\n",
      "ELENA UGOLINI: 590 votes (48,52%)\n",
      "LUCA TEODORI: 15 votes (1,23%)\n",
      "FEDERICO SERRA: 11 votes (0,90%)\n",
      "Processed SAN POSSIDONIO\n",
      "\n",
      "Processing record 145\n",
      "URL: https://eleapi.interno.gov.it/siel/PX/scrutiniR/DE/20241117/TE/07/RE/08/PR/050/CM/0380\n"
     ]
    },
    {
     "name": "stdout",
     "output_type": "stream",
     "text": [
      "Response status code: 200\n",
      "Processing data for Comune: SAN PROSPERO, Provincia: MODENA\n",
      "MICHELE DE PASCALE: 989 votes (53,46%)\n",
      "ELENA UGOLINI: 794 votes (42,92%)\n",
      "FEDERICO SERRA: 38 votes (2,05%)\n",
      "LUCA TEODORI: 29 votes (1,57%)\n",
      "Processed SAN PROSPERO\n",
      "\n",
      "Processing record 146\n",
      "URL: https://eleapi.interno.gov.it/siel/PX/scrutiniR/DE/20241117/TE/07/RE/08/PR/050/CM/0390\n"
     ]
    },
    {
     "name": "stdout",
     "output_type": "stream",
     "text": [
      "Response status code: 200\n",
      "Processing data for Comune: SASSUOLO, Provincia: MODENA\n",
      "MICHELE DE PASCALE: 6552 votes (50,58%)\n",
      "ELENA UGOLINI: 6040 votes (46,63%)\n",
      "FEDERICO SERRA: 201 votes (1,55%)\n",
      "LUCA TEODORI: 161 votes (1,24%)\n",
      "Processed SASSUOLO\n",
      "\n",
      "Processing record 147\n",
      "URL: https://eleapi.interno.gov.it/siel/PX/scrutiniR/DE/20241117/TE/07/RE/08/PR/050/CM/0400\n"
     ]
    },
    {
     "name": "stdout",
     "output_type": "stream",
     "text": [
      "Response status code: 200\n",
      "Processing data for Comune: SAVIGNANO SUL PANARO, Provincia: MODENA\n",
      "MICHELE DE PASCALE: 1939 votes (57,74%)\n",
      "ELENA UGOLINI: 1299 votes (38,68%)\n",
      "FEDERICO SERRA: 75 votes (2,23%)\n",
      "LUCA TEODORI: 45 votes (1,34%)\n",
      "Processed SAVIGNANO SUL PANARO\n",
      "\n",
      "Processing record 148\n",
      "URL: https://eleapi.interno.gov.it/siel/PX/scrutiniR/DE/20241117/TE/07/RE/08/PR/050/CM/0410\n"
     ]
    },
    {
     "name": "stdout",
     "output_type": "stream",
     "text": [
      "Response status code: 200\n",
      "Processing data for Comune: SERRAMAZZONI, Provincia: MODENA\n",
      "ELENA UGOLINI: 1591 votes (56,62%)\n",
      "MICHELE DE PASCALE: 1122 votes (39,93%)\n",
      "FEDERICO SERRA: 49 votes (1,74%)\n",
      "LUCA TEODORI: 48 votes (1,71%)\n",
      "Processed SERRAMAZZONI\n",
      "\n",
      "Processing record 149\n",
      "URL: https://eleapi.interno.gov.it/siel/PX/scrutiniR/DE/20241117/TE/07/RE/08/PR/050/CM/0420\n"
     ]
    },
    {
     "name": "stdout",
     "output_type": "stream",
     "text": [
      "Response status code: 200\n",
      "Processing data for Comune: SESTOLA, Provincia: MODENA\n",
      "ELENA UGOLINI: 521 votes (52,73%)\n",
      "MICHELE DE PASCALE: 445 votes (45,04%)\n",
      "LUCA TEODORI: 13 votes (1,32%)\n",
      "FEDERICO SERRA: 9 votes (0,91%)\n",
      "Processed SESTOLA\n",
      "\n",
      "Processing record 150\n",
      "URL: https://eleapi.interno.gov.it/siel/PX/scrutiniR/DE/20241117/TE/07/RE/08/PR/050/CM/0430\n"
     ]
    },
    {
     "name": "stdout",
     "output_type": "stream",
     "text": [
      "Response status code: 200\n",
      "Processing data for Comune: SOLIERA, Provincia: MODENA\n",
      "MICHELE DE PASCALE: 3788 votes (64,81%)\n",
      "ELENA UGOLINI: 1887 votes (32,28%)\n",
      "FEDERICO SERRA: 97 votes (1,66%)\n",
      "LUCA TEODORI: 73 votes (1,25%)\n",
      "Processed SOLIERA\n",
      "\n",
      "Processing record 151\n",
      "URL: https://eleapi.interno.gov.it/siel/PX/scrutiniR/DE/20241117/TE/07/RE/08/PR/050/CM/0440\n"
     ]
    },
    {
     "name": "stdout",
     "output_type": "stream",
     "text": [
      "Response status code: 200\n",
      "Processing data for Comune: SPILAMBERTO, Provincia: MODENA\n",
      "MICHELE DE PASCALE: 2832 votes (62,26%)\n",
      "ELENA UGOLINI: 1565 votes (34,40%)\n",
      "FEDERICO SERRA: 95 votes (2,09%)\n",
      "LUCA TEODORI: 57 votes (1,25%)\n",
      "Processed SPILAMBERTO\n",
      "\n",
      "Processing record 152\n",
      "URL: https://eleapi.interno.gov.it/siel/PX/scrutiniR/DE/20241117/TE/07/RE/08/PR/050/CM/0450\n"
     ]
    },
    {
     "name": "stdout",
     "output_type": "stream",
     "text": [
      "Response status code: 200\n",
      "Processing data for Comune: VIGNOLA, Provincia: MODENA\n",
      "MICHELE DE PASCALE: 4945 votes (53,93%)\n",
      "ELENA UGOLINI: 3989 votes (43,51%)\n",
      "FEDERICO SERRA: 138 votes (1,51%)\n",
      "LUCA TEODORI: 97 votes (1,06%)\n",
      "Processed VIGNOLA\n",
      "\n",
      "Processing record 153\n",
      "URL: https://eleapi.interno.gov.it/siel/PX/scrutiniR/DE/20241117/TE/07/RE/08/PR/050/CM/0460\n"
     ]
    },
    {
     "name": "stdout",
     "output_type": "stream",
     "text": [
      "Response status code: 200\n",
      "Processing data for Comune: ZOCCA, Provincia: MODENA\n",
      "ELENA UGOLINI: 825 votes (52,12%)\n",
      "MICHELE DE PASCALE: 719 votes (45,42%)\n",
      "FEDERICO SERRA: 28 votes (1,77%)\n",
      "LUCA TEODORI: 11 votes (0,69%)\n",
      "Processed ZOCCA\n",
      "\n",
      "Processing record 154\n",
      "URL: https://eleapi.interno.gov.it/siel/PX/scrutiniR/DE/20241117/TE/07/RE/08/PR/056/CM/0010\n"
     ]
    },
    {
     "name": "stdout",
     "output_type": "stream",
     "text": [
      "Response status code: 200\n",
      "Processing data for Comune: ALBARETO, Provincia: PARMA\n",
      "ELENA UGOLINI: 494 votes (65,52%)\n",
      "MICHELE DE PASCALE: 247 votes (32,76%)\n",
      "FEDERICO SERRA: 10 votes (1,33%)\n",
      "LUCA TEODORI: 3 votes (0,40%)\n",
      "Processed ALBARETO\n",
      "\n",
      "Processing record 155\n",
      "URL: https://eleapi.interno.gov.it/siel/PX/scrutiniR/DE/20241117/TE/07/RE/08/PR/056/CM/0020\n"
     ]
    },
    {
     "name": "stdout",
     "output_type": "stream",
     "text": [
      "Response status code: 200\n",
      "Processing data for Comune: BARDI, Provincia: PARMA\n",
      "ELENA UGOLINI: 475 votes (66,43%)\n",
      "MICHELE DE PASCALE: 221 votes (30,91%)\n",
      "FEDERICO SERRA: 11 votes (1,54%)\n",
      "LUCA TEODORI: 8 votes (1,12%)\n",
      "Processed BARDI\n",
      "\n",
      "Processing record 156\n",
      "URL: https://eleapi.interno.gov.it/siel/PX/scrutiniR/DE/20241117/TE/07/RE/08/PR/056/CM/0030\n"
     ]
    },
    {
     "name": "stdout",
     "output_type": "stream",
     "text": [
      "Response status code: 200\n",
      "Processing data for Comune: BEDONIA, Provincia: PARMA\n",
      "ELENA UGOLINI: 720 votes (66,18%)\n",
      "MICHELE DE PASCALE: 356 votes (32,72%)\n",
      "FEDERICO SERRA: 10 votes (0,92%)\n",
      "LUCA TEODORI: 2 votes (0,18%)\n",
      "Processed BEDONIA\n",
      "\n",
      "Processing record 157\n",
      "URL: https://eleapi.interno.gov.it/siel/PX/scrutiniR/DE/20241117/TE/07/RE/08/PR/056/CM/0040\n"
     ]
    },
    {
     "name": "stdout",
     "output_type": "stream",
     "text": [
      "Response status code: 200\n",
      "Processing data for Comune: BERCETO, Provincia: PARMA\n",
      "ELENA UGOLINI: 371 votes (50,48%)\n",
      "MICHELE DE PASCALE: 347 votes (47,21%)\n",
      "FEDERICO SERRA: 11 votes (1,50%)\n",
      "LUCA TEODORI: 6 votes (0,82%)\n",
      "Processed BERCETO\n",
      "\n",
      "Processing record 158\n",
      "URL: https://eleapi.interno.gov.it/siel/PX/scrutiniR/DE/20241117/TE/07/RE/08/PR/056/CM/0050\n"
     ]
    },
    {
     "name": "stdout",
     "output_type": "stream",
     "text": [
      "Response status code: 200\n",
      "Processing data for Comune: BORE, Provincia: PARMA\n",
      "ELENA UGOLINI: 123 votes (51,46%)\n",
      "MICHELE DE PASCALE: 110 votes (46,03%)\n",
      "LUCA TEODORI: 4 votes (1,67%)\n",
      "FEDERICO SERRA: 2 votes (0,84%)\n",
      "Processed BORE\n",
      "\n",
      "Processing record 159\n",
      "URL: https://eleapi.interno.gov.it/siel/PX/scrutiniR/DE/20241117/TE/07/RE/08/PR/056/CM/0060\n"
     ]
    },
    {
     "name": "stdout",
     "output_type": "stream",
     "text": [
      "Response status code: 200\n",
      "Processing data for Comune: BORGO VAL DI TARO, Provincia: PARMA\n",
      "MICHELE DE PASCALE: 1327 votes (50,69%)\n",
      "ELENA UGOLINI: 1232 votes (47,06%)\n",
      "FEDERICO SERRA: 39 votes (1,49%)\n",
      "LUCA TEODORI: 20 votes (0,76%)\n",
      "Processed BORGO VAL DI TARO\n",
      "\n",
      "Processing record 160\n",
      "URL: https://eleapi.interno.gov.it/siel/PX/scrutiniR/DE/20241117/TE/07/RE/08/PR/056/CM/0070\n"
     ]
    },
    {
     "name": "stdout",
     "output_type": "stream",
     "text": [
      "Response status code: 200\n",
      "Processing data for Comune: BUSSETO, Provincia: PARMA\n",
      "ELENA UGOLINI: 1218 votes (56,78%)\n",
      "MICHELE DE PASCALE: 881 votes (41,07%)\n",
      "LUCA TEODORI: 25 votes (1,17%)\n",
      "FEDERICO SERRA: 21 votes (0,98%)\n",
      "Processed BUSSETO\n",
      "\n",
      "Processing record 161\n",
      "URL: https://eleapi.interno.gov.it/siel/PX/scrutiniR/DE/20241117/TE/07/RE/08/PR/056/CM/0080\n"
     ]
    },
    {
     "name": "stdout",
     "output_type": "stream",
     "text": [
      "Response status code: 200\n",
      "Processing data for Comune: CALESTANO, Provincia: PARMA\n",
      "ELENA UGOLINI: 312 votes (53,89%)\n",
      "MICHELE DE PASCALE: 250 votes (43,18%)\n",
      "LUCA TEODORI: 9 votes (1,55%)\n",
      "FEDERICO SERRA: 8 votes (1,38%)\n",
      "Processed CALESTANO\n",
      "\n",
      "Processing record 162\n",
      "URL: https://eleapi.interno.gov.it/siel/PX/scrutiniR/DE/20241117/TE/07/RE/08/PR/056/CM/0090\n"
     ]
    },
    {
     "name": "stdout",
     "output_type": "stream",
     "text": [
      "Response status code: 200\n",
      "Processing data for Comune: COLLECCHIO, Provincia: PARMA\n",
      "MICHELE DE PASCALE: 3008 votes (54,56%)\n",
      "ELENA UGOLINI: 2327 votes (42,21%)\n",
      "FEDERICO SERRA: 105 votes (1,90%)\n",
      "LUCA TEODORI: 73 votes (1,32%)\n",
      "Processed COLLECCHIO\n",
      "\n",
      "Processing record 163\n",
      "URL: https://eleapi.interno.gov.it/siel/PX/scrutiniR/DE/20241117/TE/07/RE/08/PR/056/CM/0100\n"
     ]
    },
    {
     "name": "stdout",
     "output_type": "stream",
     "text": [
      "Response status code: 200\n",
      "Processing data for Comune: COLORNO, Provincia: PARMA\n",
      "ELENA UGOLINI: 1121 votes (50,00%)\n",
      "MICHELE DE PASCALE: 1060 votes (47,28%)\n",
      "FEDERICO SERRA: 38 votes (1,69%)\n",
      "LUCA TEODORI: 23 votes (1,03%)\n",
      "Processed COLORNO\n",
      "\n",
      "Processing record 164\n",
      "URL: https://eleapi.interno.gov.it/siel/PX/scrutiniR/DE/20241117/TE/07/RE/08/PR/056/CM/0110\n"
     ]
    },
    {
     "name": "stdout",
     "output_type": "stream",
     "text": [
      "Response status code: 200\n",
      "Processing data for Comune: COMPIANO, Provincia: PARMA\n",
      "ELENA UGOLINI: 360 votes (73,02%)\n",
      "MICHELE DE PASCALE: 129 votes (26,17%)\n",
      "LUCA TEODORI: 3 votes (0,61%)\n",
      "FEDERICO SERRA: 1 votes (0,20%)\n",
      "Processed COMPIANO\n",
      "\n",
      "Processing record 165\n",
      "URL: https://eleapi.interno.gov.it/siel/PX/scrutiniR/DE/20241117/TE/07/RE/08/PR/056/CM/0120\n"
     ]
    },
    {
     "name": "stdout",
     "output_type": "stream",
     "text": [
      "Response status code: 200\n",
      "Processing data for Comune: CORNIGLIO, Provincia: PARMA\n",
      "ELENA UGOLINI: 393 votes (57,88%)\n",
      "MICHELE DE PASCALE: 273 votes (40,21%)\n",
      "FEDERICO SERRA: 10 votes (1,47%)\n",
      "LUCA TEODORI: 3 votes (0,44%)\n",
      "Processed CORNIGLIO\n",
      "\n",
      "Processing record 166\n",
      "URL: https://eleapi.interno.gov.it/siel/PX/scrutiniR/DE/20241117/TE/07/RE/08/PR/056/CM/0130\n"
     ]
    },
    {
     "name": "stdout",
     "output_type": "stream",
     "text": [
      "Response status code: 200\n",
      "Processing data for Comune: FELINO, Provincia: PARMA\n",
      "MICHELE DE PASCALE: 1632 votes (51,53%)\n",
      "ELENA UGOLINI: 1407 votes (44,43%)\n",
      "FEDERICO SERRA: 80 votes (2,53%)\n",
      "LUCA TEODORI: 48 votes (1,52%)\n",
      "Processed FELINO\n",
      "\n",
      "Processing record 167\n",
      "URL: https://eleapi.interno.gov.it/siel/PX/scrutiniR/DE/20241117/TE/07/RE/08/PR/056/CM/0140\n"
     ]
    },
    {
     "name": "stdout",
     "output_type": "stream",
     "text": [
      "Response status code: 200\n",
      "Processing data for Comune: FIDENZA, Provincia: PARMA\n",
      "MICHELE DE PASCALE: 5060 votes (54,58%)\n",
      "ELENA UGOLINI: 3954 votes (42,65%)\n",
      "FEDERICO SERRA: 159 votes (1,72%)\n",
      "LUCA TEODORI: 97 votes (1,05%)\n",
      "Processed FIDENZA\n",
      "\n",
      "Processing record 168\n",
      "URL: https://eleapi.interno.gov.it/siel/PX/scrutiniR/DE/20241117/TE/07/RE/08/PR/056/CM/0150\n"
     ]
    },
    {
     "name": "stdout",
     "output_type": "stream",
     "text": [
      "Response status code: 200\n",
      "Processing data for Comune: FONTANELLATO, Provincia: PARMA\n",
      "ELENA UGOLINI: 1203 votes (53,63%)\n",
      "MICHELE DE PASCALE: 986 votes (43,96%)\n",
      "FEDERICO SERRA: 39 votes (1,74%)\n",
      "LUCA TEODORI: 15 votes (0,67%)\n",
      "Processed FONTANELLATO\n",
      "\n",
      "Processing record 169\n",
      "URL: https://eleapi.interno.gov.it/siel/PX/scrutiniR/DE/20241117/TE/07/RE/08/PR/056/CM/0160\n"
     ]
    },
    {
     "name": "stdout",
     "output_type": "stream",
     "text": [
      "Response status code: 200\n",
      "Processing data for Comune: FONTEVIVO, Provincia: PARMA\n",
      "ELENA UGOLINI: 1229 votes (59,20%)\n",
      "MICHELE DE PASCALE: 798 votes (38,44%)\n",
      "FEDERICO SERRA: 30 votes (1,45%)\n",
      "LUCA TEODORI: 19 votes (0,92%)\n",
      "Processed FONTEVIVO\n",
      "\n",
      "Processing record 170\n",
      "URL: https://eleapi.interno.gov.it/siel/PX/scrutiniR/DE/20241117/TE/07/RE/08/PR/056/CM/0170\n"
     ]
    },
    {
     "name": "stdout",
     "output_type": "stream",
     "text": [
      "Response status code: 200\n",
      "Processing data for Comune: FORNOVO DI TARO, Provincia: PARMA\n",
      "MICHELE DE PASCALE: 961 votes (54,76%)\n",
      "ELENA UGOLINI: 731 votes (41,65%)\n",
      "FEDERICO SERRA: 44 votes (2,51%)\n",
      "LUCA TEODORI: 19 votes (1,08%)\n",
      "Processed FORNOVO DI TARO\n",
      "\n",
      "Processing record 171\n",
      "URL: https://eleapi.interno.gov.it/siel/PX/scrutiniR/DE/20241117/TE/07/RE/08/PR/056/CM/0180\n"
     ]
    },
    {
     "name": "stdout",
     "output_type": "stream",
     "text": [
      "Response status code: 200\n",
      "Processing data for Comune: LANGHIRANO, Provincia: PARMA\n",
      "ELENA UGOLINI: 1607 votes (50,74%)\n",
      "MICHELE DE PASCALE: 1470 votes (46,42%)\n",
      "FEDERICO SERRA: 54 votes (1,71%)\n",
      "LUCA TEODORI: 36 votes (1,14%)\n",
      "Processed LANGHIRANO\n",
      "\n",
      "Processing record 172\n",
      "URL: https://eleapi.interno.gov.it/siel/PX/scrutiniR/DE/20241117/TE/07/RE/08/PR/056/CM/0190\n"
     ]
    },
    {
     "name": "stdout",
     "output_type": "stream",
     "text": [
      "Response status code: 200\n",
      "Processing data for Comune: LESIGNANO DE' BAGNI, Provincia: PARMA\n",
      "ELENA UGOLINI: 872 votes (49,10%)\n",
      "MICHELE DE PASCALE: 835 votes (47,02%)\n",
      "FEDERICO SERRA: 48 votes (2,70%)\n",
      "LUCA TEODORI: 21 votes (1,18%)\n",
      "Processed LESIGNANO DE' BAGNI\n",
      "\n",
      "Processing record 173\n",
      "URL: https://eleapi.interno.gov.it/siel/PX/scrutiniR/DE/20241117/TE/07/RE/08/PR/056/CM/0200\n"
     ]
    },
    {
     "name": "stdout",
     "output_type": "stream",
     "text": [
      "Response status code: 200\n",
      "Processing data for Comune: MEDESANO, Provincia: PARMA\n",
      "ELENA UGOLINI: 1935 votes (55,70%)\n",
      "MICHELE DE PASCALE: 1451 votes (41,77%)\n",
      "FEDERICO SERRA: 58 votes (1,67%)\n",
      "LUCA TEODORI: 30 votes (0,86%)\n",
      "Processed MEDESANO\n",
      "\n",
      "Processing record 174\n",
      "URL: https://eleapi.interno.gov.it/siel/PX/scrutiniR/DE/20241117/TE/07/RE/08/PR/056/CM/0220\n"
     ]
    },
    {
     "name": "stdout",
     "output_type": "stream",
     "text": [
      "Response status code: 200\n",
      "Processing data for Comune: MONCHIO DELLE CORTI, Provincia: PARMA\n",
      "ELENA UGOLINI: 210 votes (56,30%)\n",
      "MICHELE DE PASCALE: 153 votes (41,02%)\n",
      "FEDERICO SERRA: 8 votes (2,14%)\n",
      "LUCA TEODORI: 2 votes (0,54%)\n",
      "Processed MONCHIO DELLE CORTI\n",
      "\n",
      "Processing record 175\n",
      "URL: https://eleapi.interno.gov.it/siel/PX/scrutiniR/DE/20241117/TE/07/RE/08/PR/056/CM/0230\n"
     ]
    },
    {
     "name": "stdout",
     "output_type": "stream",
     "text": [
      "Response status code: 200\n",
      "Processing data for Comune: MONTECHIARUGOLO, Provincia: PARMA\n",
      "MICHELE DE PASCALE: 2115 votes (52,20%)\n",
      "ELENA UGOLINI: 1817 votes (44,84%)\n",
      "FEDERICO SERRA: 80 votes (1,97%)\n",
      "LUCA TEODORI: 40 votes (0,99%)\n",
      "Processed MONTECHIARUGOLO\n",
      "\n",
      "Processing record 176\n",
      "URL: https://eleapi.interno.gov.it/siel/PX/scrutiniR/DE/20241117/TE/07/RE/08/PR/056/CM/0240\n"
     ]
    },
    {
     "name": "stdout",
     "output_type": "stream",
     "text": [
      "Response status code: 200\n",
      "Processing data for Comune: NEVIANO DEGLI ARDUINI, Provincia: PARMA\n",
      "ELENA UGOLINI: 670 votes (51,15%)\n",
      "MICHELE DE PASCALE: 592 votes (45,19%)\n",
      "LUCA TEODORI: 25 votes (1,91%)\n",
      "FEDERICO SERRA: 23 votes (1,76%)\n",
      "Processed NEVIANO DEGLI ARDUINI\n",
      "\n",
      "Processing record 177\n",
      "URL: https://eleapi.interno.gov.it/siel/PX/scrutiniR/DE/20241117/TE/07/RE/08/PR/056/CM/0250\n"
     ]
    },
    {
     "name": "stdout",
     "output_type": "stream",
     "text": [
      "Response status code: 200\n",
      "Processing data for Comune: NOCETO, Provincia: PARMA\n",
      "ELENA UGOLINI: 2603 votes (54,80%)\n",
      "MICHELE DE PASCALE: 2054 votes (43,24%)\n",
      "FEDERICO SERRA: 63 votes (1,33%)\n",
      "LUCA TEODORI: 30 votes (0,63%)\n",
      "Processed NOCETO\n",
      "\n",
      "Processing record 178\n",
      "URL: https://eleapi.interno.gov.it/siel/PX/scrutiniR/DE/20241117/TE/07/RE/08/PR/056/CM/0260\n"
     ]
    },
    {
     "name": "stdout",
     "output_type": "stream",
     "text": [
      "Response status code: 200\n",
      "Processing data for Comune: PALANZANO, Provincia: PARMA\n",
      "ELENA UGOLINI: 252 votes (58,88%)\n",
      "MICHELE DE PASCALE: 170 votes (39,72%)\n",
      "FEDERICO SERRA: 5 votes (1,17%)\n",
      "LUCA TEODORI: 1 votes (0,23%)\n",
      "Processed PALANZANO\n",
      "\n",
      "Processing record 179\n",
      "URL: https://eleapi.interno.gov.it/siel/PX/scrutiniR/DE/20241117/TE/07/RE/08/PR/056/CM/0270\n"
     ]
    },
    {
     "name": "stdout",
     "output_type": "stream",
     "text": [
      "Response status code: 200\n",
      "Processing data for Comune: PARMA, Provincia: PARMA\n",
      "MICHELE DE PASCALE: 36828 votes (55,99%)\n",
      "ELENA UGOLINI: 27012 votes (41,06%)\n",
      "FEDERICO SERRA: 1360 votes (2,07%)\n",
      "LUCA TEODORI: 580 votes (0,88%)\n",
      "Processed PARMA\n",
      "\n",
      "Processing record 180\n",
      "URL: https://eleapi.interno.gov.it/siel/PX/scrutiniR/DE/20241117/TE/07/RE/08/PR/056/CM/0280\n"
     ]
    },
    {
     "name": "stdout",
     "output_type": "stream",
     "text": [
      "Response status code: 200\n",
      "Processing data for Comune: PELLEGRINO PARMENSE, Provincia: PARMA\n",
      "ELENA UGOLINI: 177 votes (57,10%)\n",
      "MICHELE DE PASCALE: 127 votes (40,97%)\n",
      "FEDERICO SERRA: 5 votes (1,61%)\n",
      "LUCA TEODORI: 1 votes (0,32%)\n",
      "Processed PELLEGRINO PARMENSE\n",
      "\n",
      "Processing record 181\n",
      "URL: https://eleapi.interno.gov.it/siel/PX/scrutiniR/DE/20241117/TE/07/RE/08/PR/056/CM/0291\n"
     ]
    },
    {
     "name": "stdout",
     "output_type": "stream",
     "text": [
      "Response status code: 200\n",
      "Processing data for Comune: POLESINE ZIBELLO, Provincia: PARMA\n",
      "ELENA UGOLINI: 546 votes (62,33%)\n",
      "MICHELE DE PASCALE: 310 votes (35,39%)\n",
      "FEDERICO SERRA: 12 votes (1,37%)\n",
      "LUCA TEODORI: 8 votes (0,91%)\n",
      "Processed POLESINE ZIBELLO\n",
      "\n",
      "Processing record 182\n",
      "URL: https://eleapi.interno.gov.it/siel/PX/scrutiniR/DE/20241117/TE/07/RE/08/PR/056/CM/0300\n"
     ]
    },
    {
     "name": "stdout",
     "output_type": "stream",
     "text": [
      "Response status code: 200\n",
      "Processing data for Comune: ROCCABIANCA, Provincia: PARMA\n",
      "MICHELE DE PASCALE: 423 votes (48,62%)\n",
      "ELENA UGOLINI: 411 votes (47,24%)\n",
      "FEDERICO SERRA: 29 votes (3,33%)\n",
      "LUCA TEODORI: 7 votes (0,80%)\n",
      "Processed ROCCABIANCA\n",
      "\n",
      "Processing record 183\n",
      "URL: https://eleapi.interno.gov.it/siel/PX/scrutiniR/DE/20241117/TE/07/RE/08/PR/056/CM/0310\n"
     ]
    },
    {
     "name": "stdout",
     "output_type": "stream",
     "text": [
      "Response status code: 200\n",
      "Processing data for Comune: SALA BAGANZA, Provincia: PARMA\n",
      "MICHELE DE PASCALE: 1118 votes (56,58%)\n",
      "ELENA UGOLINI: 800 votes (40,49%)\n",
      "FEDERICO SERRA: 39 votes (1,97%)\n",
      "LUCA TEODORI: 19 votes (0,96%)\n",
      "Processed SALA BAGANZA\n",
      "\n",
      "Processing record 184\n",
      "URL: https://eleapi.interno.gov.it/siel/PX/scrutiniR/DE/20241117/TE/07/RE/08/PR/056/CM/0320\n"
     ]
    },
    {
     "name": "stdout",
     "output_type": "stream",
     "text": [
      "Response status code: 200\n",
      "Processing data for Comune: SALSOMAGGIORE TERME, Provincia: PARMA\n",
      "MICHELE DE PASCALE: 3070 votes (50,39%)\n",
      "ELENA UGOLINI: 2893 votes (47,48%)\n",
      "FEDERICO SERRA: 74 votes (1,21%)\n",
      "LUCA TEODORI: 56 votes (0,92%)\n",
      "Processed SALSOMAGGIORE TERME\n",
      "\n",
      "Processing record 185\n",
      "URL: https://eleapi.interno.gov.it/siel/PX/scrutiniR/DE/20241117/TE/07/RE/08/PR/056/CM/0330\n"
     ]
    },
    {
     "name": "stdout",
     "output_type": "stream",
     "text": [
      "Response status code: 200\n",
      "Processing data for Comune: SAN SECONDO PARMENSE, Provincia: PARMA\n",
      "MICHELE DE PASCALE: 961 votes (49,90%)\n",
      "ELENA UGOLINI: 905 votes (46,99%)\n",
      "FEDERICO SERRA: 41 votes (2,13%)\n",
      "LUCA TEODORI: 19 votes (0,99%)\n",
      "Processed SAN SECONDO PARMENSE\n",
      "\n",
      "Processing record 186\n",
      "URL: https://eleapi.interno.gov.it/siel/PX/scrutiniR/DE/20241117/TE/07/RE/08/PR/056/CM/0345\n"
     ]
    },
    {
     "name": "stdout",
     "output_type": "stream",
     "text": [
      "Response status code: 200\n",
      "Processing data for Comune: SISSA TRECASALI, Provincia: PARMA\n",
      "ELENA UGOLINI: 1230 votes (51,64%)\n",
      "MICHELE DE PASCALE: 1082 votes (45,42%)\n",
      "FEDERICO SERRA: 41 votes (1,72%)\n",
      "LUCA TEODORI: 29 votes (1,22%)\n",
      "Processed SISSA TRECASALI\n",
      "\n",
      "Processing record 187\n",
      "URL: https://eleapi.interno.gov.it/siel/PX/scrutiniR/DE/20241117/TE/07/RE/08/PR/056/CM/0350\n"
     ]
    },
    {
     "name": "stdout",
     "output_type": "stream",
     "text": [
      "Response status code: 200\n",
      "Processing data for Comune: SOLIGNANO, Provincia: PARMA\n",
      "ELENA UGOLINI: 298 votes (52,46%)\n",
      "MICHELE DE PASCALE: 253 votes (44,54%)\n",
      "FEDERICO SERRA: 15 votes (2,64%)\n",
      "LUCA TEODORI: 2 votes (0,35%)\n",
      "Processed SOLIGNANO\n",
      "\n",
      "Processing record 188\n",
      "URL: https://eleapi.interno.gov.it/siel/PX/scrutiniR/DE/20241117/TE/07/RE/08/PR/056/CM/0360\n"
     ]
    },
    {
     "name": "stdout",
     "output_type": "stream",
     "text": [
      "Response status code: 200\n",
      "Processing data for Comune: SORAGNA, Provincia: PARMA\n",
      "ELENA UGOLINI: 1059 votes (58,15%)\n",
      "MICHELE DE PASCALE: 716 votes (39,32%)\n",
      "LUCA TEODORI: 25 votes (1,37%)\n",
      "FEDERICO SERRA: 21 votes (1,15%)\n",
      "Processed SORAGNA\n",
      "\n",
      "Processing record 189\n",
      "URL: https://eleapi.interno.gov.it/siel/PX/scrutiniR/DE/20241117/TE/07/RE/08/PR/056/CM/0375\n"
     ]
    },
    {
     "name": "stdout",
     "output_type": "stream",
     "text": [
      "Response status code: 200\n",
      "Processing data for Comune: SORBOLO MEZZANI, Provincia: PARMA\n",
      "MICHELE DE PASCALE: 2078 votes (52,36%)\n",
      "ELENA UGOLINI: 1763 votes (44,42%)\n",
      "FEDERICO SERRA: 69 votes (1,74%)\n",
      "LUCA TEODORI: 59 votes (1,49%)\n",
      "Processed SORBOLO MEZZANI\n",
      "\n",
      "Processing record 190\n",
      "URL: https://eleapi.interno.gov.it/siel/PX/scrutiniR/DE/20241117/TE/07/RE/08/PR/056/CM/0380\n"
     ]
    },
    {
     "name": "stdout",
     "output_type": "stream",
     "text": [
      "Response status code: 200\n",
      "Processing data for Comune: TERENZO, Provincia: PARMA\n",
      "ELENA UGOLINI: 200 votes (51,95%)\n",
      "MICHELE DE PASCALE: 174 votes (45,19%)\n",
      "LUCA TEODORI: 6 votes (1,56%)\n",
      "FEDERICO SERRA: 5 votes (1,30%)\n",
      "Processed TERENZO\n",
      "\n",
      "Processing record 191\n",
      "URL: https://eleapi.interno.gov.it/siel/PX/scrutiniR/DE/20241117/TE/07/RE/08/PR/056/CM/0390\n"
     ]
    },
    {
     "name": "stdout",
     "output_type": "stream",
     "text": [
      "Response status code: 200\n",
      "Processing data for Comune: TIZZANO VAL PARMA, Provincia: PARMA\n",
      "ELENA UGOLINI: 400 votes (48,78%)\n",
      "MICHELE DE PASCALE: 387 votes (47,20%)\n",
      "FEDERICO SERRA: 20 votes (2,44%)\n",
      "LUCA TEODORI: 13 votes (1,59%)\n",
      "Processed TIZZANO VAL PARMA\n",
      "\n",
      "Processing record 192\n",
      "URL: https://eleapi.interno.gov.it/siel/PX/scrutiniR/DE/20241117/TE/07/RE/08/PR/056/CM/0400\n"
     ]
    },
    {
     "name": "stdout",
     "output_type": "stream",
     "text": [
      "Response status code: 200\n",
      "Processing data for Comune: TORNOLO, Provincia: PARMA\n",
      "ELENA UGOLINI: 263 votes (62,32%)\n",
      "MICHELE DE PASCALE: 157 votes (37,20%)\n",
      "LUCA TEODORI: 1 votes (0,24%)\n",
      "FEDERICO SERRA: 1 votes (0,24%)\n",
      "Processed TORNOLO\n",
      "\n",
      "Processing record 193\n",
      "URL: https://eleapi.interno.gov.it/siel/PX/scrutiniR/DE/20241117/TE/07/RE/08/PR/056/CM/0410\n"
     ]
    },
    {
     "name": "stdout",
     "output_type": "stream",
     "text": [
      "Response status code: 200\n",
      "Processing data for Comune: TORRILE, Provincia: PARMA\n",
      "MICHELE DE PASCALE: 1054 votes (50,62%)\n",
      "ELENA UGOLINI: 913 votes (43,85%)\n",
      "FEDERICO SERRA: 86 votes (4,13%)\n",
      "LUCA TEODORI: 29 votes (1,39%)\n",
      "Processed TORRILE\n",
      "\n",
      "Processing record 194\n",
      "URL: https://eleapi.interno.gov.it/siel/PX/scrutiniR/DE/20241117/TE/07/RE/08/PR/056/CM/0420\n"
     ]
    },
    {
     "name": "stdout",
     "output_type": "stream",
     "text": [
      "Response status code: 200\n",
      "Processing data for Comune: TRAVERSETOLO, Provincia: PARMA\n",
      "ELENA UGOLINI: 1869 votes (55,13%)\n",
      "MICHELE DE PASCALE: 1388 votes (40,94%)\n",
      "FEDERICO SERRA: 71 votes (2,09%)\n",
      "LUCA TEODORI: 62 votes (1,83%)\n",
      "Processed TRAVERSETOLO\n",
      "\n",
      "Processing record 195\n",
      "URL: https://eleapi.interno.gov.it/siel/PX/scrutiniR/DE/20241117/TE/07/RE/08/PR/056/CM/0440\n"
     ]
    },
    {
     "name": "stdout",
     "output_type": "stream",
     "text": [
      "Response status code: 200\n",
      "Processing data for Comune: VALMOZZOLA, Provincia: PARMA\n",
      "ELENA UGOLINI: 98 votes (55,06%)\n",
      "MICHELE DE PASCALE: 72 votes (40,45%)\n",
      "FEDERICO SERRA: 5 votes (2,81%)\n",
      "LUCA TEODORI: 3 votes (1,69%)\n",
      "Processed VALMOZZOLA\n",
      "\n",
      "Processing record 196\n",
      "URL: https://eleapi.interno.gov.it/siel/PX/scrutiniR/DE/20241117/TE/07/RE/08/PR/056/CM/0450\n"
     ]
    },
    {
     "name": "stdout",
     "output_type": "stream",
     "text": [
      "Response status code: 200\n",
      "Processing data for Comune: VARANO DE' MELEGARI, Provincia: PARMA\n",
      "ELENA UGOLINI: 497 votes (50,66%)\n",
      "MICHELE DE PASCALE: 468 votes (47,71%)\n",
      "LUCA TEODORI: 8 votes (0,82%)\n",
      "FEDERICO SERRA: 8 votes (0,82%)\n",
      "Processed VARANO DE' MELEGARI\n",
      "\n",
      "Processing record 197\n",
      "URL: https://eleapi.interno.gov.it/siel/PX/scrutiniR/DE/20241117/TE/07/RE/08/PR/056/CM/0460\n"
     ]
    },
    {
     "name": "stdout",
     "output_type": "stream",
     "text": [
      "Response status code: 200\n",
      "Processing data for Comune: VARSI, Provincia: PARMA\n",
      "ELENA UGOLINI: 241 votes (60,55%)\n",
      "MICHELE DE PASCALE: 151 votes (37,94%)\n",
      "FEDERICO SERRA: 4 votes (1,01%)\n",
      "LUCA TEODORI: 2 votes (0,50%)\n",
      "Processed VARSI\n",
      "\n",
      "Processing record 198\n",
      "URL: https://eleapi.interno.gov.it/siel/PX/scrutiniR/DE/20241117/TE/07/RE/08/PR/061/CM/0010\n"
     ]
    },
    {
     "name": "stdout",
     "output_type": "stream",
     "text": [
      "Response status code: 200\n",
      "Processing data for Comune: AGAZZANO, Provincia: PIACENZA\n",
      "ELENA UGOLINI: 405 votes (59,73%)\n",
      "MICHELE DE PASCALE: 251 votes (37,02%)\n",
      "LUCA TEODORI: 11 votes (1,62%)\n",
      "FEDERICO SERRA: 11 votes (1,62%)\n",
      "Processed AGAZZANO\n",
      "\n",
      "Processing record 199\n",
      "URL: https://eleapi.interno.gov.it/siel/PX/scrutiniR/DE/20241117/TE/07/RE/08/PR/061/CM/0020\n"
     ]
    },
    {
     "name": "stdout",
     "output_type": "stream",
     "text": [
      "Response status code: 200\n",
      "Processing data for Comune: ALSENO, Provincia: PIACENZA\n",
      "ELENA UGOLINI: 1100 votes (65,44%)\n",
      "MICHELE DE PASCALE: 548 votes (32,60%)\n",
      "FEDERICO SERRA: 19 votes (1,13%)\n",
      "LUCA TEODORI: 14 votes (0,83%)\n",
      "Processed ALSENO\n",
      "\n",
      "Processing record 200\n",
      "URL: https://eleapi.interno.gov.it/siel/PX/scrutiniR/DE/20241117/TE/07/RE/08/PR/061/CM/0025\n"
     ]
    },
    {
     "name": "stdout",
     "output_type": "stream",
     "text": [
      "Response status code: 200\n",
      "Processing data for Comune: ALTA VAL TIDONE, Provincia: PIACENZA\n",
      "ELENA UGOLINI: 752 votes (65,91%)\n",
      "MICHELE DE PASCALE: 358 votes (31,38%)\n",
      "FEDERICO SERRA: 29 votes (2,54%)\n",
      "LUCA TEODORI: 2 votes (0,18%)\n",
      "Processed ALTA VAL TIDONE\n",
      "\n",
      "Processing record 201\n",
      "URL: https://eleapi.interno.gov.it/siel/PX/scrutiniR/DE/20241117/TE/07/RE/08/PR/061/CM/0030\n"
     ]
    },
    {
     "name": "stdout",
     "output_type": "stream",
     "text": [
      "Response status code: 200\n",
      "Processing data for Comune: BESENZONE, Provincia: PIACENZA\n",
      "ELENA UGOLINI: 253 votes (73,33%)\n",
      "MICHELE DE PASCALE: 88 votes (25,51%)\n",
      "LUCA TEODORI: 2 votes (0,58%)\n",
      "FEDERICO SERRA: 2 votes (0,58%)\n",
      "Processed BESENZONE\n",
      "\n",
      "Processing record 202\n",
      "URL: https://eleapi.interno.gov.it/siel/PX/scrutiniR/DE/20241117/TE/07/RE/08/PR/061/CM/0040\n"
     ]
    },
    {
     "name": "stdout",
     "output_type": "stream",
     "text": [
      "Response status code: 200\n",
      "Processing data for Comune: BETTOLA, Provincia: PIACENZA\n",
      "ELENA UGOLINI: 688 votes (67,65%)\n",
      "MICHELE DE PASCALE: 305 votes (29,99%)\n",
      "LUCA TEODORI: 16 votes (1,57%)\n",
      "FEDERICO SERRA: 8 votes (0,79%)\n",
      "Processed BETTOLA\n",
      "\n",
      "Processing record 203\n",
      "URL: https://eleapi.interno.gov.it/siel/PX/scrutiniR/DE/20241117/TE/07/RE/08/PR/061/CM/0050\n"
     ]
    },
    {
     "name": "stdout",
     "output_type": "stream",
     "text": [
      "Response status code: 200\n",
      "Processing data for Comune: BOBBIO, Provincia: PIACENZA\n",
      "ELENA UGOLINI: 849 votes (58,75%)\n",
      "MICHELE DE PASCALE: 569 votes (39,38%)\n",
      "FEDERICO SERRA: 24 votes (1,66%)\n",
      "LUCA TEODORI: 3 votes (0,21%)\n",
      "Processed BOBBIO\n",
      "\n",
      "Processing record 204\n",
      "URL: https://eleapi.interno.gov.it/siel/PX/scrutiniR/DE/20241117/TE/07/RE/08/PR/061/CM/0060\n"
     ]
    },
    {
     "name": "stdout",
     "output_type": "stream",
     "text": [
      "Response status code: 200\n",
      "Processing data for Comune: BORGONOVO VAL TIDONE, Provincia: PIACENZA\n",
      "ELENA UGOLINI: 1296 votes (61,42%)\n",
      "MICHELE DE PASCALE: 780 votes (36,97%)\n",
      "FEDERICO SERRA: 21 votes (1,00%)\n",
      "LUCA TEODORI: 13 votes (0,62%)\n",
      "Processed BORGONOVO VAL TIDONE\n",
      "\n",
      "Processing record 205\n",
      "URL: https://eleapi.interno.gov.it/siel/PX/scrutiniR/DE/20241117/TE/07/RE/08/PR/061/CM/0070\n"
     ]
    },
    {
     "name": "stdout",
     "output_type": "stream",
     "text": [
      "Response status code: 200\n",
      "Processing data for Comune: CADEO, Provincia: PIACENZA\n",
      "ELENA UGOLINI: 1083 votes (61,53%)\n",
      "MICHELE DE PASCALE: 645 votes (36,65%)\n",
      "FEDERICO SERRA: 20 votes (1,14%)\n",
      "LUCA TEODORI: 12 votes (0,68%)\n",
      "Processed CADEO\n",
      "\n",
      "Processing record 206\n",
      "URL: https://eleapi.interno.gov.it/siel/PX/scrutiniR/DE/20241117/TE/07/RE/08/PR/061/CM/0080\n"
     ]
    },
    {
     "name": "stdout",
     "output_type": "stream",
     "text": [
      "Response status code: 200\n",
      "Processing data for Comune: CALENDASCO, Provincia: PIACENZA\n",
      "ELENA UGOLINI: 448 votes (56,64%)\n",
      "MICHELE DE PASCALE: 322 votes (40,71%)\n",
      "FEDERICO SERRA: 16 votes (2,02%)\n",
      "LUCA TEODORI: 5 votes (0,63%)\n",
      "Processed CALENDASCO\n",
      "\n",
      "Processing record 207\n",
      "URL: https://eleapi.interno.gov.it/siel/PX/scrutiniR/DE/20241117/TE/07/RE/08/PR/061/CM/0100\n"
     ]
    },
    {
     "name": "stdout",
     "output_type": "stream",
     "text": [
      "Response status code: 200\n",
      "Processing data for Comune: CAORSO, Provincia: PIACENZA\n",
      "ELENA UGOLINI: 910 votes (61,65%)\n",
      "MICHELE DE PASCALE: 531 votes (35,98%)\n",
      "FEDERICO SERRA: 19 votes (1,29%)\n",
      "LUCA TEODORI: 16 votes (1,08%)\n",
      "Processed CAORSO\n",
      "\n",
      "Processing record 208\n",
      "URL: https://eleapi.interno.gov.it/siel/PX/scrutiniR/DE/20241117/TE/07/RE/08/PR/061/CM/0110\n"
     ]
    },
    {
     "name": "stdout",
     "output_type": "stream",
     "text": [
      "Response status code: 200\n",
      "Processing data for Comune: CARPANETO PIACENTINO, Provincia: PIACENZA\n",
      "ELENA UGOLINI: 1881 votes (67,49%)\n",
      "MICHELE DE PASCALE: 852 votes (30,57%)\n",
      "FEDERICO SERRA: 28 votes (1,00%)\n",
      "LUCA TEODORI: 26 votes (0,93%)\n",
      "Processed CARPANETO PIACENTINO\n",
      "\n",
      "Processing record 209\n",
      "URL: https://eleapi.interno.gov.it/siel/PX/scrutiniR/DE/20241117/TE/07/RE/08/PR/061/CM/0120\n"
     ]
    },
    {
     "name": "stdout",
     "output_type": "stream",
     "text": [
      "Response status code: 200\n",
      "Processing data for Comune: CASTELL'ARQUATO, Provincia: PIACENZA\n",
      "ELENA UGOLINI: 1037 votes (60,93%)\n",
      "MICHELE DE PASCALE: 619 votes (36,37%)\n",
      "FEDERICO SERRA: 30 votes (1,76%)\n",
      "LUCA TEODORI: 16 votes (0,94%)\n",
      "Processed CASTELL'ARQUATO\n",
      "\n",
      "Processing record 210\n",
      "URL: https://eleapi.interno.gov.it/siel/PX/scrutiniR/DE/20241117/TE/07/RE/08/PR/061/CM/0130\n"
     ]
    },
    {
     "name": "stdout",
     "output_type": "stream",
     "text": [
      "Response status code: 200\n",
      "Processing data for Comune: CASTEL SAN GIOVANNI, Provincia: PIACENZA\n",
      "ELENA UGOLINI: 2432 votes (64,10%)\n",
      "MICHELE DE PASCALE: 1294 votes (34,11%)\n",
      "FEDERICO SERRA: 55 votes (1,45%)\n",
      "LUCA TEODORI: 13 votes (0,34%)\n",
      "Processed CASTEL SAN GIOVANNI\n",
      "\n",
      "Processing record 211\n",
      "URL: https://eleapi.interno.gov.it/siel/PX/scrutiniR/DE/20241117/TE/07/RE/08/PR/061/CM/0140\n"
     ]
    },
    {
     "name": "stdout",
     "output_type": "stream",
     "text": [
      "Response status code: 200\n",
      "Processing data for Comune: CASTELVETRO PIACENTINO, Provincia: PIACENZA\n",
      "MICHELE DE PASCALE: 900 votes (51,84%)\n",
      "ELENA UGOLINI: 791 votes (45,56%)\n",
      "FEDERICO SERRA: 25 votes (1,44%)\n",
      "LUCA TEODORI: 20 votes (1,15%)\n",
      "Processed CASTELVETRO PIACENTINO\n",
      "\n",
      "Processing record 212\n",
      "URL: https://eleapi.interno.gov.it/siel/PX/scrutiniR/DE/20241117/TE/07/RE/08/PR/061/CM/0150\n"
     ]
    },
    {
     "name": "stdout",
     "output_type": "stream",
     "text": [
      "Response status code: 200\n",
      "Processing data for Comune: CERIGNALE, Provincia: PIACENZA\n",
      "ELENA UGOLINI: 34 votes (55,74%)\n",
      "MICHELE DE PASCALE: 24 votes (39,34%)\n",
      "LUCA TEODORI: 3 votes (4,92%)\n",
      "FEDERICO SERRA: 0 votes (0%)\n",
      "Processed CERIGNALE\n",
      "\n",
      "Processing record 213\n",
      "URL: https://eleapi.interno.gov.it/siel/PX/scrutiniR/DE/20241117/TE/07/RE/08/PR/061/CM/0160\n"
     ]
    },
    {
     "name": "stdout",
     "output_type": "stream",
     "text": [
      "Response status code: 200\n",
      "Processing data for Comune: COLI, Provincia: PIACENZA\n",
      "ELENA UGOLINI: 206 votes (57,06%)\n",
      "MICHELE DE PASCALE: 146 votes (40,44%)\n",
      "FEDERICO SERRA: 5 votes (1,39%)\n",
      "LUCA TEODORI: 4 votes (1,11%)\n",
      "Processed COLI\n",
      "\n",
      "Processing record 214\n",
      "URL: https://eleapi.interno.gov.it/siel/PX/scrutiniR/DE/20241117/TE/07/RE/08/PR/061/CM/0170\n"
     ]
    },
    {
     "name": "stdout",
     "output_type": "stream",
     "text": [
      "Response status code: 200\n",
      "Processing data for Comune: CORTE BRUGNATELLA, Provincia: PIACENZA\n",
      "ELENA UGOLINI: 157 votes (65,42%)\n",
      "MICHELE DE PASCALE: 76 votes (31,67%)\n",
      "LUCA TEODORI: 4 votes (1,67%)\n",
      "FEDERICO SERRA: 3 votes (1,25%)\n",
      "Processed CORTE BRUGNATELLA\n",
      "\n",
      "Processing record 215\n",
      "URL: https://eleapi.interno.gov.it/siel/PX/scrutiniR/DE/20241117/TE/07/RE/08/PR/061/CM/0180\n"
     ]
    },
    {
     "name": "stdout",
     "output_type": "stream",
     "text": [
      "Response status code: 200\n",
      "Processing data for Comune: CORTEMAGGIORE, Provincia: PIACENZA\n",
      "ELENA UGOLINI: 976 votes (63,75%)\n",
      "MICHELE DE PASCALE: 527 votes (34,42%)\n",
      "FEDERICO SERRA: 17 votes (1,11%)\n",
      "LUCA TEODORI: 11 votes (0,72%)\n",
      "Processed CORTEMAGGIORE\n",
      "\n",
      "Processing record 216\n",
      "URL: https://eleapi.interno.gov.it/siel/PX/scrutiniR/DE/20241117/TE/07/RE/08/PR/061/CM/0190\n"
     ]
    },
    {
     "name": "stdout",
     "output_type": "stream",
     "text": [
      "Response status code: 200\n",
      "Processing data for Comune: FARINI, Provincia: PIACENZA\n",
      "ELENA UGOLINI: 321 votes (71,49%)\n",
      "MICHELE DE PASCALE: 124 votes (27,62%)\n",
      "LUCA TEODORI: 3 votes (0,67%)\n",
      "FEDERICO SERRA: 1 votes (0,22%)\n",
      "Processed FARINI\n",
      "\n",
      "Processing record 217\n",
      "URL: https://eleapi.interno.gov.it/siel/PX/scrutiniR/DE/20241117/TE/07/RE/08/PR/061/CM/0200\n"
     ]
    },
    {
     "name": "stdout",
     "output_type": "stream",
     "text": [
      "Response status code: 200\n",
      "Processing data for Comune: FERRIERE, Provincia: PIACENZA\n",
      "ELENA UGOLINI: 349 votes (73,47%)\n",
      "MICHELE DE PASCALE: 119 votes (25,05%)\n",
      "FEDERICO SERRA: 5 votes (1,05%)\n",
      "LUCA TEODORI: 2 votes (0,42%)\n",
      "Processed FERRIERE\n",
      "\n",
      "Processing record 218\n",
      "URL: https://eleapi.interno.gov.it/siel/PX/scrutiniR/DE/20241117/TE/07/RE/08/PR/061/CM/0210\n"
     ]
    },
    {
     "name": "stdout",
     "output_type": "stream",
     "text": [
      "Response status code: 200\n",
      "Processing data for Comune: FIORENZUOLA D'ARDA, Provincia: PIACENZA\n",
      "ELENA UGOLINI: 2512 votes (51,35%)\n",
      "MICHELE DE PASCALE: 2263 votes (46,26%)\n",
      "FEDERICO SERRA: 93 votes (1,90%)\n",
      "LUCA TEODORI: 24 votes (0,49%)\n",
      "Processed FIORENZUOLA D'ARDA\n",
      "\n",
      "Processing record 219\n",
      "URL: https://eleapi.interno.gov.it/siel/PX/scrutiniR/DE/20241117/TE/07/RE/08/PR/061/CM/0220\n"
     ]
    },
    {
     "name": "stdout",
     "output_type": "stream",
     "text": [
      "Response status code: 200\n",
      "Processing data for Comune: GAZZOLA, Provincia: PIACENZA\n",
      "ELENA UGOLINI: 484 votes (56,41%)\n",
      "MICHELE DE PASCALE: 342 votes (39,86%)\n",
      "LUCA TEODORI: 17 votes (1,98%)\n",
      "FEDERICO SERRA: 15 votes (1,75%)\n",
      "Processed GAZZOLA\n",
      "\n",
      "Processing record 220\n",
      "URL: https://eleapi.interno.gov.it/siel/PX/scrutiniR/DE/20241117/TE/07/RE/08/PR/061/CM/0230\n"
     ]
    },
    {
     "name": "stdout",
     "output_type": "stream",
     "text": [
      "Response status code: 200\n",
      "Processing data for Comune: GOSSOLENGO, Provincia: PIACENZA\n",
      "ELENA UGOLINI: 1055 votes (50,12%)\n",
      "MICHELE DE PASCALE: 975 votes (46,32%)\n",
      "FEDERICO SERRA: 53 votes (2,52%)\n",
      "LUCA TEODORI: 22 votes (1,05%)\n",
      "Processed GOSSOLENGO\n",
      "\n",
      "Processing record 221\n",
      "URL: https://eleapi.interno.gov.it/siel/PX/scrutiniR/DE/20241117/TE/07/RE/08/PR/061/CM/0240\n"
     ]
    },
    {
     "name": "stdout",
     "output_type": "stream",
     "text": [
      "Response status code: 200\n",
      "Processing data for Comune: GRAGNANO TREBBIENSE, Provincia: PIACENZA\n",
      "ELENA UGOLINI: 687 votes (51,31%)\n",
      "MICHELE DE PASCALE: 613 votes (45,78%)\n",
      "FEDERICO SERRA: 23 votes (1,72%)\n",
      "LUCA TEODORI: 16 votes (1,19%)\n",
      "Processed GRAGNANO TREBBIENSE\n",
      "\n",
      "Processing record 222\n",
      "URL: https://eleapi.interno.gov.it/siel/PX/scrutiniR/DE/20241117/TE/07/RE/08/PR/061/CM/0250\n"
     ]
    },
    {
     "name": "stdout",
     "output_type": "stream",
     "text": [
      "Response status code: 200\n",
      "Processing data for Comune: GROPPARELLO, Provincia: PIACENZA\n",
      "ELENA UGOLINI: 507 votes (64,92%)\n",
      "MICHELE DE PASCALE: 257 votes (32,91%)\n",
      "FEDERICO SERRA: 9 votes (1,15%)\n",
      "LUCA TEODORI: 8 votes (1,02%)\n",
      "Processed GROPPARELLO\n",
      "\n",
      "Processing record 223\n",
      "URL: https://eleapi.interno.gov.it/siel/PX/scrutiniR/DE/20241117/TE/07/RE/08/PR/061/CM/0260\n"
     ]
    },
    {
     "name": "stdout",
     "output_type": "stream",
     "text": [
      "Response status code: 200\n",
      "Processing data for Comune: LUGAGNANO VAL D'ARDA, Provincia: PIACENZA\n",
      "ELENA UGOLINI: 890 votes (63,26%)\n",
      "MICHELE DE PASCALE: 497 votes (35,32%)\n",
      "FEDERICO SERRA: 12 votes (0,85%)\n",
      "LUCA TEODORI: 8 votes (0,57%)\n",
      "Processed LUGAGNANO VAL D'ARDA\n",
      "\n",
      "Processing record 224\n",
      "URL: https://eleapi.interno.gov.it/siel/PX/scrutiniR/DE/20241117/TE/07/RE/08/PR/061/CM/0270\n"
     ]
    },
    {
     "name": "stdout",
     "output_type": "stream",
     "text": [
      "Response status code: 200\n",
      "Processing data for Comune: MONTICELLI D'ONGINA, Provincia: PIACENZA\n",
      "MICHELE DE PASCALE: 919 votes (50,00%)\n",
      "ELENA UGOLINI: 877 votes (47,71%)\n",
      "FEDERICO SERRA: 28 votes (1,52%)\n",
      "LUCA TEODORI: 14 votes (0,76%)\n",
      "Processed MONTICELLI D'ONGINA\n",
      "\n",
      "Processing record 225\n",
      "URL: https://eleapi.interno.gov.it/siel/PX/scrutiniR/DE/20241117/TE/07/RE/08/PR/061/CM/0280\n"
     ]
    },
    {
     "name": "stdout",
     "output_type": "stream",
     "text": [
      "Response status code: 200\n",
      "Processing data for Comune: MORFASSO, Provincia: PIACENZA\n",
      "ELENA UGOLINI: 236 votes (71,73%)\n",
      "MICHELE DE PASCALE: 88 votes (26,75%)\n",
      "FEDERICO SERRA: 3 votes (0,91%)\n",
      "LUCA TEODORI: 2 votes (0,61%)\n",
      "Processed MORFASSO\n",
      "\n",
      "Processing record 226\n",
      "URL: https://eleapi.interno.gov.it/siel/PX/scrutiniR/DE/20241117/TE/07/RE/08/PR/061/CM/0300\n"
     ]
    },
    {
     "name": "stdout",
     "output_type": "stream",
     "text": [
      "Response status code: 200\n",
      "Processing data for Comune: OTTONE, Provincia: PIACENZA\n",
      "ELENA UGOLINI: 75 votes (65,79%)\n",
      "MICHELE DE PASCALE: 38 votes (33,33%)\n",
      "FEDERICO SERRA: 1 votes (0,88%)\n",
      "LUCA TEODORI: 0 votes (0%)\n",
      "Processed OTTONE\n",
      "\n",
      "Processing record 227\n",
      "URL: https://eleapi.interno.gov.it/siel/PX/scrutiniR/DE/20241117/TE/07/RE/08/PR/061/CM/0320\n"
     ]
    },
    {
     "name": "stdout",
     "output_type": "stream",
     "text": [
      "Response status code: 200\n",
      "Processing data for Comune: PIACENZA, Provincia: PIACENZA\n",
      "ELENA UGOLINI: 16643 votes (50,82%)\n",
      "MICHELE DE PASCALE: 15116 votes (46,15%)\n",
      "FEDERICO SERRA: 747 votes (2,28%)\n",
      "LUCA TEODORI: 245 votes (0,75%)\n",
      "Processed PIACENZA\n",
      "\n",
      "Processing record 228\n",
      "URL: https://eleapi.interno.gov.it/siel/PX/scrutiniR/DE/20241117/TE/07/RE/08/PR/061/CM/0330\n"
     ]
    },
    {
     "name": "stdout",
     "output_type": "stream",
     "text": [
      "Response status code: 200\n",
      "Processing data for Comune: PIANELLO VAL TIDONE, Provincia: PIACENZA\n",
      "ELENA UGOLINI: 468 votes (66,01%)\n",
      "MICHELE DE PASCALE: 224 votes (31,59%)\n",
      "FEDERICO SERRA: 13 votes (1,83%)\n",
      "LUCA TEODORI: 4 votes (0,56%)\n",
      "Processed PIANELLO VAL TIDONE\n",
      "\n",
      "Processing record 229\n",
      "URL: https://eleapi.interno.gov.it/siel/PX/scrutiniR/DE/20241117/TE/07/RE/08/PR/061/CM/0340\n"
     ]
    },
    {
     "name": "stdout",
     "output_type": "stream",
     "text": [
      "Response status code: 200\n",
      "Processing data for Comune: PIOZZANO, Provincia: PIACENZA\n",
      "ELENA UGOLINI: 133 votes (58,08%)\n",
      "MICHELE DE PASCALE: 81 votes (35,37%)\n",
      "FEDERICO SERRA: 9 votes (3,93%)\n",
      "LUCA TEODORI: 6 votes (2,62%)\n",
      "Processed PIOZZANO\n",
      "\n",
      "Processing record 230\n",
      "URL: https://eleapi.interno.gov.it/siel/PX/scrutiniR/DE/20241117/TE/07/RE/08/PR/061/CM/0350\n"
     ]
    },
    {
     "name": "stdout",
     "output_type": "stream",
     "text": [
      "Response status code: 200\n",
      "Processing data for Comune: PODENZANO, Provincia: PIACENZA\n",
      "ELENA UGOLINI: 1943 votes (61,12%)\n",
      "MICHELE DE PASCALE: 1199 votes (37,72%)\n",
      "FEDERICO SERRA: 27 votes (0,85%)\n",
      "LUCA TEODORI: 10 votes (0,31%)\n",
      "Processed PODENZANO\n",
      "\n",
      "Processing record 231\n",
      "URL: https://eleapi.interno.gov.it/siel/PX/scrutiniR/DE/20241117/TE/07/RE/08/PR/061/CM/0360\n"
     ]
    },
    {
     "name": "stdout",
     "output_type": "stream",
     "text": [
      "Response status code: 200\n",
      "Processing data for Comune: PONTE DELL'OLIO, Provincia: PIACENZA\n",
      "ELENA UGOLINI: 1011 votes (59,96%)\n",
      "MICHELE DE PASCALE: 645 votes (38,26%)\n",
      "FEDERICO SERRA: 18 votes (1,07%)\n",
      "LUCA TEODORI: 12 votes (0,71%)\n",
      "Processed PONTE DELL'OLIO\n",
      "\n",
      "Processing record 232\n",
      "URL: https://eleapi.interno.gov.it/siel/PX/scrutiniR/DE/20241117/TE/07/RE/08/PR/061/CM/0370\n"
     ]
    },
    {
     "name": "stdout",
     "output_type": "stream",
     "text": [
      "Response status code: 200\n",
      "Processing data for Comune: PONTENURE, Provincia: PIACENZA\n",
      "ELENA UGOLINI: 1093 votes (53,90%)\n",
      "MICHELE DE PASCALE: 858 votes (42,31%)\n",
      "FEDERICO SERRA: 49 votes (2,42%)\n",
      "LUCA TEODORI: 28 votes (1,38%)\n",
      "Processed PONTENURE\n",
      "\n",
      "Processing record 233\n",
      "URL: https://eleapi.interno.gov.it/siel/PX/scrutiniR/DE/20241117/TE/07/RE/08/PR/061/CM/0380\n"
     ]
    },
    {
     "name": "stdout",
     "output_type": "stream",
     "text": [
      "Response status code: 200\n",
      "Processing data for Comune: RIVERGARO, Provincia: PIACENZA\n",
      "ELENA UGOLINI: 1315 votes (52,66%)\n",
      "MICHELE DE PASCALE: 1123 votes (44,97%)\n",
      "FEDERICO SERRA: 37 votes (1,48%)\n",
      "LUCA TEODORI: 22 votes (0,88%)\n",
      "Processed RIVERGARO\n",
      "\n",
      "Processing record 234\n",
      "URL: https://eleapi.interno.gov.it/siel/PX/scrutiniR/DE/20241117/TE/07/RE/08/PR/061/CM/0390\n"
     ]
    },
    {
     "name": "stdout",
     "output_type": "stream",
     "text": [
      "Response status code: 200\n",
      "Processing data for Comune: ROTTOFRENO, Provincia: PIACENZA\n",
      "ELENA UGOLINI: 2027 votes (56,43%)\n",
      "MICHELE DE PASCALE: 1478 votes (41,15%)\n",
      "FEDERICO SERRA: 59 votes (1,64%)\n",
      "LUCA TEODORI: 28 votes (0,78%)\n",
      "Processed ROTTOFRENO\n",
      "\n",
      "Processing record 235\n",
      "URL: https://eleapi.interno.gov.it/siel/PX/scrutiniR/DE/20241117/TE/07/RE/08/PR/061/CM/0400\n"
     ]
    },
    {
     "name": "stdout",
     "output_type": "stream",
     "text": [
      "Response status code: 200\n",
      "Processing data for Comune: SAN GIORGIO PIACENTINO, Provincia: PIACENZA\n",
      "ELENA UGOLINI: 1406 votes (67,21%)\n",
      "MICHELE DE PASCALE: 638 votes (30,50%)\n",
      "FEDERICO SERRA: 28 votes (1,34%)\n",
      "LUCA TEODORI: 20 votes (0,96%)\n",
      "Processed SAN GIORGIO PIACENTINO\n",
      "\n",
      "Processing record 236\n",
      "URL: https://eleapi.interno.gov.it/siel/PX/scrutiniR/DE/20241117/TE/07/RE/08/PR/061/CM/0410\n"
     ]
    },
    {
     "name": "stdout",
     "output_type": "stream",
     "text": [
      "Response status code: 200\n",
      "Processing data for Comune: SAN PIETRO IN CERRO, Provincia: PIACENZA\n",
      "ELENA UGOLINI: 184 votes (68,91%)\n",
      "MICHELE DE PASCALE: 77 votes (28,84%)\n",
      "FEDERICO SERRA: 4 votes (1,50%)\n",
      "LUCA TEODORI: 2 votes (0,75%)\n",
      "Processed SAN PIETRO IN CERRO\n",
      "\n",
      "Processing record 237\n",
      "URL: https://eleapi.interno.gov.it/siel/PX/scrutiniR/DE/20241117/TE/07/RE/08/PR/061/CM/0420\n"
     ]
    },
    {
     "name": "stdout",
     "output_type": "stream",
     "text": [
      "Response status code: 200\n",
      "Processing data for Comune: SARMATO, Provincia: PIACENZA\n",
      "ELENA UGOLINI: 430 votes (56,43%)\n",
      "MICHELE DE PASCALE: 319 votes (41,86%)\n",
      "FEDERICO SERRA: 9 votes (1,18%)\n",
      "LUCA TEODORI: 4 votes (0,52%)\n",
      "Processed SARMATO\n",
      "\n",
      "Processing record 238\n",
      "URL: https://eleapi.interno.gov.it/siel/PX/scrutiniR/DE/20241117/TE/07/RE/08/PR/061/CM/0430\n"
     ]
    },
    {
     "name": "stdout",
     "output_type": "stream",
     "text": [
      "Response status code: 200\n",
      "Processing data for Comune: TRAVO, Provincia: PIACENZA\n",
      "MICHELE DE PASCALE: 598 votes (60,47%)\n",
      "ELENA UGOLINI: 371 votes (37,51%)\n",
      "LUCA TEODORI: 11 votes (1,11%)\n",
      "FEDERICO SERRA: 9 votes (0,91%)\n",
      "Processed TRAVO\n",
      "\n",
      "Processing record 239\n",
      "URL: https://eleapi.interno.gov.it/siel/PX/scrutiniR/DE/20241117/TE/07/RE/08/PR/061/CM/0440\n"
     ]
    },
    {
     "name": "stdout",
     "output_type": "stream",
     "text": [
      "Response status code: 200\n",
      "Processing data for Comune: VERNASCA, Provincia: PIACENZA\n",
      "ELENA UGOLINI: 385 votes (51,82%)\n",
      "MICHELE DE PASCALE: 340 votes (45,76%)\n",
      "FEDERICO SERRA: 10 votes (1,35%)\n",
      "LUCA TEODORI: 8 votes (1,08%)\n",
      "Processed VERNASCA\n",
      "\n",
      "Processing record 240\n",
      "URL: https://eleapi.interno.gov.it/siel/PX/scrutiniR/DE/20241117/TE/07/RE/08/PR/061/CM/0450\n"
     ]
    },
    {
     "name": "stdout",
     "output_type": "stream",
     "text": [
      "Response status code: 200\n",
      "Processing data for Comune: VIGOLZONE, Provincia: PIACENZA\n",
      "ELENA UGOLINI: 959 votes (64,36%)\n",
      "MICHELE DE PASCALE: 503 votes (33,76%)\n",
      "FEDERICO SERRA: 20 votes (1,34%)\n",
      "LUCA TEODORI: 8 votes (0,54%)\n",
      "Processed VIGOLZONE\n",
      "\n",
      "Processing record 241\n",
      "URL: https://eleapi.interno.gov.it/siel/PX/scrutiniR/DE/20241117/TE/07/RE/08/PR/061/CM/0460\n"
     ]
    },
    {
     "name": "stdout",
     "output_type": "stream",
     "text": [
      "Response status code: 200\n",
      "Processing data for Comune: VILLANOVA SULL'ARDA, Provincia: PIACENZA\n",
      "ELENA UGOLINI: 291 votes (51,05%)\n",
      "MICHELE DE PASCALE: 258 votes (45,26%)\n",
      "FEDERICO SERRA: 20 votes (3,51%)\n",
      "LUCA TEODORI: 1 votes (0,18%)\n",
      "Processed VILLANOVA SULL'ARDA\n",
      "\n",
      "Processing record 242\n",
      "URL: https://eleapi.interno.gov.it/siel/PX/scrutiniR/DE/20241117/TE/07/RE/08/PR/061/CM/0470\n"
     ]
    },
    {
     "name": "stdout",
     "output_type": "stream",
     "text": [
      "Response status code: 200\n",
      "Processing data for Comune: ZERBA, Provincia: PIACENZA\n",
      "ELENA UGOLINI: 20 votes (60,61%)\n",
      "MICHELE DE PASCALE: 12 votes (36,36%)\n",
      "LUCA TEODORI: 1 votes (3,03%)\n",
      "FEDERICO SERRA: 0 votes (0%)\n",
      "Processed ZERBA\n",
      "\n",
      "Processing record 243\n",
      "URL: https://eleapi.interno.gov.it/siel/PX/scrutiniR/DE/20241117/TE/07/RE/08/PR/061/CM/0480\n"
     ]
    },
    {
     "name": "stdout",
     "output_type": "stream",
     "text": [
      "Response status code: 200\n",
      "Processing data for Comune: ZIANO PIACENTINO, Provincia: PIACENZA\n",
      "ELENA UGOLINI: 509 votes (61,33%)\n",
      "MICHELE DE PASCALE: 292 votes (35,18%)\n",
      "FEDERICO SERRA: 22 votes (2,65%)\n",
      "LUCA TEODORI: 7 votes (0,84%)\n",
      "Processed ZIANO PIACENTINO\n",
      "\n",
      "Processing record 244\n",
      "URL: https://eleapi.interno.gov.it/siel/PX/scrutiniR/DE/20241117/TE/07/RE/08/PR/066/CM/0010\n"
     ]
    },
    {
     "name": "stdout",
     "output_type": "stream",
     "text": [
      "Response status code: 200\n",
      "Processing data for Comune: ALFONSINE, Provincia: RAVENNA\n",
      "MICHELE DE PASCALE: 2859 votes (64,51%)\n",
      "ELENA UGOLINI: 1411 votes (31,84%)\n",
      "FEDERICO SERRA: 112 votes (2,53%)\n",
      "LUCA TEODORI: 50 votes (1,13%)\n",
      "Processed ALFONSINE\n",
      "\n",
      "Processing record 245\n",
      "URL: https://eleapi.interno.gov.it/siel/PX/scrutiniR/DE/20241117/TE/07/RE/08/PR/066/CM/0020\n"
     ]
    },
    {
     "name": "stdout",
     "output_type": "stream",
     "text": [
      "Response status code: 200\n",
      "Processing data for Comune: BAGNACAVALLO, Provincia: RAVENNA\n",
      "MICHELE DE PASCALE: 3899 votes (57,42%)\n",
      "ELENA UGOLINI: 2649 votes (39,01%)\n",
      "FEDERICO SERRA: 162 votes (2,39%)\n",
      "LUCA TEODORI: 80 votes (1,18%)\n",
      "Processed BAGNACAVALLO\n",
      "\n",
      "Processing record 246\n",
      "URL: https://eleapi.interno.gov.it/siel/PX/scrutiniR/DE/20241117/TE/07/RE/08/PR/066/CM/0030\n"
     ]
    },
    {
     "name": "stdout",
     "output_type": "stream",
     "text": [
      "Response status code: 200\n",
      "Processing data for Comune: BAGNARA DI ROMAGNA, Provincia: RAVENNA\n",
      "MICHELE DE PASCALE: 607 votes (62,32%)\n",
      "ELENA UGOLINI: 348 votes (35,73%)\n",
      "FEDERICO SERRA: 12 votes (1,23%)\n",
      "LUCA TEODORI: 7 votes (0,72%)\n",
      "Processed BAGNARA DI ROMAGNA\n",
      "\n",
      "Processing record 247\n",
      "URL: https://eleapi.interno.gov.it/siel/PX/scrutiniR/DE/20241117/TE/07/RE/08/PR/066/CM/0040\n"
     ]
    },
    {
     "name": "stdout",
     "output_type": "stream",
     "text": [
      "Response status code: 200\n",
      "Processing data for Comune: BRISIGHELLA, Provincia: RAVENNA\n",
      "MICHELE DE PASCALE: 1524 votes (51,94%)\n",
      "ELENA UGOLINI: 1331 votes (45,36%)\n",
      "FEDERICO SERRA: 58 votes (1,98%)\n",
      "LUCA TEODORI: 21 votes (0,72%)\n",
      "Processed BRISIGHELLA\n",
      "\n",
      "Processing record 248\n",
      "URL: https://eleapi.interno.gov.it/siel/PX/scrutiniR/DE/20241117/TE/07/RE/08/PR/066/CM/0050\n"
     ]
    },
    {
     "name": "stdout",
     "output_type": "stream",
     "text": [
      "Response status code: 200\n",
      "Processing data for Comune: CASOLA VALSENIO, Provincia: RAVENNA\n",
      "MICHELE DE PASCALE: 594 votes (57,23%)\n",
      "ELENA UGOLINI: 420 votes (40,46%)\n",
      "FEDERICO SERRA: 18 votes (1,73%)\n",
      "LUCA TEODORI: 6 votes (0,58%)\n",
      "Processed CASOLA VALSENIO\n",
      "\n",
      "Processing record 249\n",
      "URL: https://eleapi.interno.gov.it/siel/PX/scrutiniR/DE/20241117/TE/07/RE/08/PR/066/CM/0060\n"
     ]
    },
    {
     "name": "stdout",
     "output_type": "stream",
     "text": [
      "Response status code: 200\n",
      "Processing data for Comune: CASTEL BOLOGNESE, Provincia: RAVENNA\n",
      "MICHELE DE PASCALE: 1956 votes (53,21%)\n",
      "ELENA UGOLINI: 1637 votes (44,53%)\n",
      "FEDERICO SERRA: 53 votes (1,44%)\n",
      "LUCA TEODORI: 30 votes (0,82%)\n",
      "Processed CASTEL BOLOGNESE\n",
      "\n",
      "Processing record 250\n",
      "URL: https://eleapi.interno.gov.it/siel/PX/scrutiniR/DE/20241117/TE/07/RE/08/PR/066/CM/0070\n"
     ]
    },
    {
     "name": "stdout",
     "output_type": "stream",
     "text": [
      "Response status code: 200\n",
      "Processing data for Comune: CERVIA, Provincia: RAVENNA\n",
      "MICHELE DE PASCALE: 6361 votes (57,97%)\n",
      "ELENA UGOLINI: 4299 votes (39,18%)\n",
      "FEDERICO SERRA: 194 votes (1,77%)\n",
      "LUCA TEODORI: 119 votes (1,08%)\n",
      "Processed CERVIA\n",
      "\n",
      "Processing record 251\n",
      "URL: https://eleapi.interno.gov.it/siel/PX/scrutiniR/DE/20241117/TE/07/RE/08/PR/066/CM/0080\n"
     ]
    },
    {
     "name": "stdout",
     "output_type": "stream",
     "text": [
      "Response status code: 200\n",
      "Processing data for Comune: CONSELICE, Provincia: RAVENNA\n",
      "MICHELE DE PASCALE: 1950 votes (60,63%)\n",
      "ELENA UGOLINI: 1115 votes (34,67%)\n",
      "FEDERICO SERRA: 90 votes (2,80%)\n",
      "LUCA TEODORI: 61 votes (1,90%)\n",
      "Processed CONSELICE\n",
      "\n",
      "Processing record 252\n",
      "URL: https://eleapi.interno.gov.it/siel/PX/scrutiniR/DE/20241117/TE/07/RE/08/PR/066/CM/0090\n"
     ]
    },
    {
     "name": "stdout",
     "output_type": "stream",
     "text": [
      "Response status code: 200\n",
      "Processing data for Comune: COTIGNOLA, Provincia: RAVENNA\n",
      "MICHELE DE PASCALE: 1759 votes (59,03%)\n",
      "ELENA UGOLINI: 1154 votes (38,72%)\n",
      "FEDERICO SERRA: 44 votes (1,48%)\n",
      "LUCA TEODORI: 23 votes (0,77%)\n",
      "Processed COTIGNOLA\n",
      "\n",
      "Processing record 253\n",
      "URL: https://eleapi.interno.gov.it/siel/PX/scrutiniR/DE/20241117/TE/07/RE/08/PR/066/CM/0100\n"
     ]
    },
    {
     "name": "stdout",
     "output_type": "stream",
     "text": [
      "Response status code: 200\n",
      "Processing data for Comune: FAENZA, Provincia: RAVENNA\n",
      "MICHELE DE PASCALE: 14434 votes (60,60%)\n",
      "ELENA UGOLINI: 8719 votes (36,60%)\n",
      "FEDERICO SERRA: 433 votes (1,82%)\n",
      "LUCA TEODORI: 234 votes (0,98%)\n",
      "Processed FAENZA\n",
      "\n",
      "Processing record 254\n",
      "URL: https://eleapi.interno.gov.it/siel/PX/scrutiniR/DE/20241117/TE/07/RE/08/PR/066/CM/0110\n"
     ]
    },
    {
     "name": "stdout",
     "output_type": "stream",
     "text": [
      "Response status code: 200\n",
      "Processing data for Comune: FUSIGNANO, Provincia: RAVENNA\n",
      "MICHELE DE PASCALE: 1840 votes (62,39%)\n",
      "ELENA UGOLINI: 1004 votes (34,05%)\n",
      "FEDERICO SERRA: 79 votes (2,68%)\n",
      "LUCA TEODORI: 26 votes (0,88%)\n",
      "Processed FUSIGNANO\n",
      "\n",
      "Processing record 255\n",
      "URL: https://eleapi.interno.gov.it/siel/PX/scrutiniR/DE/20241117/TE/07/RE/08/PR/066/CM/0120\n"
     ]
    },
    {
     "name": "stdout",
     "output_type": "stream",
     "text": [
      "Response status code: 200\n",
      "Processing data for Comune: LUGO, Provincia: RAVENNA\n",
      "MICHELE DE PASCALE: 6806 votes (53,83%)\n",
      "ELENA UGOLINI: 5470 votes (43,26%)\n",
      "FEDERICO SERRA: 255 votes (2,02%)\n",
      "LUCA TEODORI: 113 votes (0,89%)\n",
      "Processed LUGO\n",
      "\n",
      "Processing record 256\n",
      "URL: https://eleapi.interno.gov.it/siel/PX/scrutiniR/DE/20241117/TE/07/RE/08/PR/066/CM/0130\n"
     ]
    },
    {
     "name": "stdout",
     "output_type": "stream",
     "text": [
      "Response status code: 200\n",
      "Processing data for Comune: MASSA LOMBARDA, Provincia: RAVENNA\n",
      "MICHELE DE PASCALE: 2044 votes (63,18%)\n",
      "ELENA UGOLINI: 1069 votes (33,04%)\n",
      "FEDERICO SERRA: 82 votes (2,53%)\n",
      "LUCA TEODORI: 40 votes (1,24%)\n",
      "Processed MASSA LOMBARDA\n",
      "\n",
      "Processing record 257\n",
      "URL: https://eleapi.interno.gov.it/siel/PX/scrutiniR/DE/20241117/TE/07/RE/08/PR/066/CM/0140\n"
     ]
    },
    {
     "name": "stdout",
     "output_type": "stream",
     "text": [
      "Response status code: 200\n",
      "Processing data for Comune: RAVENNA, Provincia: RAVENNA\n",
      "MICHELE DE PASCALE: 34962 votes (58,22%)\n",
      "ELENA UGOLINI: 22666 votes (37,75%)\n",
      "FEDERICO SERRA: 1695 votes (2,82%)\n",
      "LUCA TEODORI: 726 votes (1,21%)\n",
      "Processed RAVENNA\n",
      "\n",
      "Processing record 258\n",
      "URL: https://eleapi.interno.gov.it/siel/PX/scrutiniR/DE/20241117/TE/07/RE/08/PR/066/CM/0150\n"
     ]
    },
    {
     "name": "stdout",
     "output_type": "stream",
     "text": [
      "Response status code: 200\n",
      "Processing data for Comune: RIOLO TERME, Provincia: RAVENNA\n",
      "MICHELE DE PASCALE: 1243 votes (54,71%)\n",
      "ELENA UGOLINI: 967 votes (42,56%)\n",
      "FEDERICO SERRA: 40 votes (1,76%)\n",
      "LUCA TEODORI: 22 votes (0,97%)\n",
      "Processed RIOLO TERME\n",
      "\n",
      "Processing record 259\n",
      "URL: https://eleapi.interno.gov.it/siel/PX/scrutiniR/DE/20241117/TE/07/RE/08/PR/066/CM/0160\n"
     ]
    },
    {
     "name": "stdout",
     "output_type": "stream",
     "text": [
      "Response status code: 200\n",
      "Processing data for Comune: RUSSI, Provincia: RAVENNA\n",
      "MICHELE DE PASCALE: 2600 votes (54,75%)\n",
      "ELENA UGOLINI: 2002 votes (42,16%)\n",
      "FEDERICO SERRA: 109 votes (2,30%)\n",
      "LUCA TEODORI: 38 votes (0,80%)\n",
      "Processed RUSSI\n",
      "\n",
      "Processing record 260\n",
      "URL: https://eleapi.interno.gov.it/siel/PX/scrutiniR/DE/20241117/TE/07/RE/08/PR/066/CM/0170\n"
     ]
    },
    {
     "name": "stdout",
     "output_type": "stream",
     "text": [
      "Response status code: 200\n",
      "Processing data for Comune: SANT'AGATA SUL SANTERNO, Provincia: RAVENNA\n",
      "MICHELE DE PASCALE: 574 votes (51,81%)\n",
      "ELENA UGOLINI: 492 votes (44,40%)\n",
      "FEDERICO SERRA: 27 votes (2,44%)\n",
      "LUCA TEODORI: 15 votes (1,35%)\n",
      "Processed SANT'AGATA SUL SANTERNO\n",
      "\n",
      "Processing record 261\n",
      "URL: https://eleapi.interno.gov.it/siel/PX/scrutiniR/DE/20241117/TE/07/RE/08/PR/066/CM/0180\n"
     ]
    },
    {
     "name": "stdout",
     "output_type": "stream",
     "text": [
      "Response status code: 200\n",
      "Processing data for Comune: SOLAROLO, Provincia: RAVENNA\n",
      "MICHELE DE PASCALE: 975 votes (56,65%)\n",
      "ELENA UGOLINI: 685 votes (39,80%)\n",
      "FEDERICO SERRA: 44 votes (2,56%)\n",
      "LUCA TEODORI: 17 votes (0,99%)\n",
      "Processed SOLAROLO\n",
      "\n",
      "Processing record 262\n",
      "URL: https://eleapi.interno.gov.it/siel/PX/scrutiniR/DE/20241117/TE/07/RE/08/PR/068/CM/0010\n"
     ]
    },
    {
     "name": "stdout",
     "output_type": "stream",
     "text": [
      "Response status code: 200\n",
      "Processing data for Comune: ALBINEA, Provincia: REGGIO NELL'EMILIA\n",
      "MICHELE DE PASCALE: 2599 votes (63,42%)\n",
      "ELENA UGOLINI: 1357 votes (33,11%)\n",
      "FEDERICO SERRA: 72 votes (1,76%)\n",
      "LUCA TEODORI: 70 votes (1,71%)\n",
      "Processed ALBINEA\n",
      "\n",
      "Processing record 263\n",
      "URL: https://eleapi.interno.gov.it/siel/PX/scrutiniR/DE/20241117/TE/07/RE/08/PR/068/CM/0020\n"
     ]
    },
    {
     "name": "stdout",
     "output_type": "stream",
     "text": [
      "Response status code: 200\n",
      "Processing data for Comune: BAGNOLO IN PIANO, Provincia: REGGIO NELL'EMILIA\n",
      "MICHELE DE PASCALE: 2323 votes (67,00%)\n",
      "ELENA UGOLINI: 1016 votes (29,30%)\n",
      "FEDERICO SERRA: 75 votes (2,16%)\n",
      "LUCA TEODORI: 53 votes (1,53%)\n",
      "Processed BAGNOLO IN PIANO\n",
      "\n",
      "Processing record 264\n",
      "URL: https://eleapi.interno.gov.it/siel/PX/scrutiniR/DE/20241117/TE/07/RE/08/PR/068/CM/0030\n"
     ]
    },
    {
     "name": "stdout",
     "output_type": "stream",
     "text": [
      "Response status code: 200\n",
      "Processing data for Comune: BAISO, Provincia: REGGIO NELL'EMILIA\n",
      "MICHELE DE PASCALE: 640 votes (55,65%)\n",
      "ELENA UGOLINI: 480 votes (41,74%)\n",
      "FEDERICO SERRA: 17 votes (1,48%)\n",
      "LUCA TEODORI: 13 votes (1,13%)\n",
      "Processed BAISO\n",
      "\n",
      "Processing record 265\n",
      "URL: https://eleapi.interno.gov.it/siel/PX/scrutiniR/DE/20241117/TE/07/RE/08/PR/068/CM/0040\n"
     ]
    },
    {
     "name": "stdout",
     "output_type": "stream",
     "text": [
      "Response status code: 200\n",
      "Processing data for Comune: BIBBIANO, Provincia: REGGIO NELL'EMILIA\n",
      "MICHELE DE PASCALE: 2265 votes (65,69%)\n",
      "ELENA UGOLINI: 1072 votes (31,09%)\n",
      "FEDERICO SERRA: 70 votes (2,03%)\n",
      "LUCA TEODORI: 41 votes (1,19%)\n",
      "Processed BIBBIANO\n",
      "\n",
      "Processing record 266\n",
      "URL: https://eleapi.interno.gov.it/siel/PX/scrutiniR/DE/20241117/TE/07/RE/08/PR/068/CM/0050\n"
     ]
    },
    {
     "name": "stdout",
     "output_type": "stream",
     "text": [
      "Response status code: 200\n",
      "Processing data for Comune: BORETTO, Provincia: REGGIO NELL'EMILIA\n",
      "MICHELE DE PASCALE: 789 votes (51,33%)\n",
      "ELENA UGOLINI: 685 votes (44,57%)\n",
      "LUCA TEODORI: 32 votes (2,08%)\n",
      "FEDERICO SERRA: 31 votes (2,02%)\n",
      "Processed BORETTO\n",
      "\n",
      "Processing record 267\n",
      "URL: https://eleapi.interno.gov.it/siel/PX/scrutiniR/DE/20241117/TE/07/RE/08/PR/068/CM/0060\n"
     ]
    },
    {
     "name": "stdout",
     "output_type": "stream",
     "text": [
      "Response status code: 200\n",
      "Processing data for Comune: BRESCELLO, Provincia: REGGIO NELL'EMILIA\n",
      "MICHELE DE PASCALE: 708 votes (49,00%)\n",
      "ELENA UGOLINI: 700 votes (48,44%)\n",
      "FEDERICO SERRA: 28 votes (1,94%)\n",
      "LUCA TEODORI: 9 votes (0,62%)\n",
      "Processed BRESCELLO\n",
      "\n",
      "Processing record 268\n",
      "URL: https://eleapi.interno.gov.it/siel/PX/scrutiniR/DE/20241117/TE/07/RE/08/PR/068/CM/0080\n"
     ]
    },
    {
     "name": "stdout",
     "output_type": "stream",
     "text": [
      "Response status code: 200\n",
      "Processing data for Comune: CADELBOSCO DI SOPRA, Provincia: REGGIO NELL'EMILIA\n",
      "MICHELE DE PASCALE: 1905 votes (61,06%)\n",
      "ELENA UGOLINI: 1124 votes (36,03%)\n",
      "FEDERICO SERRA: 71 votes (2,28%)\n",
      "LUCA TEODORI: 20 votes (0,64%)\n",
      "Processed CADELBOSCO DI SOPRA\n",
      "\n",
      "Processing record 269\n",
      "URL: https://eleapi.interno.gov.it/siel/PX/scrutiniR/DE/20241117/TE/07/RE/08/PR/068/CM/0090\n"
     ]
    },
    {
     "name": "stdout",
     "output_type": "stream",
     "text": [
      "Response status code: 200\n",
      "Processing data for Comune: CAMPAGNOLA EMILIA, Provincia: REGGIO NELL'EMILIA\n",
      "MICHELE DE PASCALE: 1276 votes (64,97%)\n",
      "ELENA UGOLINI: 616 votes (31,36%)\n",
      "LUCA TEODORI: 40 votes (2,04%)\n",
      "FEDERICO SERRA: 32 votes (1,63%)\n",
      "Processed CAMPAGNOLA EMILIA\n",
      "\n",
      "Processing record 270\n",
      "URL: https://eleapi.interno.gov.it/siel/PX/scrutiniR/DE/20241117/TE/07/RE/08/PR/068/CM/0100\n"
     ]
    },
    {
     "name": "stdout",
     "output_type": "stream",
     "text": [
      "Response status code: 200\n",
      "Processing data for Comune: CAMPEGINE, Provincia: REGGIO NELL'EMILIA\n",
      "MICHELE DE PASCALE: 1122 votes (66,67%)\n",
      "ELENA UGOLINI: 476 votes (28,28%)\n",
      "FEDERICO SERRA: 69 votes (4,10%)\n",
      "LUCA TEODORI: 16 votes (0,95%)\n",
      "Processed CAMPEGINE\n",
      "\n",
      "Processing record 271\n",
      "URL: https://eleapi.interno.gov.it/siel/PX/scrutiniR/DE/20241117/TE/07/RE/08/PR/068/CM/0110\n"
     ]
    },
    {
     "name": "stdout",
     "output_type": "stream",
     "text": [
      "Response status code: 200\n",
      "Processing data for Comune: CARPINETI, Provincia: REGGIO NELL'EMILIA\n",
      "MICHELE DE PASCALE: 840 votes (53,92%)\n",
      "ELENA UGOLINI: 670 votes (43,00%)\n",
      "LUCA TEODORI: 25 votes (1,60%)\n",
      "FEDERICO SERRA: 23 votes (1,48%)\n",
      "Processed CARPINETI\n",
      "\n",
      "Processing record 272\n",
      "URL: https://eleapi.interno.gov.it/siel/PX/scrutiniR/DE/20241117/TE/07/RE/08/PR/068/CM/0120\n"
     ]
    },
    {
     "name": "stdout",
     "output_type": "stream",
     "text": [
      "Response status code: 200\n",
      "Processing data for Comune: CASALGRANDE, Provincia: REGGIO NELL'EMILIA\n",
      "MICHELE DE PASCALE: 3656 votes (61,50%)\n",
      "ELENA UGOLINI: 2108 votes (35,46%)\n",
      "FEDERICO SERRA: 108 votes (1,82%)\n",
      "LUCA TEODORI: 73 votes (1,23%)\n",
      "Processed CASALGRANDE\n",
      "\n",
      "Processing record 273\n",
      "URL: https://eleapi.interno.gov.it/siel/PX/scrutiniR/DE/20241117/TE/07/RE/08/PR/068/CM/0130\n"
     ]
    },
    {
     "name": "stdout",
     "output_type": "stream",
     "text": [
      "Response status code: 200\n",
      "Processing data for Comune: CASINA, Provincia: REGGIO NELL'EMILIA\n",
      "MICHELE DE PASCALE: 1013 votes (54,82%)\n",
      "ELENA UGOLINI: 759 votes (41,07%)\n",
      "LUCA TEODORI: 41 votes (2,22%)\n",
      "FEDERICO SERRA: 35 votes (1,89%)\n",
      "Processed CASINA\n",
      "\n",
      "Processing record 274\n",
      "URL: https://eleapi.interno.gov.it/siel/PX/scrutiniR/DE/20241117/TE/07/RE/08/PR/068/CM/0140\n"
     ]
    },
    {
     "name": "stdout",
     "output_type": "stream",
     "text": [
      "Response status code: 200\n",
      "Processing data for Comune: CASTELLARANO, Provincia: REGGIO NELL'EMILIA\n",
      "MICHELE DE PASCALE: 2923 votes (52,99%)\n",
      "ELENA UGOLINI: 2416 votes (43,80%)\n",
      "FEDERICO SERRA: 107 votes (1,94%)\n",
      "LUCA TEODORI: 70 votes (1,27%)\n",
      "Processed CASTELLARANO\n",
      "\n",
      "Processing record 275\n",
      "URL: https://eleapi.interno.gov.it/siel/PX/scrutiniR/DE/20241117/TE/07/RE/08/PR/068/CM/0150\n"
     ]
    },
    {
     "name": "stdout",
     "output_type": "stream",
     "text": [
      "Response status code: 200\n",
      "Processing data for Comune: CASTELNOVO DI SOTTO, Provincia: REGGIO NELL'EMILIA\n",
      "MICHELE DE PASCALE: 1920 votes (66,74%)\n",
      "ELENA UGOLINI: 847 votes (29,44%)\n",
      "FEDERICO SERRA: 66 votes (2,29%)\n",
      "LUCA TEODORI: 44 votes (1,53%)\n",
      "Processed CASTELNOVO DI SOTTO\n",
      "\n",
      "Processing record 276\n",
      "URL: https://eleapi.interno.gov.it/siel/PX/scrutiniR/DE/20241117/TE/07/RE/08/PR/068/CM/0160\n"
     ]
    },
    {
     "name": "stdout",
     "output_type": "stream",
     "text": [
      "Response status code: 200\n",
      "Processing data for Comune: CASTELNOVO NE' MONTI, Provincia: REGGIO NELL'EMILIA\n",
      "MICHELE DE PASCALE: 1992 votes (50,13%)\n",
      "ELENA UGOLINI: 1849 votes (46,53%)\n",
      "FEDERICO SERRA: 79 votes (1,99%)\n",
      "LUCA TEODORI: 54 votes (1,36%)\n",
      "Processed CASTELNOVO NE' MONTI\n",
      "\n",
      "Processing record 277\n",
      "URL: https://eleapi.interno.gov.it/siel/PX/scrutiniR/DE/20241117/TE/07/RE/08/PR/068/CM/0170\n"
     ]
    },
    {
     "name": "stdout",
     "output_type": "stream",
     "text": [
      "Response status code: 200\n",
      "Processing data for Comune: CAVRIAGO, Provincia: REGGIO NELL'EMILIA\n",
      "MICHELE DE PASCALE: 2418 votes (68,58%)\n",
      "ELENA UGOLINI: 923 votes (26,18%)\n",
      "FEDERICO SERRA: 128 votes (3,63%)\n",
      "LUCA TEODORI: 57 votes (1,62%)\n",
      "Processed CAVRIAGO\n",
      "\n",
      "Processing record 278\n",
      "URL: https://eleapi.interno.gov.it/siel/PX/scrutiniR/DE/20241117/TE/07/RE/08/PR/068/CM/0180\n"
     ]
    },
    {
     "name": "stdout",
     "output_type": "stream",
     "text": [
      "Response status code: 200\n",
      "Processing data for Comune: CANOSSA, Provincia: REGGIO NELL'EMILIA\n",
      "MICHELE DE PASCALE: 594 votes (48,37%)\n",
      "ELENA UGOLINI: 580 votes (47,23%)\n",
      "FEDERICO SERRA: 31 votes (2,52%)\n",
      "LUCA TEODORI: 23 votes (1,87%)\n",
      "Processed CANOSSA\n",
      "\n",
      "Processing record 279\n",
      "URL: https://eleapi.interno.gov.it/siel/PX/scrutiniR/DE/20241117/TE/07/RE/08/PR/068/CM/0200\n"
     ]
    },
    {
     "name": "stdout",
     "output_type": "stream",
     "text": [
      "Response status code: 200\n",
      "Processing data for Comune: CORREGGIO, Provincia: REGGIO NELL'EMILIA\n",
      "MICHELE DE PASCALE: 6499 votes (67,08%)\n",
      "ELENA UGOLINI: 2868 votes (29,60%)\n",
      "FEDERICO SERRA: 185 votes (1,91%)\n",
      "LUCA TEODORI: 137 votes (1,41%)\n",
      "Processed CORREGGIO\n",
      "\n",
      "Processing record 280\n",
      "URL: https://eleapi.interno.gov.it/siel/PX/scrutiniR/DE/20241117/TE/07/RE/08/PR/068/CM/0210\n"
     ]
    },
    {
     "name": "stdout",
     "output_type": "stream",
     "text": [
      "Response status code: 200\n",
      "Processing data for Comune: FABBRICO, Provincia: REGGIO NELL'EMILIA\n",
      "MICHELE DE PASCALE: 1709 votes (72,79%)\n",
      "ELENA UGOLINI: 553 votes (23,55%)\n",
      "FEDERICO SERRA: 49 votes (2,09%)\n",
      "LUCA TEODORI: 37 votes (1,58%)\n",
      "Processed FABBRICO\n",
      "\n",
      "Processing record 281\n",
      "URL: https://eleapi.interno.gov.it/siel/PX/scrutiniR/DE/20241117/TE/07/RE/08/PR/068/CM/0220\n"
     ]
    },
    {
     "name": "stdout",
     "output_type": "stream",
     "text": [
      "Response status code: 200\n",
      "Processing data for Comune: GATTATICO, Provincia: REGGIO NELL'EMILIA\n",
      "MICHELE DE PASCALE: 1167 votes (61,20%)\n",
      "ELENA UGOLINI: 648 votes (33,98%)\n",
      "FEDERICO SERRA: 63 votes (3,30%)\n",
      "LUCA TEODORI: 29 votes (1,52%)\n",
      "Processed GATTATICO\n",
      "\n",
      "Processing record 282\n",
      "URL: https://eleapi.interno.gov.it/siel/PX/scrutiniR/DE/20241117/TE/07/RE/08/PR/068/CM/0230\n"
     ]
    },
    {
     "name": "stdout",
     "output_type": "stream",
     "text": [
      "Response status code: 200\n",
      "Processing data for Comune: GUALTIERI, Provincia: REGGIO NELL'EMILIA\n",
      "MICHELE DE PASCALE: 1280 votes (62,20%)\n",
      "ELENA UGOLINI: 724 votes (35,18%)\n",
      "LUCA TEODORI: 33 votes (1,60%)\n",
      "FEDERICO SERRA: 21 votes (1,02%)\n",
      "Processed GUALTIERI\n",
      "\n",
      "Processing record 283\n",
      "URL: https://eleapi.interno.gov.it/siel/PX/scrutiniR/DE/20241117/TE/07/RE/08/PR/068/CM/0240\n"
     ]
    },
    {
     "name": "stdout",
     "output_type": "stream",
     "text": [
      "Response status code: 200\n",
      "Processing data for Comune: GUASTALLA, Provincia: REGGIO NELL'EMILIA\n",
      "MICHELE DE PASCALE: 2722 votes (55,30%)\n",
      "ELENA UGOLINI: 2058 votes (41,81%)\n",
      "FEDERICO SERRA: 78 votes (1,58%)\n",
      "LUCA TEODORI: 64 votes (1,30%)\n",
      "Processed GUASTALLA\n",
      "\n",
      "Processing record 284\n",
      "URL: https://eleapi.interno.gov.it/siel/PX/scrutiniR/DE/20241117/TE/07/RE/08/PR/068/CM/0260\n"
     ]
    },
    {
     "name": "stdout",
     "output_type": "stream",
     "text": [
      "Response status code: 200\n",
      "Processing data for Comune: LUZZARA, Provincia: REGGIO NELL'EMILIA\n",
      "MICHELE DE PASCALE: 1721 votes (62,86%)\n",
      "ELENA UGOLINI: 936 votes (34,19%)\n",
      "LUCA TEODORI: 42 votes (1,53%)\n",
      "FEDERICO SERRA: 39 votes (1,42%)\n",
      "Processed LUZZARA\n",
      "\n",
      "Processing record 285\n",
      "URL: https://eleapi.interno.gov.it/siel/PX/scrutiniR/DE/20241117/TE/07/RE/08/PR/068/CM/0270\n"
     ]
    },
    {
     "name": "stdout",
     "output_type": "stream",
     "text": [
      "Response status code: 200\n",
      "Processing data for Comune: MONTECCHIO EMILIA, Provincia: REGGIO NELL'EMILIA\n",
      "MICHELE DE PASCALE: 2185 votes (61,45%)\n",
      "ELENA UGOLINI: 1206 votes (33,91%)\n",
      "FEDERICO SERRA: 108 votes (3,04%)\n",
      "LUCA TEODORI: 57 votes (1,60%)\n",
      "Processed MONTECCHIO EMILIA\n",
      "\n",
      "Processing record 286\n",
      "URL: https://eleapi.interno.gov.it/siel/PX/scrutiniR/DE/20241117/TE/07/RE/08/PR/068/CM/0280\n"
     ]
    },
    {
     "name": "stdout",
     "output_type": "stream",
     "text": [
      "Response status code: 200\n",
      "Processing data for Comune: NOVELLARA, Provincia: REGGIO NELL'EMILIA\n",
      "MICHELE DE PASCALE: 3473 votes (70,49%)\n",
      "ELENA UGOLINI: 1342 votes (27,24%)\n",
      "FEDERICO SERRA: 71 votes (1,44%)\n",
      "LUCA TEODORI: 41 votes (0,83%)\n",
      "Processed NOVELLARA\n",
      "\n",
      "Processing record 287\n",
      "URL: https://eleapi.interno.gov.it/siel/PX/scrutiniR/DE/20241117/TE/07/RE/08/PR/068/CM/0290\n"
     ]
    },
    {
     "name": "stdout",
     "output_type": "stream",
     "text": [
      "Response status code: 200\n",
      "Processing data for Comune: POVIGLIO, Provincia: REGGIO NELL'EMILIA\n",
      "MICHELE DE PASCALE: 1426 votes (61,92%)\n",
      "ELENA UGOLINI: 792 votes (34,39%)\n",
      "FEDERICO SERRA: 56 votes (2,43%)\n",
      "LUCA TEODORI: 29 votes (1,26%)\n",
      "Processed POVIGLIO\n",
      "\n",
      "Processing record 288\n",
      "URL: https://eleapi.interno.gov.it/siel/PX/scrutiniR/DE/20241117/TE/07/RE/08/PR/068/CM/0300\n"
     ]
    },
    {
     "name": "stdout",
     "output_type": "stream",
     "text": [
      "Response status code: 200\n",
      "Processing data for Comune: QUATTRO CASTELLA, Provincia: REGGIO NELL'EMILIA\n",
      "MICHELE DE PASCALE: 3429 votes (62,06%)\n",
      "ELENA UGOLINI: 1919 votes (34,73%)\n",
      "FEDERICO SERRA: 97 votes (1,76%)\n",
      "LUCA TEODORI: 80 votes (1,45%)\n",
      "Processed QUATTRO CASTELLA\n",
      "\n",
      "Processing record 289\n",
      "URL: https://eleapi.interno.gov.it/siel/PX/scrutiniR/DE/20241117/TE/07/RE/08/PR/068/CM/0320\n"
     ]
    },
    {
     "name": "stdout",
     "output_type": "stream",
     "text": [
      "Response status code: 200\n",
      "Processing data for Comune: REGGIOLO, Provincia: REGGIO NELL'EMILIA\n",
      "MICHELE DE PASCALE: 2019 votes (65,36%)\n",
      "ELENA UGOLINI: 947 votes (30,66%)\n",
      "FEDERICO SERRA: 93 votes (3,01%)\n",
      "LUCA TEODORI: 30 votes (0,97%)\n",
      "Processed REGGIOLO\n",
      "\n",
      "Processing record 290\n",
      "URL: https://eleapi.interno.gov.it/siel/PX/scrutiniR/DE/20241117/TE/07/RE/08/PR/068/CM/0330\n"
     ]
    },
    {
     "name": "stdout",
     "output_type": "stream",
     "text": [
      "Response status code: 200\n",
      "Processing data for Comune: REGGIO NELL'EMILIA, Provincia: REGGIO NELL'EMILIA\n",
      "MICHELE DE PASCALE: 37836 votes (64,86%)\n",
      "ELENA UGOLINI: 18619 votes (31,92%)\n",
      "FEDERICO SERRA: 1127 votes (1,93%)\n",
      "LUCA TEODORI: 755 votes (1,29%)\n",
      "Processed REGGIO NELL'EMILIA\n",
      "\n",
      "Processing record 291\n",
      "URL: https://eleapi.interno.gov.it/siel/PX/scrutiniR/DE/20241117/TE/07/RE/08/PR/068/CM/0340\n"
     ]
    },
    {
     "name": "stdout",
     "output_type": "stream",
     "text": [
      "Response status code: 200\n",
      "Processing data for Comune: RIO SALICETO, Provincia: REGGIO NELL'EMILIA\n",
      "MICHELE DE PASCALE: 1409 votes (62,37%)\n",
      "ELENA UGOLINI: 763 votes (33,78%)\n",
      "FEDERICO SERRA: 57 votes (2,52%)\n",
      "LUCA TEODORI: 30 votes (1,33%)\n",
      "Processed RIO SALICETO\n",
      "\n",
      "Processing record 292\n",
      "URL: https://eleapi.interno.gov.it/siel/PX/scrutiniR/DE/20241117/TE/07/RE/08/PR/068/CM/0350\n"
     ]
    },
    {
     "name": "stdout",
     "output_type": "stream",
     "text": [
      "Response status code: 200\n",
      "Processing data for Comune: ROLO, Provincia: REGGIO NELL'EMILIA\n",
      "MICHELE DE PASCALE: 827 votes (61,12%)\n",
      "ELENA UGOLINI: 497 votes (36,73%)\n",
      "FEDERICO SERRA: 17 votes (1,26%)\n",
      "LUCA TEODORI: 12 votes (0,89%)\n",
      "Processed ROLO\n",
      "\n",
      "Processing record 293\n",
      "URL: https://eleapi.interno.gov.it/siel/PX/scrutiniR/DE/20241117/TE/07/RE/08/PR/068/CM/0360\n"
     ]
    },
    {
     "name": "stdout",
     "output_type": "stream",
     "text": [
      "Response status code: 200\n",
      "Processing data for Comune: RUBIERA, Provincia: REGGIO NELL'EMILIA\n",
      "MICHELE DE PASCALE: 3511 votes (64,83%)\n",
      "ELENA UGOLINI: 1721 votes (31,78%)\n",
      "LUCA TEODORI: 97 votes (1,79%)\n",
      "FEDERICO SERRA: 87 votes (1,61%)\n",
      "Processed RUBIERA\n",
      "\n",
      "Processing record 294\n",
      "URL: https://eleapi.interno.gov.it/siel/PX/scrutiniR/DE/20241117/TE/07/RE/08/PR/068/CM/0370\n"
     ]
    },
    {
     "name": "stdout",
     "output_type": "stream",
     "text": [
      "Response status code: 200\n",
      "Processing data for Comune: SAN MARTINO IN RIO, Provincia: REGGIO NELL'EMILIA\n",
      "MICHELE DE PASCALE: 1812 votes (58,93%)\n",
      "ELENA UGOLINI: 1158 votes (37,66%)\n",
      "FEDERICO SERRA: 61 votes (1,98%)\n",
      "LUCA TEODORI: 44 votes (1,43%)\n",
      "Processed SAN MARTINO IN RIO\n",
      "\n",
      "Processing record 295\n",
      "URL: https://eleapi.interno.gov.it/siel/PX/scrutiniR/DE/20241117/TE/07/RE/08/PR/068/CM/0380\n"
     ]
    },
    {
     "name": "stdout",
     "output_type": "stream",
     "text": [
      "Response status code: 200\n",
      "Processing data for Comune: SAN POLO D'ENZA, Provincia: REGGIO NELL'EMILIA\n",
      "MICHELE DE PASCALE: 1241 votes (59,01%)\n",
      "ELENA UGOLINI: 778 votes (36,99%)\n",
      "FEDERICO SERRA: 46 votes (2,19%)\n",
      "LUCA TEODORI: 38 votes (1,81%)\n",
      "Processed SAN POLO D'ENZA\n",
      "\n",
      "Processing record 296\n",
      "URL: https://eleapi.interno.gov.it/siel/PX/scrutiniR/DE/20241117/TE/07/RE/08/PR/068/CM/0390\n"
     ]
    },
    {
     "name": "stdout",
     "output_type": "stream",
     "text": [
      "Response status code: 200\n",
      "Processing data for Comune: SANT'ILARIO D'ENZA, Provincia: REGGIO NELL'EMILIA\n",
      "MICHELE DE PASCALE: 2229 votes (59,11%)\n",
      "ELENA UGOLINI: 1399 votes (37,10%)\n",
      "FEDERICO SERRA: 99 votes (2,63%)\n",
      "LUCA TEODORI: 44 votes (1,17%)\n",
      "Processed SANT'ILARIO D'ENZA\n",
      "\n",
      "Processing record 297\n",
      "URL: https://eleapi.interno.gov.it/siel/PX/scrutiniR/DE/20241117/TE/07/RE/08/PR/068/CM/0400\n"
     ]
    },
    {
     "name": "stdout",
     "output_type": "stream",
     "text": [
      "Response status code: 200\n",
      "Processing data for Comune: SCANDIANO, Provincia: REGGIO NELL'EMILIA\n",
      "MICHELE DE PASCALE: 6905 votes (65,64%)\n",
      "ELENA UGOLINI: 3299 votes (31,36%)\n",
      "FEDERICO SERRA: 198 votes (1,88%)\n",
      "LUCA TEODORI: 118 votes (1,12%)\n",
      "Processed SCANDIANO\n",
      "\n",
      "Processing record 298\n",
      "URL: https://eleapi.interno.gov.it/siel/PX/scrutiniR/DE/20241117/TE/07/RE/08/PR/068/CM/0410\n"
     ]
    },
    {
     "name": "stdout",
     "output_type": "stream",
     "text": [
      "Response status code: 200\n",
      "Processing data for Comune: TOANO, Provincia: REGGIO NELL'EMILIA\n",
      "ELENA UGOLINI: 661 votes (50,61%)\n",
      "MICHELE DE PASCALE: 600 votes (45,94%)\n",
      "LUCA TEODORI: 29 votes (2,22%)\n",
      "FEDERICO SERRA: 16 votes (1,23%)\n",
      "Processed TOANO\n",
      "\n",
      "Processing record 299\n",
      "URL: https://eleapi.interno.gov.it/siel/PX/scrutiniR/DE/20241117/TE/07/RE/08/PR/068/CM/0415\n"
     ]
    },
    {
     "name": "stdout",
     "output_type": "stream",
     "text": [
      "Response status code: 200\n",
      "Processing data for Comune: VENTASSO, Provincia: REGGIO NELL'EMILIA\n",
      "ELENA UGOLINI: 907 votes (51,27%)\n",
      "MICHELE DE PASCALE: 806 votes (45,56%)\n",
      "FEDERICO SERRA: 37 votes (2,09%)\n",
      "LUCA TEODORI: 19 votes (1,07%)\n",
      "Processed VENTASSO\n",
      "\n",
      "Processing record 300\n",
      "URL: https://eleapi.interno.gov.it/siel/PX/scrutiniR/DE/20241117/TE/07/RE/08/PR/068/CM/0420\n"
     ]
    },
    {
     "name": "stdout",
     "output_type": "stream",
     "text": [
      "Response status code: 200\n",
      "Processing data for Comune: VETTO, Provincia: REGGIO NELL'EMILIA\n",
      "ELENA UGOLINI: 356 votes (51,74%)\n",
      "MICHELE DE PASCALE: 322 votes (46,80%)\n",
      "FEDERICO SERRA: 7 votes (1,02%)\n",
      "LUCA TEODORI: 3 votes (0,44%)\n",
      "Processed VETTO\n",
      "\n",
      "Processing record 301\n",
      "URL: https://eleapi.interno.gov.it/siel/PX/scrutiniR/DE/20241117/TE/07/RE/08/PR/068/CM/0430\n"
     ]
    },
    {
     "name": "stdout",
     "output_type": "stream",
     "text": [
      "Response status code: 200\n",
      "Processing data for Comune: VEZZANO SUL CROSTOLO, Provincia: REGGIO NELL'EMILIA\n",
      "MICHELE DE PASCALE: 1002 votes (61,17%)\n",
      "ELENA UGOLINI: 565 votes (34,49%)\n",
      "FEDERICO SERRA: 40 votes (2,44%)\n",
      "LUCA TEODORI: 31 votes (1,89%)\n",
      "Processed VEZZANO SUL CROSTOLO\n",
      "\n",
      "Processing record 302\n",
      "URL: https://eleapi.interno.gov.it/siel/PX/scrutiniR/DE/20241117/TE/07/RE/08/PR/068/CM/0440\n"
     ]
    },
    {
     "name": "stdout",
     "output_type": "stream",
     "text": [
      "Response status code: 200\n",
      "Processing data for Comune: VIANO, Provincia: REGGIO NELL'EMILIA\n",
      "MICHELE DE PASCALE: 718 votes (54,19%)\n",
      "ELENA UGOLINI: 560 votes (42,26%)\n",
      "LUCA TEODORI: 24 votes (1,81%)\n",
      "FEDERICO SERRA: 23 votes (1,74%)\n",
      "Processed VIANO\n",
      "\n",
      "Processing record 303\n",
      "URL: https://eleapi.interno.gov.it/siel/PX/scrutiniR/DE/20241117/TE/07/RE/08/PR/068/CM/0450\n"
     ]
    },
    {
     "name": "stdout",
     "output_type": "stream",
     "text": [
      "Response status code: 200\n",
      "Processing data for Comune: VILLA MINOZZO, Provincia: REGGIO NELL'EMILIA\n",
      "MICHELE DE PASCALE: 662 votes (47,25%)\n",
      "ELENA UGOLINI: 657 votes (46,90%)\n",
      "LUCA TEODORI: 52 votes (3,71%)\n",
      "FEDERICO SERRA: 30 votes (2,14%)\n",
      "Processed VILLA MINOZZO\n",
      "\n",
      "Processing record 304\n",
      "URL: https://eleapi.interno.gov.it/siel/PX/scrutiniR/DE/20241117/TE/07/RE/08/PR/101/CM/0010\n"
     ]
    },
    {
     "name": "stdout",
     "output_type": "stream",
     "text": [
      "Response status code: 200\n",
      "Processing data for Comune: BELLARIA-IGEA MARINA, Provincia: RIMINI\n",
      "ELENA UGOLINI: 3173 votes (51,91%)\n",
      "MICHELE DE PASCALE: 2756 votes (45,09%)\n",
      "LUCA TEODORI: 108 votes (1,77%)\n",
      "FEDERICO SERRA: 75 votes (1,23%)\n",
      "Processed BELLARIA-IGEA MARINA\n",
      "\n",
      "Processing record 305\n",
      "URL: https://eleapi.interno.gov.it/siel/PX/scrutiniR/DE/20241117/TE/07/RE/08/PR/101/CM/0015\n"
     ]
    },
    {
     "name": "stdout",
     "output_type": "stream",
     "text": [
      "Response status code: 200\n",
      "Processing data for Comune: CASTELDELCI, Provincia: RIMINI\n",
      "ELENA UGOLINI: 109 votes (65,66%)\n",
      "MICHELE DE PASCALE: 54 votes (32,53%)\n",
      "FEDERICO SERRA: 3 votes (1,81%)\n",
      "LUCA TEODORI: 0 votes (0%)\n",
      "Processed CASTELDELCI\n",
      "\n",
      "Processing record 306\n",
      "URL: https://eleapi.interno.gov.it/siel/PX/scrutiniR/DE/20241117/TE/07/RE/08/PR/101/CM/0020\n"
     ]
    },
    {
     "name": "stdout",
     "output_type": "stream",
     "text": [
      "Response status code: 200\n",
      "Processing data for Comune: CATTOLICA, Provincia: RIMINI\n",
      "MICHELE DE PASCALE: 2837 votes (55,42%)\n",
      "ELENA UGOLINI: 2066 votes (40,36%)\n",
      "FEDERICO SERRA: 116 votes (2,27%)\n",
      "LUCA TEODORI: 100 votes (1,95%)\n",
      "Processed CATTOLICA\n",
      "\n",
      "Processing record 307\n",
      "URL: https://eleapi.interno.gov.it/siel/PX/scrutiniR/DE/20241117/TE/07/RE/08/PR/101/CM/0030\n"
     ]
    },
    {
     "name": "stdout",
     "output_type": "stream",
     "text": [
      "Response status code: 200\n",
      "Processing data for Comune: CORIANO, Provincia: RIMINI\n",
      "MICHELE DE PASCALE: 1953 votes (51,79%)\n",
      "ELENA UGOLINI: 1696 votes (44,97%)\n",
      "LUCA TEODORI: 65 votes (1,72%)\n",
      "FEDERICO SERRA: 57 votes (1,51%)\n",
      "Processed CORIANO\n",
      "\n",
      "Processing record 308\n",
      "URL: https://eleapi.interno.gov.it/siel/PX/scrutiniR/DE/20241117/TE/07/RE/08/PR/101/CM/0040\n"
     ]
    },
    {
     "name": "stdout",
     "output_type": "stream",
     "text": [
      "Response status code: 200\n",
      "Processing data for Comune: GEMMANO, Provincia: RIMINI\n",
      "ELENA UGOLINI: 195 votes (53,13%)\n",
      "MICHELE DE PASCALE: 154 votes (41,96%)\n",
      "LUCA TEODORI: 10 votes (2,72%)\n",
      "FEDERICO SERRA: 8 votes (2,18%)\n",
      "Processed GEMMANO\n",
      "\n",
      "Processing record 309\n",
      "URL: https://eleapi.interno.gov.it/siel/PX/scrutiniR/DE/20241117/TE/07/RE/08/PR/101/CM/0045\n"
     ]
    },
    {
     "name": "stdout",
     "output_type": "stream",
     "text": [
      "Response status code: 200\n",
      "Processing data for Comune: MAIOLO, Provincia: RIMINI\n",
      "ELENA UGOLINI: 195 votes (56,52%)\n",
      "MICHELE DE PASCALE: 142 votes (41,16%)\n",
      "LUCA TEODORI: 4 votes (1,16%)\n",
      "FEDERICO SERRA: 4 votes (1,16%)\n",
      "Processed MAIOLO\n",
      "\n",
      "Processing record 310\n",
      "URL: https://eleapi.interno.gov.it/siel/PX/scrutiniR/DE/20241117/TE/07/RE/08/PR/101/CM/0050\n"
     ]
    },
    {
     "name": "stdout",
     "output_type": "stream",
     "text": [
      "Response status code: 200\n",
      "Processing data for Comune: MISANO ADRIATICO, Provincia: RIMINI\n",
      "MICHELE DE PASCALE: 2243 votes (54,47%)\n",
      "ELENA UGOLINI: 1755 votes (42,62%)\n",
      "LUCA TEODORI: 71 votes (1,72%)\n",
      "FEDERICO SERRA: 49 votes (1,19%)\n",
      "Processed MISANO ADRIATICO\n",
      "\n",
      "Processing record 311\n",
      "URL: https://eleapi.interno.gov.it/siel/PX/scrutiniR/DE/20241117/TE/07/RE/08/PR/101/CM/0060\n"
     ]
    },
    {
     "name": "stdout",
     "output_type": "stream",
     "text": [
      "Response status code: 200\n",
      "Processing data for Comune: MONDAINO, Provincia: RIMINI\n",
      "MICHELE DE PASCALE: 230 votes (54,12%)\n",
      "ELENA UGOLINI: 183 votes (43,06%)\n",
      "LUCA TEODORI: 7 votes (1,65%)\n",
      "FEDERICO SERRA: 5 votes (1,18%)\n",
      "Processed MONDAINO\n",
      "\n",
      "Processing record 312\n",
      "URL: https://eleapi.interno.gov.it/siel/PX/scrutiniR/DE/20241117/TE/07/RE/08/PR/101/CM/0072\n"
     ]
    },
    {
     "name": "stdout",
     "output_type": "stream",
     "text": [
      "Response status code: 200\n",
      "Processing data for Comune: MONTECOPIOLO, Provincia: RIMINI\n",
      "ELENA UGOLINI: 226 votes (57,36%)\n",
      "MICHELE DE PASCALE: 163 votes (41,37%)\n",
      "LUCA TEODORI: 4 votes (1,02%)\n",
      "FEDERICO SERRA: 1 votes (0,25%)\n",
      "Processed MONTECOPIOLO\n",
      "\n",
      "Processing record 313\n",
      "URL: https://eleapi.interno.gov.it/siel/PX/scrutiniR/DE/20241117/TE/07/RE/08/PR/101/CM/0080\n"
     ]
    },
    {
     "name": "stdout",
     "output_type": "stream",
     "text": [
      "Response status code: 200\n",
      "Processing data for Comune: MONTEFIORE CONCA, Provincia: RIMINI\n",
      "ELENA UGOLINI: 246 votes (49,10%)\n",
      "MICHELE DE PASCALE: 228 votes (45,51%)\n",
      "LUCA TEODORI: 16 votes (3,19%)\n",
      "FEDERICO SERRA: 11 votes (2,20%)\n",
      "Processed MONTEFIORE CONCA\n",
      "\n",
      "Processing record 314\n",
      "URL: https://eleapi.interno.gov.it/siel/PX/scrutiniR/DE/20241117/TE/07/RE/08/PR/101/CM/0090\n"
     ]
    },
    {
     "name": "stdout",
     "output_type": "stream",
     "text": [
      "Response status code: 200\n",
      "Processing data for Comune: MONTEGRIDOLFO, Provincia: RIMINI\n",
      "MICHELE DE PASCALE: 166 votes (60,81%)\n",
      "ELENA UGOLINI: 96 votes (35,16%)\n",
      "FEDERICO SERRA: 6 votes (2,20%)\n",
      "LUCA TEODORI: 5 votes (1,83%)\n",
      "Processed MONTEGRIDOLFO\n",
      "\n",
      "Processing record 315\n",
      "URL: https://eleapi.interno.gov.it/siel/PX/scrutiniR/DE/20241117/TE/07/RE/08/PR/101/CM/0101\n"
     ]
    },
    {
     "name": "stdout",
     "output_type": "stream",
     "text": [
      "Response status code: 200\n",
      "Processing data for Comune: MONTESCUDO - MONTE COLOMBO, Provincia: RIMINI\n",
      "ELENA UGOLINI: 976 votes (55,27%)\n",
      "MICHELE DE PASCALE: 727 votes (41,17%)\n",
      "LUCA TEODORI: 35 votes (1,98%)\n",
      "FEDERICO SERRA: 28 votes (1,59%)\n",
      "Processed MONTESCUDO - MONTE COLOMBO\n",
      "\n",
      "Processing record 316\n",
      "URL: https://eleapi.interno.gov.it/siel/PX/scrutiniR/DE/20241117/TE/07/RE/08/PR/101/CM/0110\n"
     ]
    },
    {
     "name": "stdout",
     "output_type": "stream",
     "text": [
      "Response status code: 200\n",
      "Processing data for Comune: MORCIANO DI ROMAGNA, Provincia: RIMINI\n",
      "ELENA UGOLINI: 1074 votes (52,49%)\n",
      "MICHELE DE PASCALE: 899 votes (43,94%)\n",
      "LUCA TEODORI: 47 votes (2,30%)\n",
      "FEDERICO SERRA: 26 votes (1,27%)\n",
      "Processed MORCIANO DI ROMAGNA\n",
      "\n",
      "Processing record 317\n",
      "URL: https://eleapi.interno.gov.it/siel/PX/scrutiniR/DE/20241117/TE/07/RE/08/PR/101/CM/0115\n"
     ]
    },
    {
     "name": "stdout",
     "output_type": "stream",
     "text": [
      "Response status code: 200\n",
      "Processing data for Comune: NOVAFELTRIA, Provincia: RIMINI\n",
      "ELENA UGOLINI: 1374 votes (52,44%)\n",
      "MICHELE DE PASCALE: 1184 votes (45,19%)\n",
      "LUCA TEODORI: 40 votes (1,53%)\n",
      "FEDERICO SERRA: 22 votes (0,84%)\n",
      "Processed NOVAFELTRIA\n",
      "\n",
      "Processing record 318\n",
      "URL: https://eleapi.interno.gov.it/siel/PX/scrutiniR/DE/20241117/TE/07/RE/08/PR/101/CM/0116\n"
     ]
    },
    {
     "name": "stdout",
     "output_type": "stream",
     "text": [
      "Response status code: 200\n",
      "Processing data for Comune: PENNABILLI, Provincia: RIMINI\n",
      "ELENA UGOLINI: 552 votes (52,87%)\n",
      "MICHELE DE PASCALE: 472 votes (45,21%)\n",
      "LUCA TEODORI: 11 votes (1,05%)\n",
      "FEDERICO SERRA: 9 votes (0,86%)\n",
      "Processed PENNABILLI\n",
      "\n",
      "Processing record 319\n",
      "URL: https://eleapi.interno.gov.it/siel/PX/scrutiniR/DE/20241117/TE/07/RE/08/PR/101/CM/0125\n"
     ]
    },
    {
     "name": "stdout",
     "output_type": "stream",
     "text": [
      "Response status code: 200\n",
      "Processing data for Comune: POGGIO TORRIANA, Provincia: RIMINI\n",
      "MICHELE DE PASCALE: 1034 votes (59,87%)\n",
      "ELENA UGOLINI: 616 votes (35,67%)\n",
      "LUCA TEODORI: 42 votes (2,43%)\n",
      "FEDERICO SERRA: 35 votes (2,03%)\n",
      "Processed POGGIO TORRIANA\n",
      "\n",
      "Processing record 320\n",
      "URL: https://eleapi.interno.gov.it/siel/PX/scrutiniR/DE/20241117/TE/07/RE/08/PR/101/CM/0130\n"
     ]
    },
    {
     "name": "stdout",
     "output_type": "stream",
     "text": [
      "Response status code: 200\n",
      "Processing data for Comune: RICCIONE, Provincia: RIMINI\n",
      "ELENA UGOLINI: 6232 votes (49,78%)\n",
      "MICHELE DE PASCALE: 5992 votes (47,86%)\n",
      "LUCA TEODORI: 182 votes (1,45%)\n",
      "FEDERICO SERRA: 113 votes (0,90%)\n",
      "Processed RICCIONE\n",
      "\n",
      "Processing record 321\n",
      "URL: https://eleapi.interno.gov.it/siel/PX/scrutiniR/DE/20241117/TE/07/RE/08/PR/101/CM/0140\n"
     ]
    },
    {
     "name": "stdout",
     "output_type": "stream",
     "text": [
      "Response status code: 200\n",
      "Processing data for Comune: RIMINI, Provincia: RIMINI\n",
      "MICHELE DE PASCALE: 27587 votes (53,63%)\n",
      "ELENA UGOLINI: 22337 votes (43,42%)\n",
      "LUCA TEODORI: 773 votes (1,50%)\n",
      "FEDERICO SERRA: 747 votes (1,45%)\n",
      "Processed RIMINI\n",
      "\n",
      "Processing record 322\n",
      "URL: https://eleapi.interno.gov.it/siel/PX/scrutiniR/DE/20241117/TE/07/RE/08/PR/101/CM/0150\n"
     ]
    },
    {
     "name": "stdout",
     "output_type": "stream",
     "text": [
      "Response status code: 200\n",
      "Processing data for Comune: SALUDECIO, Provincia: RIMINI\n",
      "ELENA UGOLINI: 418 votes (54,08%)\n",
      "MICHELE DE PASCALE: 330 votes (42,69%)\n",
      "LUCA TEODORI: 17 votes (2,20%)\n",
      "FEDERICO SERRA: 8 votes (1,03%)\n",
      "Processed SALUDECIO\n",
      "\n",
      "Processing record 323\n",
      "URL: https://eleapi.interno.gov.it/siel/PX/scrutiniR/DE/20241117/TE/07/RE/08/PR/101/CM/0160\n"
     ]
    },
    {
     "name": "stdout",
     "output_type": "stream",
     "text": [
      "Response status code: 200\n",
      "Processing data for Comune: SAN CLEMENTE, Provincia: RIMINI\n",
      "MICHELE DE PASCALE: 757 votes (53,20%)\n",
      "ELENA UGOLINI: 620 votes (43,57%)\n",
      "LUCA TEODORI: 25 votes (1,76%)\n",
      "FEDERICO SERRA: 21 votes (1,48%)\n",
      "Processed SAN CLEMENTE\n",
      "\n",
      "Processing record 324\n",
      "URL: https://eleapi.interno.gov.it/siel/PX/scrutiniR/DE/20241117/TE/07/RE/08/PR/101/CM/0170\n"
     ]
    },
    {
     "name": "stdout",
     "output_type": "stream",
     "text": [
      "Response status code: 200\n",
      "Processing data for Comune: SAN GIOVANNI IN MARIGNANO, Provincia: RIMINI\n",
      "MICHELE DE PASCALE: 1741 votes (57,25%)\n",
      "ELENA UGOLINI: 1184 votes (38,93%)\n",
      "FEDERICO SERRA: 64 votes (2,10%)\n",
      "LUCA TEODORI: 52 votes (1,71%)\n",
      "Processed SAN GIOVANNI IN MARIGNANO\n",
      "\n",
      "Processing record 325\n",
      "URL: https://eleapi.interno.gov.it/siel/PX/scrutiniR/DE/20241117/TE/07/RE/08/PR/101/CM/0175\n"
     ]
    },
    {
     "name": "stdout",
     "output_type": "stream",
     "text": [
      "Response status code: 200\n",
      "Processing data for Comune: SAN LEO, Provincia: RIMINI\n",
      "ELENA UGOLINI: 531 votes (51,30%)\n",
      "MICHELE DE PASCALE: 463 votes (44,73%)\n",
      "LUCA TEODORI: 32 votes (3,09%)\n",
      "FEDERICO SERRA: 9 votes (0,87%)\n",
      "Processed SAN LEO\n",
      "\n",
      "Processing record 326\n",
      "URL: https://eleapi.interno.gov.it/siel/PX/scrutiniR/DE/20241117/TE/07/RE/08/PR/101/CM/0176\n"
     ]
    },
    {
     "name": "stdout",
     "output_type": "stream",
     "text": [
      "Response status code: 200\n",
      "Processing data for Comune: SANT'AGATA FELTRIA, Provincia: RIMINI\n",
      "MICHELE DE PASCALE: 363 votes (52,53%)\n",
      "ELENA UGOLINI: 313 votes (45,30%)\n",
      "LUCA TEODORI: 10 votes (1,45%)\n",
      "FEDERICO SERRA: 5 votes (0,72%)\n",
      "Processed SANT'AGATA FELTRIA\n",
      "\n",
      "Processing record 327\n",
      "URL: https://eleapi.interno.gov.it/siel/PX/scrutiniR/DE/20241117/TE/07/RE/08/PR/101/CM/0180\n"
     ]
    },
    {
     "name": "stdout",
     "output_type": "stream",
     "text": [
      "Response status code: 200\n",
      "Processing data for Comune: SANTARCANGELO DI ROMAGNA, Provincia: RIMINI\n",
      "MICHELE DE PASCALE: 5130 votes (61,83%)\n",
      "ELENA UGOLINI: 2916 votes (35,15%)\n",
      "LUCA TEODORI: 163 votes (1,96%)\n",
      "FEDERICO SERRA: 88 votes (1,06%)\n",
      "Processed SANTARCANGELO DI ROMAGNA\n",
      "\n",
      "Processing record 328\n",
      "URL: https://eleapi.interno.gov.it/siel/PX/scrutiniR/DE/20241117/TE/07/RE/08/PR/101/CM/0183\n"
     ]
    },
    {
     "name": "stdout",
     "output_type": "stream",
     "text": [
      "Response status code: 200\n",
      "Processing data for Comune: SASSOFELTRIO, Provincia: RIMINI\n",
      "ELENA UGOLINI: 262 votes (61,65%)\n",
      "MICHELE DE PASCALE: 152 votes (35,76%)\n",
      "LUCA TEODORI: 6 votes (1,41%)\n",
      "FEDERICO SERRA: 5 votes (1,18%)\n",
      "Processed SASSOFELTRIO\n",
      "\n",
      "Processing record 329\n",
      "URL: https://eleapi.interno.gov.it/siel/PX/scrutiniR/DE/20241117/TE/07/RE/08/PR/101/CM/0185\n"
     ]
    },
    {
     "name": "stdout",
     "output_type": "stream",
     "text": [
      "Response status code: 200\n",
      "Processing data for Comune: TALAMELLO, Provincia: RIMINI\n",
      "MICHELE DE PASCALE: 185 votes (48,56%)\n",
      "ELENA UGOLINI: 184 votes (48,29%)\n",
      "LUCA TEODORI: 9 votes (2,36%)\n",
      "FEDERICO SERRA: 3 votes (0,79%)\n",
      "Processed TALAMELLO\n",
      "\n",
      "Processing record 330\n",
      "URL: https://eleapi.interno.gov.it/siel/PX/scrutiniR/DE/20241117/TE/07/RE/08/PR/101/CM/0200\n"
     ]
    },
    {
     "name": "stdout",
     "output_type": "stream",
     "text": [
      "Response status code: 200\n",
      "Processing data for Comune: VERUCCHIO, Provincia: RIMINI\n",
      "MICHELE DE PASCALE: 1662 votes (50,09%)\n",
      "ELENA UGOLINI: 1507 votes (45,42%)\n",
      "LUCA TEODORI: 116 votes (3,50%)\n",
      "FEDERICO SERRA: 33 votes (0,99%)\n",
      "Processed VERUCCHIO\n",
      "\n",
      "Creating DataFrame...\n",
      "\n",
      "Sample of processed data:\n",
      "               comune provincia         regione  \\\n",
      "0     ALTO RENO TERME   BOLOGNA  EMILIA-ROMAGNA   \n",
      "1  ANZOLA DELL'EMILIA   BOLOGNA  EMILIA-ROMAGNA   \n",
      "2            ARGELATO   BOLOGNA  EMILIA-ROMAGNA   \n",
      "3           BARICELLA   BOLOGNA  EMILIA-ROMAGNA   \n",
      "4         BENTIVOGLIO   BOLOGNA  EMILIA-ROMAGNA   \n",
      "\n",
      "                                                 url  \\\n",
      "0  https://elezioni.interno.gov.it/risultati/2024...   \n",
      "1  https://elezioni.interno.gov.it/risultati/2024...   \n",
      "2  https://elezioni.interno.gov.it/risultati/2024...   \n",
      "3  https://elezioni.interno.gov.it/risultati/2024...   \n",
      "4  https://elezioni.interno.gov.it/risultati/2024...   \n",
      "\n",
      "   MICHELE DE PASCALE_total MICHELE DE PASCALE_perc  ELENA UGOLINI_total  \\\n",
      "0                      1240                   49,13                 1204   \n",
      "1                      3346                   66,04                 1561   \n",
      "2                      2536                   63,51                 1327   \n",
      "3                      1277                   51,60                 1115   \n",
      "4                      1357                   60,15                  806   \n",
      "\n",
      "  ELENA UGOLINI_perc  FEDERICO SERRA_total FEDERICO SERRA_perc  \\\n",
      "0              47,70                    59                2,34   \n",
      "1              30,81                    97                1,91   \n",
      "2              33,23                    75                1,88   \n",
      "3              45,05                    42                1,70   \n",
      "4              35,73                    54                2,39   \n",
      "\n",
      "   LUCA TEODORI_total LUCA TEODORI_perc  \n",
      "0                  21              0,83  \n",
      "1                  63              1,24  \n",
      "2                  55              1,38  \n",
      "3                  41              1,66  \n",
      "4                  39              1,73  \n"
     ]
    }
   ],
   "source": [
    "comuni_data = []\n",
    "\n",
    "for idx, url in enumerate(df_er['url_aff']):\n",
    "   print(f\"\\nProcessing record {idx + 1}\")\n",
    "   print(f\"URL: {url}\")\n",
    "\n",
    "   response = requests.get(url, headers=headers)\n",
    "   print(f\"Response status code: {response.status_code}\")\n",
    "   \n",
    "   data = response.json()\n",
    "\n",
    "   comune = df_er.iloc[idx]['desc']\n",
    "   provincia = df_er.iloc[idx]['provincia']\n",
    "   regione = df_er.iloc[idx]['regione']\n",
    "   url = df_er.iloc[idx]['url']\n",
    "\n",
    "   print(f\"Processing data for Comune: {comune}, Provincia: {provincia}\")\n",
    "\n",
    "   # Start with basic comune info\n",
    "   comune_info = {\n",
    "       'comune': comune,\n",
    "       'provincia': provincia,\n",
    "       'regione': regione,\n",
    "       'url': url\n",
    "   }\n",
    "   \n",
    "   # Add candidate totals\n",
    "   if 'cand' in data:\n",
    "       for cand in data['cand']:\n",
    "           nome_completo = cand['nome'] + \" \" + cand['cogn']\n",
    "           comune_info[f\"{nome_completo}_total\"] = cand['voti']\n",
    "           comune_info[f\"{nome_completo}_perc\"] = cand['perc']\n",
    "           print(f\"{nome_completo}: {cand['voti']} votes ({cand['perc']}%)\")\n",
    "\n",
    "   comuni_data.append(comune_info)\n",
    "   \n",
    "   print(f\"Processed {comune}\")\n",
    "   sleep(0.1)\n",
    "\n",
    "# Create DataFrame\n",
    "print(\"\\nCreating DataFrame...\")\n",
    "df_data = pd.DataFrame(comuni_data)\n",
    "\n",
    "print(\"\\nSample of processed data:\")\n",
    "print(df_data.head())"
   ]
  },
  {
   "cell_type": "code",
   "execution_count": 6,
   "metadata": {
    "execution": {
     "iopub.execute_input": "2024-11-19T03:47:14.380859Z",
     "iopub.status.busy": "2024-11-19T03:47:14.380461Z",
     "iopub.status.idle": "2024-11-19T03:47:14.391205Z",
     "shell.execute_reply": "2024-11-19T03:47:14.390645Z"
    }
   },
   "outputs": [
    {
     "data": {
      "text/html": [
       "<div>\n",
       "<style scoped>\n",
       "    .dataframe tbody tr th:only-of-type {\n",
       "        vertical-align: middle;\n",
       "    }\n",
       "\n",
       "    .dataframe tbody tr th {\n",
       "        vertical-align: top;\n",
       "    }\n",
       "\n",
       "    .dataframe thead th {\n",
       "        text-align: right;\n",
       "    }\n",
       "</style>\n",
       "<table border=\"1\" class=\"dataframe\">\n",
       "  <thead>\n",
       "    <tr style=\"text-align: right;\">\n",
       "      <th></th>\n",
       "      <th>comune</th>\n",
       "      <th>provincia</th>\n",
       "      <th>regione</th>\n",
       "      <th>url</th>\n",
       "      <th>MICHELE DE PASCALE_total</th>\n",
       "      <th>MICHELE DE PASCALE_perc</th>\n",
       "      <th>ELENA UGOLINI_total</th>\n",
       "      <th>ELENA UGOLINI_perc</th>\n",
       "      <th>FEDERICO SERRA_total</th>\n",
       "      <th>FEDERICO SERRA_perc</th>\n",
       "      <th>LUCA TEODORI_total</th>\n",
       "      <th>LUCA TEODORI_perc</th>\n",
       "    </tr>\n",
       "  </thead>\n",
       "  <tbody>\n",
       "    <tr>\n",
       "      <th>0</th>\n",
       "      <td>ALTO RENO TERME</td>\n",
       "      <td>BOLOGNA</td>\n",
       "      <td>EMILIA-ROMAGNA</td>\n",
       "      <td>https://elezioni.interno.gov.it/risultati/2024...</td>\n",
       "      <td>1240</td>\n",
       "      <td>49,13</td>\n",
       "      <td>1204</td>\n",
       "      <td>47,70</td>\n",
       "      <td>59</td>\n",
       "      <td>2,34</td>\n",
       "      <td>21</td>\n",
       "      <td>0,83</td>\n",
       "    </tr>\n",
       "    <tr>\n",
       "      <th>1</th>\n",
       "      <td>ANZOLA DELL'EMILIA</td>\n",
       "      <td>BOLOGNA</td>\n",
       "      <td>EMILIA-ROMAGNA</td>\n",
       "      <td>https://elezioni.interno.gov.it/risultati/2024...</td>\n",
       "      <td>3346</td>\n",
       "      <td>66,04</td>\n",
       "      <td>1561</td>\n",
       "      <td>30,81</td>\n",
       "      <td>97</td>\n",
       "      <td>1,91</td>\n",
       "      <td>63</td>\n",
       "      <td>1,24</td>\n",
       "    </tr>\n",
       "    <tr>\n",
       "      <th>2</th>\n",
       "      <td>ARGELATO</td>\n",
       "      <td>BOLOGNA</td>\n",
       "      <td>EMILIA-ROMAGNA</td>\n",
       "      <td>https://elezioni.interno.gov.it/risultati/2024...</td>\n",
       "      <td>2536</td>\n",
       "      <td>63,51</td>\n",
       "      <td>1327</td>\n",
       "      <td>33,23</td>\n",
       "      <td>75</td>\n",
       "      <td>1,88</td>\n",
       "      <td>55</td>\n",
       "      <td>1,38</td>\n",
       "    </tr>\n",
       "    <tr>\n",
       "      <th>3</th>\n",
       "      <td>BARICELLA</td>\n",
       "      <td>BOLOGNA</td>\n",
       "      <td>EMILIA-ROMAGNA</td>\n",
       "      <td>https://elezioni.interno.gov.it/risultati/2024...</td>\n",
       "      <td>1277</td>\n",
       "      <td>51,60</td>\n",
       "      <td>1115</td>\n",
       "      <td>45,05</td>\n",
       "      <td>42</td>\n",
       "      <td>1,70</td>\n",
       "      <td>41</td>\n",
       "      <td>1,66</td>\n",
       "    </tr>\n",
       "    <tr>\n",
       "      <th>4</th>\n",
       "      <td>BENTIVOGLIO</td>\n",
       "      <td>BOLOGNA</td>\n",
       "      <td>EMILIA-ROMAGNA</td>\n",
       "      <td>https://elezioni.interno.gov.it/risultati/2024...</td>\n",
       "      <td>1357</td>\n",
       "      <td>60,15</td>\n",
       "      <td>806</td>\n",
       "      <td>35,73</td>\n",
       "      <td>54</td>\n",
       "      <td>2,39</td>\n",
       "      <td>39</td>\n",
       "      <td>1,73</td>\n",
       "    </tr>\n",
       "    <tr>\n",
       "      <th>...</th>\n",
       "      <td>...</td>\n",
       "      <td>...</td>\n",
       "      <td>...</td>\n",
       "      <td>...</td>\n",
       "      <td>...</td>\n",
       "      <td>...</td>\n",
       "      <td>...</td>\n",
       "      <td>...</td>\n",
       "      <td>...</td>\n",
       "      <td>...</td>\n",
       "      <td>...</td>\n",
       "      <td>...</td>\n",
       "    </tr>\n",
       "    <tr>\n",
       "      <th>325</th>\n",
       "      <td>SANT'AGATA FELTRIA</td>\n",
       "      <td>RIMINI</td>\n",
       "      <td>EMILIA-ROMAGNA</td>\n",
       "      <td>https://elezioni.interno.gov.it/risultati/2024...</td>\n",
       "      <td>363</td>\n",
       "      <td>52,53</td>\n",
       "      <td>313</td>\n",
       "      <td>45,30</td>\n",
       "      <td>5</td>\n",
       "      <td>0,72</td>\n",
       "      <td>10</td>\n",
       "      <td>1,45</td>\n",
       "    </tr>\n",
       "    <tr>\n",
       "      <th>326</th>\n",
       "      <td>SANTARCANGELO DI ROMAGNA</td>\n",
       "      <td>RIMINI</td>\n",
       "      <td>EMILIA-ROMAGNA</td>\n",
       "      <td>https://elezioni.interno.gov.it/risultati/2024...</td>\n",
       "      <td>5130</td>\n",
       "      <td>61,83</td>\n",
       "      <td>2916</td>\n",
       "      <td>35,15</td>\n",
       "      <td>88</td>\n",
       "      <td>1,06</td>\n",
       "      <td>163</td>\n",
       "      <td>1,96</td>\n",
       "    </tr>\n",
       "    <tr>\n",
       "      <th>327</th>\n",
       "      <td>SASSOFELTRIO</td>\n",
       "      <td>RIMINI</td>\n",
       "      <td>EMILIA-ROMAGNA</td>\n",
       "      <td>https://elezioni.interno.gov.it/risultati/2024...</td>\n",
       "      <td>152</td>\n",
       "      <td>35,76</td>\n",
       "      <td>262</td>\n",
       "      <td>61,65</td>\n",
       "      <td>5</td>\n",
       "      <td>1,18</td>\n",
       "      <td>6</td>\n",
       "      <td>1,41</td>\n",
       "    </tr>\n",
       "    <tr>\n",
       "      <th>328</th>\n",
       "      <td>TALAMELLO</td>\n",
       "      <td>RIMINI</td>\n",
       "      <td>EMILIA-ROMAGNA</td>\n",
       "      <td>https://elezioni.interno.gov.it/risultati/2024...</td>\n",
       "      <td>185</td>\n",
       "      <td>48,56</td>\n",
       "      <td>184</td>\n",
       "      <td>48,29</td>\n",
       "      <td>3</td>\n",
       "      <td>0,79</td>\n",
       "      <td>9</td>\n",
       "      <td>2,36</td>\n",
       "    </tr>\n",
       "    <tr>\n",
       "      <th>329</th>\n",
       "      <td>VERUCCHIO</td>\n",
       "      <td>RIMINI</td>\n",
       "      <td>EMILIA-ROMAGNA</td>\n",
       "      <td>https://elezioni.interno.gov.it/risultati/2024...</td>\n",
       "      <td>1662</td>\n",
       "      <td>50,09</td>\n",
       "      <td>1507</td>\n",
       "      <td>45,42</td>\n",
       "      <td>33</td>\n",
       "      <td>0,99</td>\n",
       "      <td>116</td>\n",
       "      <td>3,50</td>\n",
       "    </tr>\n",
       "  </tbody>\n",
       "</table>\n",
       "<p>330 rows × 12 columns</p>\n",
       "</div>"
      ],
      "text/plain": [
       "                       comune provincia         regione  \\\n",
       "0             ALTO RENO TERME   BOLOGNA  EMILIA-ROMAGNA   \n",
       "1          ANZOLA DELL'EMILIA   BOLOGNA  EMILIA-ROMAGNA   \n",
       "2                    ARGELATO   BOLOGNA  EMILIA-ROMAGNA   \n",
       "3                   BARICELLA   BOLOGNA  EMILIA-ROMAGNA   \n",
       "4                 BENTIVOGLIO   BOLOGNA  EMILIA-ROMAGNA   \n",
       "..                        ...       ...             ...   \n",
       "325        SANT'AGATA FELTRIA    RIMINI  EMILIA-ROMAGNA   \n",
       "326  SANTARCANGELO DI ROMAGNA    RIMINI  EMILIA-ROMAGNA   \n",
       "327              SASSOFELTRIO    RIMINI  EMILIA-ROMAGNA   \n",
       "328                 TALAMELLO    RIMINI  EMILIA-ROMAGNA   \n",
       "329                 VERUCCHIO    RIMINI  EMILIA-ROMAGNA   \n",
       "\n",
       "                                                   url  \\\n",
       "0    https://elezioni.interno.gov.it/risultati/2024...   \n",
       "1    https://elezioni.interno.gov.it/risultati/2024...   \n",
       "2    https://elezioni.interno.gov.it/risultati/2024...   \n",
       "3    https://elezioni.interno.gov.it/risultati/2024...   \n",
       "4    https://elezioni.interno.gov.it/risultati/2024...   \n",
       "..                                                 ...   \n",
       "325  https://elezioni.interno.gov.it/risultati/2024...   \n",
       "326  https://elezioni.interno.gov.it/risultati/2024...   \n",
       "327  https://elezioni.interno.gov.it/risultati/2024...   \n",
       "328  https://elezioni.interno.gov.it/risultati/2024...   \n",
       "329  https://elezioni.interno.gov.it/risultati/2024...   \n",
       "\n",
       "     MICHELE DE PASCALE_total MICHELE DE PASCALE_perc  ELENA UGOLINI_total  \\\n",
       "0                        1240                   49,13                 1204   \n",
       "1                        3346                   66,04                 1561   \n",
       "2                        2536                   63,51                 1327   \n",
       "3                        1277                   51,60                 1115   \n",
       "4                        1357                   60,15                  806   \n",
       "..                        ...                     ...                  ...   \n",
       "325                       363                   52,53                  313   \n",
       "326                      5130                   61,83                 2916   \n",
       "327                       152                   35,76                  262   \n",
       "328                       185                   48,56                  184   \n",
       "329                      1662                   50,09                 1507   \n",
       "\n",
       "    ELENA UGOLINI_perc  FEDERICO SERRA_total FEDERICO SERRA_perc  \\\n",
       "0                47,70                    59                2,34   \n",
       "1                30,81                    97                1,91   \n",
       "2                33,23                    75                1,88   \n",
       "3                45,05                    42                1,70   \n",
       "4                35,73                    54                2,39   \n",
       "..                 ...                   ...                 ...   \n",
       "325              45,30                     5                0,72   \n",
       "326              35,15                    88                1,06   \n",
       "327              61,65                     5                1,18   \n",
       "328              48,29                     3                0,79   \n",
       "329              45,42                    33                0,99   \n",
       "\n",
       "     LUCA TEODORI_total LUCA TEODORI_perc  \n",
       "0                    21              0,83  \n",
       "1                    63              1,24  \n",
       "2                    55              1,38  \n",
       "3                    41              1,66  \n",
       "4                    39              1,73  \n",
       "..                  ...               ...  \n",
       "325                  10              1,45  \n",
       "326                 163              1,96  \n",
       "327                   6              1,41  \n",
       "328                   9              2,36  \n",
       "329                 116              3,50  \n",
       "\n",
       "[330 rows x 12 columns]"
      ]
     },
     "execution_count": 6,
     "metadata": {},
     "output_type": "execute_result"
    }
   ],
   "source": [
    "df_data"
   ]
  },
  {
   "cell_type": "code",
   "execution_count": 7,
   "metadata": {
    "execution": {
     "iopub.execute_input": "2024-11-19T03:47:14.393352Z",
     "iopub.status.busy": "2024-11-19T03:47:14.392978Z",
     "iopub.status.idle": "2024-11-19T03:47:14.398645Z",
     "shell.execute_reply": "2024-11-19T03:47:14.398001Z"
    }
   },
   "outputs": [],
   "source": [
    "# df_data['perc_diff'] = round(((df_data['MICHELE DE PASCALE_total'] - df_data['ELENA UGOLINI_total']) / df_data['ELENA UGOLINI_total']) * 100, 2)\n",
    "\n",
    "# Get all columns containing '_total'\n",
    "total_columns = [col for col in df_data.columns if '_total' in col]\n",
    "\n",
    "# Sum all vote totals for each comune\n",
    "df_data['total_votes'] = df_data[total_columns].sum(axis=1)\n",
    "\n",
    "# Calculate the spectrum considering all votes\n",
    "df_data['vote_spectrum'] = round((df_data['MICHELE DE PASCALE_total'] / df_data['total_votes']) * 100, 2)"
   ]
  },
  {
   "cell_type": "code",
   "execution_count": 8,
   "metadata": {
    "execution": {
     "iopub.execute_input": "2024-11-19T03:47:14.400845Z",
     "iopub.status.busy": "2024-11-19T03:47:14.400457Z",
     "iopub.status.idle": "2024-11-19T03:47:14.411962Z",
     "shell.execute_reply": "2024-11-19T03:47:14.411303Z"
    }
   },
   "outputs": [
    {
     "data": {
      "text/html": [
       "<div>\n",
       "<style scoped>\n",
       "    .dataframe tbody tr th:only-of-type {\n",
       "        vertical-align: middle;\n",
       "    }\n",
       "\n",
       "    .dataframe tbody tr th {\n",
       "        vertical-align: top;\n",
       "    }\n",
       "\n",
       "    .dataframe thead th {\n",
       "        text-align: right;\n",
       "    }\n",
       "</style>\n",
       "<table border=\"1\" class=\"dataframe\">\n",
       "  <thead>\n",
       "    <tr style=\"text-align: right;\">\n",
       "      <th></th>\n",
       "      <th>comune</th>\n",
       "      <th>provincia</th>\n",
       "      <th>regione</th>\n",
       "      <th>url</th>\n",
       "      <th>MICHELE DE PASCALE_total</th>\n",
       "      <th>MICHELE DE PASCALE_perc</th>\n",
       "      <th>ELENA UGOLINI_total</th>\n",
       "      <th>ELENA UGOLINI_perc</th>\n",
       "      <th>FEDERICO SERRA_total</th>\n",
       "      <th>FEDERICO SERRA_perc</th>\n",
       "      <th>LUCA TEODORI_total</th>\n",
       "      <th>LUCA TEODORI_perc</th>\n",
       "      <th>total_votes</th>\n",
       "      <th>vote_spectrum</th>\n",
       "    </tr>\n",
       "  </thead>\n",
       "  <tbody>\n",
       "    <tr>\n",
       "      <th>0</th>\n",
       "      <td>Alto Reno Terme</td>\n",
       "      <td>Bologna</td>\n",
       "      <td>Emilia-Romagna</td>\n",
       "      <td>https://elezioni.interno.gov.it/risultati/2024...</td>\n",
       "      <td>1240</td>\n",
       "      <td>49,13</td>\n",
       "      <td>1204</td>\n",
       "      <td>47,70</td>\n",
       "      <td>59</td>\n",
       "      <td>2,34</td>\n",
       "      <td>21</td>\n",
       "      <td>0,83</td>\n",
       "      <td>2524</td>\n",
       "      <td>49.13</td>\n",
       "    </tr>\n",
       "    <tr>\n",
       "      <th>1</th>\n",
       "      <td>Anzola Dell'Emilia</td>\n",
       "      <td>Bologna</td>\n",
       "      <td>Emilia-Romagna</td>\n",
       "      <td>https://elezioni.interno.gov.it/risultati/2024...</td>\n",
       "      <td>3346</td>\n",
       "      <td>66,04</td>\n",
       "      <td>1561</td>\n",
       "      <td>30,81</td>\n",
       "      <td>97</td>\n",
       "      <td>1,91</td>\n",
       "      <td>63</td>\n",
       "      <td>1,24</td>\n",
       "      <td>5067</td>\n",
       "      <td>66.04</td>\n",
       "    </tr>\n",
       "  </tbody>\n",
       "</table>\n",
       "</div>"
      ],
      "text/plain": [
       "               comune provincia         regione  \\\n",
       "0     Alto Reno Terme   Bologna  Emilia-Romagna   \n",
       "1  Anzola Dell'Emilia   Bologna  Emilia-Romagna   \n",
       "\n",
       "                                                 url  \\\n",
       "0  https://elezioni.interno.gov.it/risultati/2024...   \n",
       "1  https://elezioni.interno.gov.it/risultati/2024...   \n",
       "\n",
       "   MICHELE DE PASCALE_total MICHELE DE PASCALE_perc  ELENA UGOLINI_total  \\\n",
       "0                      1240                   49,13                 1204   \n",
       "1                      3346                   66,04                 1561   \n",
       "\n",
       "  ELENA UGOLINI_perc  FEDERICO SERRA_total FEDERICO SERRA_perc  \\\n",
       "0              47,70                    59                2,34   \n",
       "1              30,81                    97                1,91   \n",
       "\n",
       "   LUCA TEODORI_total LUCA TEODORI_perc  total_votes  vote_spectrum  \n",
       "0                  21              0,83         2524          49.13  \n",
       "1                  63              1,24         5067          66.04  "
      ]
     },
     "execution_count": 8,
     "metadata": {},
     "output_type": "execute_result"
    }
   ],
   "source": [
    "df_data['comune'] = df_data['comune'].str.title()\n",
    "df_data['provincia'] = df_data['provincia'].str.title()\n",
    "df_data['regione'] = df_data['regione'].str.title()\n",
    "df_data.head(2)"
   ]
  },
  {
   "cell_type": "code",
   "execution_count": 9,
   "metadata": {
    "execution": {
     "iopub.execute_input": "2024-11-19T03:47:14.413922Z",
     "iopub.status.busy": "2024-11-19T03:47:14.413561Z",
     "iopub.status.idle": "2024-11-19T03:47:14.419191Z",
     "shell.execute_reply": "2024-11-19T03:47:14.418552Z"
    }
   },
   "outputs": [
    {
     "name": "stderr",
     "output_type": "stream",
     "text": [
      "/tmp/ipykernel_1879/1802013088.py:5: SettingWithCopyWarning: \n",
      "A value is trying to be set on a copy of a slice from a DataFrame.\n",
      "Try using .loc[row_indexer,col_indexer] = value instead\n",
      "\n",
      "See the caveats in the documentation: https://pandas.pydata.org/pandas-docs/stable/user_guide/indexing.html#returning-a-view-versus-a-copy\n",
      "  df_data['comune'] = df_data['comune'].str.replace(\"Forli'\", \"Forlì\", regex=False)\n",
      "/tmp/ipykernel_1879/1802013088.py:6: SettingWithCopyWarning: \n",
      "A value is trying to be set on a copy of a slice from a DataFrame.\n",
      "Try using .loc[row_indexer,col_indexer] = value instead\n",
      "\n",
      "See the caveats in the documentation: https://pandas.pydata.org/pandas-docs/stable/user_guide/indexing.html#returning-a-view-versus-a-copy\n",
      "  df_data['comune'] = df_data['comune'].str.replace(\"Montescudo - Monte Colombo\", \"Montescudo-Monte Colombo\", regex=False)\n"
     ]
    }
   ],
   "source": [
    "# Remove rows where 'comune' is either 'Sassofeltrio' or 'Montecopiolo'\n",
    "df_data = df_data[~df_data['comune'].isin(['Sassofeltrio', 'Montecopiolo'])]\n",
    "\n",
    "# Use .str.replace() to handle string replacement more safely\n",
    "df_data['comune'] = df_data['comune'].str.replace(\"Forli'\", \"Forlì\", regex=False)\n",
    "df_data['comune'] = df_data['comune'].str.replace(\"Montescudo - Monte Colombo\", \"Montescudo-Monte Colombo\", regex=False)"
   ]
  },
  {
   "cell_type": "code",
   "execution_count": 10,
   "metadata": {
    "execution": {
     "iopub.execute_input": "2024-11-19T03:47:14.421278Z",
     "iopub.status.busy": "2024-11-19T03:47:14.420867Z",
     "iopub.status.idle": "2024-11-19T03:47:14.427635Z",
     "shell.execute_reply": "2024-11-19T03:47:14.427005Z"
    }
   },
   "outputs": [],
   "source": [
    "df_data.to_csv('../output/risultati_er.csv', index=False, encoding='UTF-8-sig')"
   ]
  }
 ],
 "metadata": {
  "kernelspec": {
   "display_name": "Python 3",
   "language": "python",
   "name": "python3"
  },
  "language_info": {
   "codemirror_mode": {
    "name": "ipython",
    "version": 3
   },
   "file_extension": ".py",
   "mimetype": "text/x-python",
   "name": "python",
   "nbconvert_exporter": "python",
   "pygments_lexer": "ipython3",
   "version": "3.10.15"
  }
 },
 "nbformat": 4,
 "nbformat_minor": 2
}
