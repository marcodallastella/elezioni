{
 "cells": [
  {
   "cell_type": "code",
   "execution_count": null,
   "metadata": {},
   "outputs": [],
   "source": [
    "import requests\n",
    "import json\n",
    "import pandas as pd\n",
    "from time import sleep"
   ]
  },
  {
   "cell_type": "code",
   "execution_count": null,
   "metadata": {},
   "outputs": [],
   "source": [
    "df = pd.read_csv('../output/codici_umbria_er.csv', dtype=str)\n",
    "df_comuni = df[df['tipo'] == 'CM']\n",
    "# Filtering for only Emilia Romagna\n",
    "df_er = df_comuni[df_comuni['cod_regione'] == '08']"
   ]
  },
  {
   "cell_type": "code",
   "execution_count": null,
   "metadata": {},
   "outputs": [],
   "source": [
    "BASE_URL = 'https://eleapi.interno.gov.it/siel/PX/votantiZ/DE/20241117/TE/07/PR/'\n",
    "\n",
    "df_er['url_aff'] = df_er.apply(\n",
    "    lambda row: f\"{BASE_URL}{row['cod_provincia']}/{row['tipo']}/{row['cod_comune']}\", axis=1\n",
    ")\n",
    "\n",
    "df_er['url'] = df_er.apply(\n",
    "    lambda row: f\"https://elezioni.interno.gov.it/risultati/20241117/regionali/votanti/italia/{row['cod_regione']}{row['cod_provincia']}{row['cod_comune']}\", axis=1\n",
    ")\n",
    "df_er.sample(3)"
   ]
  },
  {
   "cell_type": "code",
   "execution_count": null,
   "metadata": {},
   "outputs": [],
   "source": [
    "headers = {\n",
    "    'accept': 'application/json, text/plain, */*',\n",
    "    'accept-language': 'en-US,en;q=0.6',\n",
    "    'dnt': '1',\n",
    "    'origin': 'https://elezioni.interno.gov.it',\n",
    "    'priority': 'u=1, i',\n",
    "    'referer': 'https://elezioni.interno.gov.it/',\n",
    "    'sec-ch-ua-mobile': '?0',\n",
    "    'sec-ch-ua-platform': '\"macOS\"',\n",
    "    'sec-fetch-dest': 'empty',\n",
    "    'sec-fetch-mode': 'cors',\n",
    "    'sec-fetch-site': 'same-site',\n",
    "    'sec-gpc': '1'\n",
    "}"
   ]
  },
  {
   "cell_type": "code",
   "execution_count": null,
   "metadata": {},
   "outputs": [],
   "source": [
    "print(f\"Total URLs to process: {len(df_er['url_aff'])}\")\n",
    "\n",
    "comuni_data = []\n",
    "\n",
    "for idx, url in enumerate(df_er['url_aff']):\n",
    "    print(f\"\\nProcessing record {idx + 1}\")\n",
    "    print(f\"URL: {url}\")\n",
    "\n",
    "    response = requests.get(url, headers=headers)\n",
    "    print(f\"Response status code: {response.status_code}\")\n",
    "    \n",
    "    data = response.json()\n",
    "    \n",
    "    provincia = df_er.iloc[idx]['provincia']\n",
    "    regione = df_er.iloc[idx]['regione']\n",
    "    url = df_er.iloc[idx]['url']\n",
    "    print(f\"Processing data for Provincia: {provincia}, Regione: {regione}\")\n",
    "\n",
    "    # Get total number of updates available\n",
    "    n_updates = len(data['enti']['ente_p']['com_vot'])\n",
    "    print(f\"Number of updates available: {n_updates}\")\n",
    "\n",
    "    # Process each update\n",
    "    for n_update in range(n_updates):\n",
    "        raw_dt_com = str(data['enti']['ente_p']['com_vot'][n_update]['dt_com'])\n",
    "        date = raw_dt_com[:8]\n",
    "        time = raw_dt_com[8:12]\n",
    "\n",
    "        formatted_date = f\"{date[:4]}-{date[4:6]}-{date[6:]}\"\n",
    "        formatted_time = f\"{time[:2]}:{time[2:]}\"\n",
    "        print(f\"Processing update {n_update + 1}/{n_updates} - Timestamp: {formatted_date} {formatted_time}\")\n",
    "\n",
    "        comune_info = {\n",
    "            'ele_info': data['int']['t_ele'],\n",
    "            'comune': data['enti']['ente_p']['desc'],\n",
    "            'provincia': provincia,\n",
    "            'regione': regione,\n",
    "            'ele_f': data['enti']['ente_p']['ele_f'],\n",
    "            'ele_m': data['enti']['ente_p']['ele_m'],\n",
    "            'ele_t': data['enti']['ente_p']['ele_t'],\n",
    "            'perc': data['enti']['ente_p']['com_vot'][n_update]['perc'],\n",
    "            'perc_r': data['enti']['ente_p']['com_vot'][n_update]['perc_r'],\n",
    "            'vot_t': data['enti']['ente_p']['com_vot'][n_update]['vot_t'],\n",
    "            'data': formatted_date,\n",
    "            'ora': formatted_time,\n",
    "            'update_number': n_update,\n",
    "            'url': url\n",
    "        }\n",
    "        \n",
    "        print(f\"Comune: {comune_info['comune']} - Update {n_update}\")\n",
    "        print(f\"Electoral data - Total: {comune_info['ele_t']}, Female: {comune_info['ele_f']}, Male: {comune_info['ele_m']}\")\n",
    "        print(f\"Voting percentage: {comune_info['perc']}%, Reporting percentage: {comune_info['perc_r']}%\")\n",
    "\n",
    "        comuni_data.append(comune_info)\n",
    "    \n",
    "    print(f\"Waiting 0.2 seconds before next request...\")\n",
    "    sleep(0.2)\n",
    "\n",
    "print(\"\\nCreating DataFrame...\")\n",
    "df_data = pd.DataFrame(comuni_data)\n",
    "\n",
    "print(\"\\nConverting percentage columns to float...\")\n",
    "df_data['perc_r'] = df_data['perc_r'].str.replace(',', '.').astype(float)\n",
    "df_data['perc'] = df_data['perc'].str.replace(',', '.').astype(float)\n",
    "\n",
    "print(\"\\nFinal DataFrame shape:\", df_data.shape)\n",
    "print(\"\\nSample of processed data:\")\n",
    "print(df_data.head())"
   ]
  },
  {
   "cell_type": "code",
   "execution_count": null,
   "metadata": {},
   "outputs": [],
   "source": [
    "df_data['comune'] = df_data['comune'].str.title()\n",
    "df_data['provincia'] = df_data['provincia'].str.title()\n",
    "df_data['regione'] = df_data['regione'].str.title()\n",
    "df_data"
   ]
  },
  {
   "cell_type": "code",
   "execution_count": null,
   "metadata": {},
   "outputs": [],
   "source": [
    "df_data['perc_diff'] = round(((df_data['perc'] - df_data['perc_r']) / df_data['perc_r']) * 100, 2)\n",
    "df_data.sample(5)"
   ]
  },
  {
   "cell_type": "code",
   "execution_count": null,
   "metadata": {},
   "outputs": [],
   "source": [
    "df_data.to_csv('../output/affluenze_er.csv', index=False, encoding='UTF-8-sig')"
   ]
  },
  {
   "cell_type": "code",
   "execution_count": null,
   "metadata": {},
   "outputs": [],
   "source": [
    "# Find the latest update_number where perc is not 0\n",
    "latest_update = df_data[df_data['perc'] != 0]['update_number'].max()\n",
    "print(f\"Latest update number with non-zero percentages: {latest_update}\")\n",
    "\n",
    "# Filter DataFrame to only include rows from that update\n",
    "latest_data = df_data[df_data['update_number'] == latest_update]\n",
    "print(f\"\\nShape of filtered data: {latest_data.shape}\")\n",
    "\n",
    "# Remove rows where 'comune' is either 'Sassofeltrio' or 'Montecopiolo'\n",
    "latest_data = latest_data[~latest_data['comune'].isin(['Sassofeltrio', 'Montecopiolo'])]\n",
    "\n",
    "# Use .str.replace() to handle string replacement more safely\n",
    "latest_data['comune'] = latest_data['comune'].str.replace(\"Forli'\", \"Forlì\", regex=False)\n",
    "latest_data['comune'] = latest_data['comune'].str.replace(\"Montescudo - Monte Colombo\", \"Montescudo-Monte Colombo\", regex=False)\n",
    "\n",
    "\n",
    "\n",
    "# Save to CSV\n",
    "latest_data.to_csv('../output/viz/affluenze_er_latest.csv', index=False, encoding='UTF-8-sig')"
   ]
  },
  {
   "cell_type": "code",
   "execution_count": null,
   "metadata": {},
   "outputs": [],
   "source": []
  }
 ],
 "metadata": {
  "kernelspec": {
   "display_name": "Python 3",
   "language": "python",
   "name": "python3"
  },
  "language_info": {
   "codemirror_mode": {
    "name": "ipython",
    "version": 3
   },
   "file_extension": ".py",
   "mimetype": "text/x-python",
   "name": "python",
   "nbconvert_exporter": "python",
   "pygments_lexer": "ipython3",
   "version": "3.10.11"
  }
 },
 "nbformat": 4,
 "nbformat_minor": 2
}
