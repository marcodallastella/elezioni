{
 "cells": [
  {
   "cell_type": "code",
   "execution_count": null,
   "metadata": {},
   "outputs": [],
   "source": [
    "import pandas as pd\n",
    "from io import StringIO\n",
    "\n",
    "def read_and_clean_data(data):\n",
    "    # Clean data and convert to DataFrame\n",
    "    df = pd.read_csv(StringIO(data), sep=';', quotechar='\"')\n",
    "    \n",
    "    # Convert vote columns to numeric\n",
    "    numeric_cols = ['VOTI_LISTA', 'VOTI_CANDIDATO', 'VOTANTI']\n",
    "    for col in numeric_cols:\n",
    "        df[col] = pd.to_numeric(df[col].str.replace(',', '.'), errors='coerce')\n",
    "    \n",
    "    return df\n",
    "\n",
    "def transform_to_structured_format(df):\n",
    "    # Get unique candidates and parties\n",
    "    candidates = df[['COGNOME', 'NOME']].drop_duplicates()\n",
    "    parties = df['LISTA'].unique()\n",
    "    \n",
    "    # Create base DataFrame with comuni\n",
    "    result_df = pd.DataFrame()\n",
    "    result_df['comune'] = df['COMUNE'].unique()\n",
    "    result_df['provincia'] = df.groupby('COMUNE')['PROVINCIA'].first()\n",
    "    result_df['regione'] = df.groupby('COMUNE')['REGIONE'].first()\n",
    "    \n",
    "    # Group votes by comune\n",
    "    grouped = df.groupby(['COMUNE', 'LISTA', 'COGNOME', 'NOME']).agg({\n",
    "        'VOTI_LISTA': 'sum',\n",
    "        'VOTI_CANDIDATO': 'sum',\n",
    "        'VOTANTI': 'first'\n",
    "    }).reset_index()\n",
    "    \n",
    "    # Add columns for each party and candidate\n",
    "    for _, candidate in candidates.iterrows():\n",
    "        candidate_name = f\"{candidate['COGNOME']} {candidate['NOME']}\"\n",
    "        result_df[f'{candidate_name}_total_votes'] = 0\n",
    "        result_df[f'{candidate_name}_total_perc'] = 0.0\n",
    "    \n",
    "    for party in parties:\n",
    "        result_df[party] = 0\n",
    "        result_df[f'{party}_perc'] = 0.0\n",
    "    \n",
    "    # Fill in values\n",
    "    for _, row in grouped.iterrows():\n",
    "        comune_idx = result_df[result_df['comune'] == row['COMUNE']].index[0]\n",
    "        party = row['LISTA']\n",
    "        candidate_name = f\"{row['COGNOME']} {row['NOME']}\"\n",
    "        \n",
    "        # Update party votes and percentage\n",
    "        result_df.loc[comune_idx, party] = row['VOTI_LISTA']\n",
    "        if row['VOTANTI'] > 0:\n",
    "            result_df.loc[comune_idx, f'{party}_perc'] = round(row['VOTI_LISTA'] / row['VOTANTI'] * 100, 2)\n",
    "        \n",
    "        # Update candidate votes and percentage\n",
    "        result_df.loc[comune_idx, f'{candidate_name}_total_votes'] = row['VOTI_CANDIDATO']\n",
    "        if row['VOTANTI'] > 0:\n",
    "            result_df.loc[comune_idx, f'{candidate_name}_total_perc'] = round(row['VOTI_CANDIDATO'] / row['VOTANTI'] * 100, 2)\n",
    "    \n",
    "    return result_df\n",
    "\n",
    "def main():\n",
    "    # Read data\n",
    "    with open('../data/regionali-20191027/regionali-20191027.txt', 'r', encoding='utf-8') as file:\n",
    "        data = file.read()\n",
    "    \n",
    "    df = read_and_clean_data(data)\n",
    "    result_df = transform_to_structured_format(df)\n",
    "    \n",
    "    # Save processed datas\n",
    "    result_df.to_csv('../output/risultati_um_2019.csv', index=False, encoding='UTF-8')\n",
    "    print(\"Data saved as: risultati_um_2019.csv\")\n",
    "\n",
    "if __name__ == \"__main__\":\n",
    "    main()"
   ]
  },
  {
   "cell_type": "markdown",
   "metadata": {},
   "source": [
    "## Now mergin with the new data"
   ]
  },
  {
   "cell_type": "code",
   "execution_count": null,
   "metadata": {},
   "outputs": [],
   "source": [
    "# Read the transformed data\n",
    "df = pd.read_csv('../output/risultati_um_2019.csv')\n",
    "\n",
    "# Print original columns to verify we have the right candidate columns\n",
    "print(\"Original columns:\")\n",
    "print(df.columns.tolist())\n",
    "\n",
    "# Select and rename the columns we want\n",
    "clean_df = df[['comune', \n",
    "               'BIANCONI VINCENZO_total_votes', 'BIANCONI VINCENZO_total_perc',\n",
    "               'TESEI DONATELLA_total_votes', 'TESEI DONATELLA_total_perc']]\n",
    "\n",
    "# Rename columns to make them cleaner\n",
    "clean_df = clean_df.rename(columns={\n",
    "    'BIANCONI VINCENZO_total_votes': 'CSX_votes_2019',\n",
    "    'BIANCONI VINCENZO_total_perc': 'CSX_perc_2019',\n",
    "    'TESEI DONATELLA_total_votes': 'CDX_votes_2019',\n",
    "    'TESEI DONATELLA_total_perc': 'CDX_perc_2019'\n",
    "})\n",
    "\n",
    "# Display the first few rows of the cleaned dataset\n",
    "print(\"\\nCleaned data preview:\")\n",
    "print(clean_df.head())\n",
    "\n",
    "# Display some basic statistics\n",
    "print(\"\\nBasic statistics:\")\n",
    "print(clean_df.describe())\n",
    "\n",
    "clean_df['comune'] = clean_df['comune'].str.strip().str.title()"
   ]
  },
  {
   "cell_type": "code",
   "execution_count": null,
   "metadata": {},
   "outputs": [],
   "source": [
    "df2 = pd.read_csv('../output/risultati_um.csv')\n",
    "\n",
    "# Print original columns to verify we have the right candidate columns\n",
    "print(\"Original columns:\")\n",
    "print(df.columns.tolist())\n",
    "\n",
    "# Select and rename the columns we want\n",
    "clean_df2 = df2[['comune', 'provincia', 'regione',\n",
    "               'STEFANIA PROIETTI_total_votes', 'STEFANIA PROIETTI_total_perc',\n",
    "               'DONATELLA TESEI_total_votes', 'DONATELLA TESEI_total_perc']]\n",
    "\n",
    "# Rename columns to make them cleaner\n",
    "clean_df2 = clean_df2.rename(columns={\n",
    "    'STEFANIA PROIETTI_total_votes': 'CSX_votes_2024',\n",
    "    'STEFANIA PROIETTI_total_perc': 'CSX_perc_2024',\n",
    "    'DONATELLA TESEI_total_votes': 'CDX_votes_2024',\n",
    "    'DONATELLA TESEI_total_perc': 'CDX_perc_2024'\n",
    "})\n",
    "\n",
    "# Display the first few rows of the cleaned dataset\n",
    "print(\"\\nCleaned data preview:\")\n",
    "print(clean_df2.head())\n",
    "\n",
    "clean_df2.sample(5)"
   ]
  },
  {
   "cell_type": "code",
   "execution_count": null,
   "metadata": {},
   "outputs": [],
   "source": [
    "merged_df = pd.merge(clean_df, clean_df2, on='comune', how='inner')\n",
    "merged_df"
   ]
  },
  {
   "cell_type": "code",
   "execution_count": null,
   "metadata": {},
   "outputs": [],
   "source": [
    "merged_df['CSX_perc_2024'] = merged_df['CSX_perc_2024'].str.replace(',','.').astype(float)\n",
    "merged_df['CDX_perc_2024'] = merged_df['CDX_perc_2024'].str.replace(',','.').astype(float)\n",
    "\n",
    "merged_df.sample(5)"
   ]
  },
  {
   "cell_type": "code",
   "execution_count": null,
   "metadata": {},
   "outputs": [],
   "source": [
    "merged_df['margin_2019'] = merged_df['CSX_perc_2019'] - merged_df['CDX_perc_2019']\n",
    "merged_df['margin_2024'] = merged_df['CSX_perc_2024'] - merged_df['CDX_perc_2024']\n",
    "merged_df['margin_shift'] = merged_df['margin_2024'] - merged_df['margin_2019']"
   ]
  },
  {
   "cell_type": "code",
   "execution_count": null,
   "metadata": {},
   "outputs": [],
   "source": [
    "# Basic cleaning for Datawrapper integration\n",
    "merged_df['comune'] = merged_df['comune'].str.replace(\"Citta'\", \"Città\", regex=False)"
   ]
  },
  {
   "cell_type": "markdown",
   "metadata": {},
   "source": [
    "### geolocating"
   ]
  },
  {
   "cell_type": "code",
   "execution_count": null,
   "metadata": {},
   "outputs": [],
   "source": [
    "from geopy.geocoders import Nominatim\n",
    "from geopy.extra.rate_limiter import RateLimiter\n",
    "import time"
   ]
  },
  {
   "cell_type": "code",
   "execution_count": null,
   "metadata": {},
   "outputs": [],
   "source": [
    "# Create the geocoder\n",
    "geolocator = Nominatim(user_agent='my_geocoder')\n",
    "# Create a delay between requests to respect usage limits\n",
    "geocode = RateLimiter(geolocator.geocode, min_delay_seconds=1)\n",
    "\n",
    "def get_location(row):\n",
    "    try:\n",
    "        # Create a complete address string\n",
    "        address = f\"{row['comune']}, {row['provincia']}, {row['regione']}, Italy\"\n",
    "        location = geocode(address)\n",
    "        if location:\n",
    "            return pd.Series([location.latitude, location.longitude])\n",
    "        else:\n",
    "            return pd.Series([None, None])\n",
    "    except Exception as e:\n",
    "        print(f\"Error geocoding {row['comune']}: {str(e)}\")\n",
    "        return pd.Series([None, None])"
   ]
  },
  {
   "cell_type": "code",
   "execution_count": null,
   "metadata": {},
   "outputs": [],
   "source": [
    "# Add coordinates\n",
    "print(\"Starting geocoding process...\")\n",
    "merged_df[['latitude', 'longitude']] = merged_df.apply(get_location, axis=1)\n",
    "\n",
    "# Check for any missing coordinates\n",
    "missing_coords = merged_df[merged_df['latitude'].isna() | merged_df['longitude'].isna()]\n",
    "if not missing_coords.empty:\n",
    "    print(\"\\nWarning: Could not find coordinates for these comuni:\")\n",
    "    print(missing_coords[['comune', 'provincia']])\n",
    "\n",
    "# Display sample of results\n",
    "print(\"\\nSample of geocoded results:\")\n",
    "print(merged_df[['comune', 'provincia', 'latitude', 'longitude']].head())\n"
   ]
  },
  {
   "cell_type": "code",
   "execution_count": null,
   "metadata": {},
   "outputs": [],
   "source": [
    "merged_df['margin_2019'] = merged_df['CDX_perc_2019'] - merged_df['CSX_perc_2019']\n",
    "merged_df['margin_2024'] = merged_df['CDX_perc_2024'] - merged_df['CSX_perc_2024']\n",
    "merged_df['margin_shift'] = merged_df['margin_2024'] - merged_df['margin_2019']"
   ]
  },
  {
   "cell_type": "code",
   "execution_count": null,
   "metadata": {},
   "outputs": [],
   "source": [
    "merged_df.to_csv('../output/viz/margini_elettorali_UM.csv', index=False, encoding='UTF-8')"
   ]
  }
 ],
 "metadata": {
  "kernelspec": {
   "display_name": "Python 3",
   "language": "python",
   "name": "python3"
  },
  "language_info": {
   "codemirror_mode": {
    "name": "ipython",
    "version": 3
   },
   "file_extension": ".py",
   "mimetype": "text/x-python",
   "name": "python",
   "nbconvert_exporter": "python",
   "pygments_lexer": "ipython3",
   "version": "3.10.11"
  }
 },
 "nbformat": 4,
 "nbformat_minor": 2
}
