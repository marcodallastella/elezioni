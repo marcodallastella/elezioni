{
 "cells": [
  {
   "cell_type": "code",
   "execution_count": null,
   "metadata": {},
   "outputs": [],
   "source": [
    "import requests\n",
    "import json\n",
    "import pandas as pd"
   ]
  },
  {
   "cell_type": "code",
   "execution_count": null,
   "metadata": {},
   "outputs": [],
   "source": [
    "headers = {\n",
    "    'accept': 'application/json, text/plain, */*',\n",
    "    'accept-language': 'en-US,en;q=0.6',\n",
    "    'dnt': '1',\n",
    "    'origin': 'https://elezioni.interno.gov.it',\n",
    "    'priority': 'u=1, i',\n",
    "    'referer': 'https://elezioni.interno.gov.it/',\n",
    "    'sec-ch-ua-mobile': '?0',\n",
    "    'sec-ch-ua-platform': '\"macOS\"',\n",
    "    'sec-fetch-dest': 'empty',\n",
    "    'sec-fetch-mode': 'cors',\n",
    "    'sec-fetch-site': 'same-site',\n",
    "    'sec-gpc': '1',\n",
    "\n",
    "}\n",
    "\n",
    "url = 'https://eleapi.interno.gov.it/siel/PX/getentiR/DE/20241117'\n",
    "\n",
    "response = requests.get(url, headers=headers)\n",
    "data = response.json()"
   ]
  },
  {
   "cell_type": "code",
   "execution_count": null,
   "metadata": {},
   "outputs": [],
   "source": [
    "enti_data = []\n",
    "\n",
    "for ente in data['enti']:\n",
    "  ente_info = {\n",
    "    'cod' : ente['cod'],\n",
    "    'desc' : ente['desc'],\n",
    "    'tipo': ente['tipo'],\n",
    "    'tipo_comune': ente['tipo_comune'],\n",
    "    'dt_agg': ente['dt_agg'],\n",
    "    'cod_ele': ente['cod_ele']\n",
    "  }\n",
    "\n",
    "  enti_data.append(ente_info)\n",
    "\n",
    "enti_df = pd.DataFrame(enti_data)\n",
    "\n",
    "enti_df.head(2)"
   ]
  },
  {
   "cell_type": "code",
   "execution_count": null,
   "metadata": {},
   "outputs": [],
   "source": [
    "df_pr = enti_df[enti_df['tipo'] == 'PR']\n",
    "province_mapping = df_pr.set_index(df_pr['cod'].str[2:5])['desc'].to_dict()\n",
    "\n",
    "def map_provincia(cod):\n",
    "    provincia_cod = cod[2:5]  # Extract the province code (3rd to 5th digits)\n",
    "    return province_mapping.get(provincia_cod, 'Unknown')\n",
    "\n",
    "df_re = enti_df[enti_df['tipo'] == 'RE']\n",
    "regione_mapping = df_re.set_index(df_re['cod'].str[:2])['desc'].to_dict()\n",
    "\n",
    "def map_regione(cod):\n",
    "    regione_cod = cod[:2]  # Extract the province code (3rd to 5th digits)\n",
    "    return regione_mapping.get(regione_cod, 'Unknown')"
   ]
  },
  {
   "cell_type": "code",
   "execution_count": null,
   "metadata": {},
   "outputs": [],
   "source": [
    "enti_df['cod_regione'] = enti_df['cod'].str[:2]\n",
    "enti_df['regione'] = enti_df['cod'].apply(map_regione)\n",
    "\n",
    "enti_df['cod_provincia'] = enti_df['cod'].str[2:5]\n",
    "enti_df['provincia'] = enti_df['cod'].apply(map_provincia)\n",
    "\n",
    "enti_df['cod_provincia_2'] = enti_df['cod'].str[5:8]\n",
    "enti_df['provincia'] = enti_df['cod'].apply(map_provincia)\n",
    "\n",
    "enti_df['cod_comune'] = enti_df['cod'].str.slice(-4)\n",
    "\n",
    "enti_df.head(2)"
   ]
  },
  {
   "cell_type": "code",
   "execution_count": null,
   "metadata": {},
   "outputs": [],
   "source": [
    "enti_df.to_csv('../output/codici_umbria_er.csv', index=False, encoding='UTF-8-sig')"
   ]
  }
 ],
 "metadata": {
  "kernelspec": {
   "display_name": "Python 3",
   "language": "python",
   "name": "python3"
  },
  "language_info": {
   "codemirror_mode": {
    "name": "ipython",
    "version": 3
   },
   "file_extension": ".py",
   "mimetype": "text/x-python",
   "name": "python",
   "nbconvert_exporter": "python",
   "pygments_lexer": "ipython3",
   "version": "3.10.11"
  }
 },
 "nbformat": 4,
 "nbformat_minor": 2
}
