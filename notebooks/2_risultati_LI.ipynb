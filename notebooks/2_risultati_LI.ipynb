{
 "cells": [
  {
   "cell_type": "code",
   "execution_count": null,
   "metadata": {},
   "outputs": [],
   "source": [
    "import requests\n",
    "import json\n",
    "import pandas as pd\n",
    "from time import sleep"
   ]
  },
  {
   "cell_type": "code",
   "execution_count": null,
   "metadata": {},
   "outputs": [],
   "source": [
    "df = pd.read_csv('../output/codici_li.csv', dtype=str)\n",
    "# Filtering for only Comuni\n",
    "df_comuni = df[df['tipo'] == 'CM']"
   ]
  },
  {
   "cell_type": "code",
   "execution_count": null,
   "metadata": {},
   "outputs": [],
   "source": [
    "# Create a copy of the DataFrame to avoid the warning\n",
    "df_comuni = df_comuni.copy()\n",
    "\n",
    "BASE_URL = 'https://eleapi.interno.gov.it/siel/PX/scrutiniR/DE/20241027/TE/07/RE/'\n",
    "\n",
    "df_comuni['url_aff'] = df_comuni.apply(\n",
    "    lambda row: f\"{BASE_URL}{row['cod_regione']}/PR/{row['cod_provincia_2']}/CM/{row['cod_comune']}\", axis=1\n",
    ")\n",
    "\n",
    "df_comuni['url'] = df_comuni.apply(\n",
    "    lambda row: f\"https://elezioni.interno.gov.it/risultati/20241117/regionali/scrutini/italia/{row['cod_regione']}{row['cod_provincia']}{row['cod_comune']}\", axis=1\n",
    ")"
   ]
  },
  {
   "cell_type": "code",
   "execution_count": null,
   "metadata": {},
   "outputs": [],
   "source": [
    "headers = {\n",
    "    'accept': 'application/json, text/plain, */*',\n",
    "    'accept-language': 'en-US,en;q=0.6',\n",
    "    'dnt': '1',\n",
    "    'origin': 'https://elezioni.interno.gov.it',\n",
    "    'priority': 'u=1, i',\n",
    "    'referer': 'https://elezioni.interno.gov.it/',\n",
    "    'sec-ch-ua-mobile': '?0',\n",
    "    'sec-ch-ua-platform': '\"macOS\"',\n",
    "    'sec-fetch-dest': 'empty',\n",
    "    'sec-fetch-mode': 'cors',\n",
    "    'sec-fetch-site': 'same-site',\n",
    "    'sec-gpc': '1'\n",
    "}"
   ]
  },
  {
   "cell_type": "code",
   "execution_count": null,
   "metadata": {},
   "outputs": [],
   "source": [
    "comuni_data = []\n",
    "\n",
    "for idx, url in enumerate(df_comuni['url_aff']):\n",
    "  response = requests.get(url, headers=headers)\n",
    "  data = response.json()\n",
    "\n",
    "  comune = df_comuni.iloc[idx]['desc']\n",
    "  provincia = df_comuni.iloc[idx]['provincia']\n",
    "  regione = df_comuni.iloc[idx]['regione']\n",
    "  url = df_comuni.iloc[idx]['url']\n",
    "\n",
    "  # Initialize comune_info with basic location details\n",
    "  comune_info = {\n",
    "      'comune': comune,\n",
    "      'provincia': provincia,\n",
    "      'regione': regione,\n",
    "      'url': url\n",
    "  }\n",
    "  \n",
    "  # Track unique parties and candidate data\n",
    "  if 'cand' in data:\n",
    "      # First, collect party information\n",
    "      for cand in data['cand']:\n",
    "          if 'liste' in cand:\n",
    "              for lista in cand['liste']:\n",
    "                  party_name = lista['desc_lis_c']\n",
    "                  comune_info[party_name] = lista['voti']\n",
    "                  comune_info[f\"{party_name}_perc\"] = lista['perc']\n",
    "      \n",
    "      # Then, add candidate information\n",
    "      for cand in data['cand']:\n",
    "          nome_completo = f\"{cand['nome']} {cand['cogn']}\"\n",
    "          comune_info[f\"{nome_completo}_total_votes\"] = cand['voti']\n",
    "          comune_info[f\"{nome_completo}_total_perc\"] = cand['perc']\n",
    "\n",
    "  comuni_data.append(comune_info)\n",
    "  \n",
    "  sleep(0.1)\n",
    "\n",
    "# Create DataFrame\n",
    "df_data = pd.DataFrame(comuni_data)"
   ]
  },
  {
   "cell_type": "code",
   "execution_count": null,
   "metadata": {},
   "outputs": [],
   "source": [
    "df_data['comune'] = df_data['comune'].str.title()\n",
    "df_data['provincia'] = df_data['provincia'].str.title()\n",
    "df_data['regione'] = df_data['regione'].str.title()\n",
    "df_data.head(2)"
   ]
  },
  {
   "cell_type": "code",
   "execution_count": null,
   "metadata": {},
   "outputs": [],
   "source": [
    "df_data.to_csv('../output/risultati_LI.csv', index=False, encoding='UTF-8-sig')"
   ]
  },
  {
   "cell_type": "markdown",
   "metadata": {},
   "source": [
    "### Formatting for Datawrapper visualization"
   ]
  },
  {
   "cell_type": "code",
   "execution_count": null,
   "metadata": {},
   "outputs": [],
   "source": [
    "candidates = df_data[['comune', 'provincia', 'regione', 'MARCO BUCCI_total_votes', 'MARCO BUCCI_total_perc', 'ANDREA ORLANDO_total_votes', 'ANDREA ORLANDO_total_perc']]\n",
    "\n",
    "candidates.head(2)"
   ]
  },
  {
   "cell_type": "code",
   "execution_count": null,
   "metadata": {},
   "outputs": [],
   "source": [
    "# Basic cleaning for Datawrapper integration\n",
    "candidates['comune'] = candidates['comune'].str.replace(\"Ricco'\", \"Riccò\", regex=False)\n",
    "candidates['comune'] = candidates['comune'].str.replace(\"Prela'\", \"Prelà\", regex=False)"
   ]
  },
  {
   "cell_type": "code",
   "execution_count": null,
   "metadata": {},
   "outputs": [],
   "source": [
    "# Calculate the left-right index\n",
    "candidates['left_right_index'] = (candidates['MARCO BUCCI_total_votes'] - candidates['ANDREA ORLANDO_total_votes']) / (candidates['MARCO BUCCI_total_votes'] + candidates['ANDREA ORLANDO_total_votes'])\n",
    "candidates.sample(5)"
   ]
  },
  {
   "cell_type": "code",
   "execution_count": null,
   "metadata": {},
   "outputs": [],
   "source": [
    "candidates.to_csv('../output/viz/ris_candidati_LI.csv', index=False, encoding='UTF-8-sig')"
   ]
  }
 ],
 "metadata": {
  "kernelspec": {
   "display_name": "Python 3",
   "language": "python",
   "name": "python3"
  },
  "language_info": {
   "codemirror_mode": {
    "name": "ipython",
    "version": 3
   },
   "file_extension": ".py",
   "mimetype": "text/x-python",
   "name": "python",
   "nbconvert_exporter": "python",
   "pygments_lexer": "ipython3",
   "version": "3.10.11"
  }
 },
 "nbformat": 4,
 "nbformat_minor": 2
}
